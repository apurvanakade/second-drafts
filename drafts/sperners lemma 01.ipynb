{
 "cells": [
  {
   "cell_type": "markdown",
   "id": "75320f8b",
   "metadata": {},
   "source": [
    "---\n",
    "title: Sperner's Lemma - Part 1\n",
    "author: Apurva Nakade\n",
    "date: 2025-05-07 17:11:43\n",
    "categories: [math, combinatorics, graph theory]\n",
    "execute:\n",
    "  echo: false\n",
    "  warning: false\n",
    "---"
   ]
  },
  {
   "cell_type": "code",
   "execution_count": 1,
   "id": "bb046435",
   "metadata": {},
   "outputs": [],
   "source": [
    "import matplotlib.pyplot as plt\n",
    "import numpy as np\n",
    "\n",
    "import plotly.io as pio\n",
    "# pio.renderers.default = \"vscode\"\n",
    "import plotly.graph_objects as go\n"
   ]
  },
  {
   "cell_type": "markdown",
   "id": "36868c5c",
   "metadata": {},
   "source": [
    "what is sperner's lemma?\n",
    "\n",
    "Monsky's theorem\n",
    "\n",
    "baricentric coordinates, delauney triangulations\n",
    "\n",
    "generating random triangulations\n",
    "\n",
    "---\n",
    "\n",
    "I recently encountered [Monsky's theorem](https://en.wikipedia.org/wiki/Monsky%27s_theorem) about the impossibility of dividing the square into an odd number of equal area triangles. It got me thinking about the Sperner's lemma on a long hike I was on. I love doing proofs in my head and I tried recreating the Sperner's proof but could not figure it out no matter what until I realized I was missing the Sperner condition. And once I did that it all fit together perfectly. But for the first time, it also made me see the connection between Sperner's lemma and algebraic topology.\n",
    "\n",
    "The classical version of Sperner's lemma states the following\n",
    "\n",
    "::: {.thm-sperners-lemma}\n",
    "\n",
    "Let $T$ be a triangle subdivided into smaller triangles such that:\n",
    "\n",
    "1. Each vertex of the subdivision is labeled with one of three labels $1, 2, 3$.\n",
    "2. The vertices of the outer triangle $T$ are labeled $1, 2, 3$ in some order.\n",
    "3. Each vertex on an edge of $T$ is labeled with one of the two labels of that edge.\n",
    "\n",
    "Then, there exists at least one subtriangle in the subdivision whose vertices are labeled with all three labels $1, 2, 3$.\n",
    "\n",
    ":::\n",
    "\n",
    "The third condition is the one I was missing - the so called **Sperner condition**. We call the subtriangle with all three colors a **rainbow triangle**. So Sperner's lemma can be stated as saying that for any triangulation of a triangle that satisfies the Sperner condition, there is a rainbow triangle. \n",
    "\n",
    "\n",
    "## Barycentric Coordinates\n",
    "\n",
    "I know the proof, multiple proofs actually, but just for fun I want to see this in action. How do I generated random colorings and random triangulations? It's my old friend barycentric coordinates."
   ]
  },
  {
   "cell_type": "code",
   "execution_count": 2,
   "id": "f4e6da6c",
   "metadata": {},
   "outputs": [
    {
     "data": {
      "image/png": "[encoded data removed]",
      "text/plain": [
       "<Figure size 640x480 with 1 Axes>"
      ]
     },
     "metadata": {},
     "output_type": "display_data"
    }
   ],
   "source": [
    "N = 10 \n",
    "\n",
    "# generate triples of non-negative integers (i, j, k) such that i + j + k = N \n",
    "triples = [(i, j, N - i - j) for i in range(N + 1) for j in range(N - i + 1)]\n",
    "\n",
    "triangle = np.array([[0, 0], [2*N, 0], [N, N]])\n",
    "\n",
    "# Generate sub-triangles using triples as barycentric coordinates\n",
    "vertices_regular = np.array([(t[0] / N) * triangle[0] + (t[1] / N) * triangle[1] + (t[2] / N) * triangle[2] for t in triples])\n",
    "\n",
    "# plot the vertices_regular on the plane\n",
    "plt.scatter(vertices_regular[:, 0], vertices_regular[:, 1], s=10, c='blue', alpha=0.6)\n",
    "plt.title(\"Vertices of Sub-triangles\")\n",
    "plt.xlabel(\"X-axis\")\n",
    "plt.ylabel(\"Y-axis\")\n",
    "plt.show()"
   ]
  },
  {
   "cell_type": "code",
   "execution_count": 3,
   "id": "62b48431",
   "metadata": {},
   "outputs": [
    {
     "data": {
      "application/vnd.plotly.v1+json": {
       "config": {
        "plotlyServerURL": "https://plot.ly"
       },
       "data": [
        {
         "marker": {
          "color": "red",
          "size": 10
         },
         "mode": "markers",
         "name": "Red Dot",
         "type": "scatter",
         "x": [
          0
         ],
         "y": [
          0
         ]
        }
       ],
       "layout": {
        "showlegend": false,
        "sliders": [
         {
          "active": 0,
          "name": "x-slider",
          "steps": [
           {
            "args": [
             {
              "x": [
               [
                0
               ]
              ],
              "y": [
               0
              ]
             },
             []
            ],
            "label": "0",
            "method": "update"
           },
           {
            "args": [
             {
              "x": [
               [
                1
               ]
              ],
              "y": [
               0
              ]
             },
             []
            ],
            "label": "1",
            "method": "update"
           },
           {
            "args": [
             {
              "x": [
               [
                2
               ]
              ],
              "y": [
               0
              ]
             },
             []
            ],
            "label": "2",
            "method": "update"
           },
           {
            "args": [
             {
              "x": [
               [
                3
               ]
              ],
              "y": [
               0
              ]
             },
             []
            ],
            "label": "3",
            "method": "update"
           },
           {
            "args": [
             {
              "x": [
               [
                4
               ]
              ],
              "y": [
               0
              ]
             },
             []
            ],
            "label": "4",
            "method": "update"
           },
           {
            "args": [
             {
              "x": [
               [
                5
               ]
              ],
              "y": [
               0
              ]
             },
             []
            ],
            "label": "5",
            "method": "update"
           },
           {
            "args": [
             {
              "x": [
               [
                6
               ]
              ],
              "y": [
               0
              ]
             },
             []
            ],
            "label": "6",
            "method": "update"
           },
           {
            "args": [
             {
              "x": [
               [
                7
               ]
              ],
              "y": [
               0
              ]
             },
             []
            ],
            "label": "7",
            "method": "update"
           },
           {
            "args": [
             {
              "x": [
               [
                8
               ]
              ],
              "y": [
               0
              ]
             },
             []
            ],
            "label": "8",
            "method": "update"
           },
           {
            "args": [
             {
              "x": [
               [
                9
               ]
              ],
              "y": [
               0
              ]
             },
             []
            ],
            "label": "9",
            "method": "update"
           },
           {
            "args": [
             {
              "x": [
               [
                10
               ]
              ],
              "y": [
               0
              ]
             },
             []
            ],
            "label": "10",
            "method": "update"
           }
          ],
          "x": 0,
          "xanchor": "left",
          "y": -1,
          "yanchor": "bottom"
         },
         {
          "active": 0,
          "name": "y-slider",
          "steps": [
           {
            "args": [
             {
              "x": [
               0
              ],
              "y": [
               [
                0
               ]
              ]
             },
             []
            ],
            "label": "0",
            "method": "update"
           },
           {
            "args": [
             {
              "x": [
               0
              ],
              "y": [
               [
                1
               ]
              ]
             },
             []
            ],
            "label": "1",
            "method": "update"
           },
           {
            "args": [
             {
              "x": [
               0
              ],
              "y": [
               [
                2
               ]
              ]
             },
             []
            ],
            "label": "2",
            "method": "update"
           },
           {
            "args": [
             {
              "x": [
               0
              ],
              "y": [
               [
                3
               ]
              ]
             },
             []
            ],
            "label": "3",
            "method": "update"
           },
           {
            "args": [
             {
              "x": [
               0
              ],
              "y": [
               [
                4
               ]
              ]
             },
             []
            ],
            "label": "4",
            "method": "update"
           },
           {
            "args": [
             {
              "x": [
               0
              ],
              "y": [
               [
                5
               ]
              ]
             },
             []
            ],
            "label": "5",
            "method": "update"
           },
           {
            "args": [
             {
              "x": [
               0
              ],
              "y": [
               [
                6
               ]
              ]
             },
             []
            ],
            "label": "6",
            "method": "update"
           },
           {
            "args": [
             {
              "x": [
               0
              ],
              "y": [
               [
                7
               ]
              ]
             },
             []
            ],
            "label": "7",
            "method": "update"
           },
           {
            "args": [
             {
              "x": [
               0
              ],
              "y": [
               [
                8
               ]
              ]
             },
             []
            ],
            "label": "8",
            "method": "update"
           },
           {
            "args": [
             {
              "x": [
               0
              ],
              "y": [
               [
                9
               ]
              ]
             },
             []
            ],
            "label": "9",
            "method": "update"
           },
           {
            "args": [
             {
              "x": [
               0
              ],
              "y": [
               [
                10
               ]
              ]
             },
             []
            ],
            "label": "10",
            "method": "update"
           }
          ],
          "x": 0,
          "xanchor": "left",
          "y": -1.5,
          "yanchor": "middle"
         }
        ],
        "template": {
         "data": {
          "bar": [
           {
            "error_x": {
             "color": "#2a3f5f"
            },
            "error_y": {
             "color": "#2a3f5f"
            },
            "marker": {
             "line": {
              "color": "#E5ECF6",
              "width": 0.5
             },
             "pattern": {
              "fillmode": "overlay",
              "size": 10,
              "solidity": 0.2
             }
            },
            "type": "bar"
           }
          ],
          "barpolar": [
           {
            "marker": {
             "line": {
              "color": "#E5ECF6",
              "width": 0.5
             },
             "pattern": {
              "fillmode": "overlay",
              "size": 10,
              "solidity": 0.2
             }
            },
            "type": "barpolar"
           }
          ],
          "carpet": [
           {
            "aaxis": {
             "endlinecolor": "#2a3f5f",
             "gridcolor": "white",
             "linecolor": "white",
             "minorgridcolor": "white",
             "startlinecolor": "#2a3f5f"
            },
            "baxis": {
             "endlinecolor": "#2a3f5f",
             "gridcolor": "white",
             "linecolor": "white",
             "minorgridcolor": "white",
             "startlinecolor": "#2a3f5f"
            },
            "type": "carpet"
           }
          ],
          "choropleth": [
           {
            "colorbar": {
             "outlinewidth": 0,
             "ticks": ""
            },
            "type": "choropleth"
           }
          ],
          "contour": [
           {
            "colorbar": {
             "outlinewidth": 0,
             "ticks": ""
            },
            "colorscale": [
             [
              0,
              "#0d0887"
             ],
             [
              0.1111111111111111,
              "#46039f"
             ],
             [
              0.2222222222222222,
              "#7201a8"
             ],
             [
              0.3333333333333333,
              "#9c179e"
             ],
             [
              0.4444444444444444,
              "#bd3786"
             ],
             [
              0.5555555555555556,
              "#d8576b"
             ],
             [
              0.6666666666666666,
              "#ed7953"
             ],
             [
              0.7777777777777778,
              "#fb9f3a"
             ],
             [
              0.8888888888888888,
              "#fdca26"
             ],
             [
              1,
              "#f0f921"
             ]
            ],
            "type": "contour"
           }
          ],
          "contourcarpet": [
           {
            "colorbar": {
             "outlinewidth": 0,
             "ticks": ""
            },
            "type": "contourcarpet"
           }
          ],
          "heatmap": [
           {
            "colorbar": {
             "outlinewidth": 0,
             "ticks": ""
            },
            "colorscale": [
             [
              0,
              "#0d0887"
             ],
             [
              0.1111111111111111,
              "#46039f"
             ],
             [
              0.2222222222222222,
              "#7201a8"
             ],
             [
              0.3333333333333333,
              "#9c179e"
             ],
             [
              0.4444444444444444,
              "#bd3786"
             ],
             [
              0.5555555555555556,
              "#d8576b"
             ],
             [
              0.6666666666666666,
              "#ed7953"
             ],
             [
              0.7777777777777778,
              "#fb9f3a"
             ],
             [
              0.8888888888888888,
              "#fdca26"
             ],
             [
              1,
              "#f0f921"
             ]
            ],
            "type": "heatmap"
           }
          ],
          "histogram": [
           {
            "marker": {
             "pattern": {
              "fillmode": "overlay",
              "size": 10,
              "solidity": 0.2
             }
            },
            "type": "histogram"
           }
          ],
          "histogram2d": [
           {
            "colorbar": {
             "outlinewidth": 0,
             "ticks": ""
            },
            "colorscale": [
             [
              0,
              "#0d0887"
             ],
             [
              0.1111111111111111,
              "#46039f"
             ],
             [
              0.2222222222222222,
              "#7201a8"
             ],
             [
              0.3333333333333333,
              "#9c179e"
             ],
             [
              0.4444444444444444,
              "#bd3786"
             ],
             [
              0.5555555555555556,
              "#d8576b"
             ],
             [
              0.6666666666666666,
              "#ed7953"
             ],
             [
              0.7777777777777778,
              "#fb9f3a"
             ],
             [
              0.8888888888888888,
              "#fdca26"
             ],
             [
              1,
              "#f0f921"
             ]
            ],
            "type": "histogram2d"
           }
          ],
          "histogram2dcontour": [
           {
            "colorbar": {
             "outlinewidth": 0,
             "ticks": ""
            },
            "colorscale": [
             [
              0,
              "#0d0887"
             ],
             [
              0.1111111111111111,
              "#46039f"
             ],
             [
              0.2222222222222222,
              "#7201a8"
             ],
             [
              0.3333333333333333,
              "#9c179e"
             ],
             [
              0.4444444444444444,
              "#bd3786"
             ],
             [
              0.5555555555555556,
              "#d8576b"
             ],
             [
              0.6666666666666666,
              "#ed7953"
             ],
             [
              0.7777777777777778,
              "#fb9f3a"
             ],
             [
              0.8888888888888888,
              "#fdca26"
             ],
             [
              1,
              "#f0f921"
             ]
            ],
            "type": "histogram2dcontour"
           }
          ],
          "mesh3d": [
           {
            "colorbar": {
             "outlinewidth": 0,
             "ticks": ""
            },
            "type": "mesh3d"
           }
          ],
          "parcoords": [
           {
            "line": {
             "colorbar": {
              "outlinewidth": 0,
              "ticks": ""
             }
            },
            "type": "parcoords"
           }
          ],
          "pie": [
           {
            "automargin": true,
            "type": "pie"
           }
          ],
          "scatter": [
           {
            "fillpattern": {
             "fillmode": "overlay",
             "size": 10,
             "solidity": 0.2
            },
            "type": "scatter"
           }
          ],
          "scatter3d": [
           {
            "line": {
             "colorbar": {
              "outlinewidth": 0,
              "ticks": ""
             }
            },
            "marker": {
             "colorbar": {
              "outlinewidth": 0,
              "ticks": ""
             }
            },
            "type": "scatter3d"
           }
          ],
          "scattercarpet": [
           {
            "marker": {
             "colorbar": {
              "outlinewidth": 0,
              "ticks": ""
             }
            },
            "type": "scattercarpet"
           }
          ],
          "scattergeo": [
           {
            "marker": {
             "colorbar": {
              "outlinewidth": 0,
              "ticks": ""
             }
            },
            "type": "scattergeo"
           }
          ],
          "scattergl": [
           {
            "marker": {
             "colorbar": {
              "outlinewidth": 0,
              "ticks": ""
             }
            },
            "type": "scattergl"
           }
          ],
          "scattermap": [
           {
            "marker": {
             "colorbar": {
              "outlinewidth": 0,
              "ticks": ""
             }
            },
            "type": "scattermap"
           }
          ],
          "scattermapbox": [
           {
            "marker": {
             "colorbar": {
              "outlinewidth": 0,
              "ticks": ""
             }
            },
            "type": "scattermapbox"
           }
          ],
          "scatterpolar": [
           {
            "marker": {
             "colorbar": {
              "outlinewidth": 0,
              "ticks": ""
             }
            },
            "type": "scatterpolar"
           }
          ],
          "scatterpolargl": [
           {
            "marker": {
             "colorbar": {
              "outlinewidth": 0,
              "ticks": ""
             }
            },
            "type": "scatterpolargl"
           }
          ],
          "scatterternary": [
           {
            "marker": {
             "colorbar": {
              "outlinewidth": 0,
              "ticks": ""
             }
            },
            "type": "scatterternary"
           }
          ],
          "surface": [
           {
            "colorbar": {
             "outlinewidth": 0,
             "ticks": ""
            },
            "colorscale": [
             [
              0,
              "#0d0887"
             ],
             [
              0.1111111111111111,
              "#46039f"
             ],
             [
              0.2222222222222222,
              "#7201a8"
             ],
             [
              0.3333333333333333,
              "#9c179e"
             ],
             [
              0.4444444444444444,
              "#bd3786"
             ],
             [
              0.5555555555555556,
              "#d8576b"
             ],
             [
              0.6666666666666666,
              "#ed7953"
             ],
             [
              0.7777777777777778,
              "#fb9f3a"
             ],
             [
              0.8888888888888888,
              "#fdca26"
             ],
             [
              1,
              "#f0f921"
             ]
            ],
            "type": "surface"
           }
          ],
          "table": [
           {
            "cells": {
             "fill": {
              "color": "#EBF0F8"
             },
             "line": {
              "color": "white"
             }
            },
            "header": {
             "fill": {
              "color": "#C8D4E3"
             },
             "line": {
              "color": "white"
             }
            },
            "type": "table"
           }
          ]
         },
         "layout": {
          "annotationdefaults": {
           "arrowcolor": "#2a3f5f",
           "arrowhead": 0,
           "arrowwidth": 1
          },
          "autotypenumbers": "strict",
          "coloraxis": {
           "colorbar": {
            "outlinewidth": 0,
            "ticks": ""
           }
          },
          "colorscale": {
           "diverging": [
            [
             0,
             "#8e0152"
            ],
            [
             0.1,
             "#c51b7d"
            ],
            [
             0.2,
             "#de77ae"
            ],
            [
             0.3,
             "#f1b6da"
            ],
            [
             0.4,
             "#fde0ef"
            ],
            [
             0.5,
             "#f7f7f7"
            ],
            [
             0.6,
             "#e6f5d0"
            ],
            [
             0.7,
             "#b8e186"
            ],
            [
             0.8,
             "#7fbc41"
            ],
            [
             0.9,
             "#4d9221"
            ],
            [
             1,
             "#276419"
            ]
           ],
           "sequential": [
            [
             0,
             "#0d0887"
            ],
            [
             0.1111111111111111,
             "#46039f"
            ],
            [
             0.2222222222222222,
             "#7201a8"
            ],
            [
             0.3333333333333333,
             "#9c179e"
            ],
            [
             0.4444444444444444,
             "#bd3786"
            ],
            [
             0.5555555555555556,
             "#d8576b"
            ],
            [
             0.6666666666666666,
             "#ed7953"
            ],
            [
             0.7777777777777778,
             "#fb9f3a"
            ],
            [
             0.8888888888888888,
             "#fdca26"
            ],
            [
             1,
             "#f0f921"
            ]
           ],
           "sequentialminus": [
            [
             0,
             "#0d0887"
            ],
            [
             0.1111111111111111,
             "#46039f"
            ],
            [
             0.2222222222222222,
             "#7201a8"
            ],
            [
             0.3333333333333333,
             "#9c179e"
            ],
            [
             0.4444444444444444,
             "#bd3786"
            ],
            [
             0.5555555555555556,
             "#d8576b"
            ],
            [
             0.6666666666666666,
             "#ed7953"
            ],
            [
             0.7777777777777778,
             "#fb9f3a"
            ],
            [
             0.8888888888888888,
             "#fdca26"
            ],
            [
             1,
             "#f0f921"
            ]
           ]
          },
          "colorway": [
           "#636efa",
           "#EF553B",
           "#00cc96",
           "#ab63fa",
           "#FFA15A",
           "#19d3f3",
           "#FF6692",
           "#B6E880",
           "#FF97FF",
           "#FECB52"
          ],
          "font": {
           "color": "#2a3f5f"
          },
          "geo": {
           "bgcolor": "white",
           "lakecolor": "white",
           "landcolor": "#E5ECF6",
           "showlakes": true,
           "showland": true,
           "subunitcolor": "white"
          },
          "hoverlabel": {
           "align": "left"
          },
          "hovermode": "closest",
          "mapbox": {
           "style": "light"
          },
          "paper_bgcolor": "white",
          "plot_bgcolor": "#E5ECF6",
          "polar": {
           "angularaxis": {
            "gridcolor": "white",
            "linecolor": "white",
            "ticks": ""
           },
           "bgcolor": "#E5ECF6",
           "radialaxis": {
            "gridcolor": "white",
            "linecolor": "white",
            "ticks": ""
           }
          },
          "scene": {
           "xaxis": {
            "backgroundcolor": "#E5ECF6",
            "gridcolor": "white",
            "gridwidth": 2,
            "linecolor": "white",
            "showbackground": true,
            "ticks": "",
            "zerolinecolor": "white"
           },
           "yaxis": {
            "backgroundcolor": "#E5ECF6",
            "gridcolor": "white",
            "gridwidth": 2,
            "linecolor": "white",
            "showbackground": true,
            "ticks": "",
            "zerolinecolor": "white"
           },
           "zaxis": {
            "backgroundcolor": "#E5ECF6",
            "gridcolor": "white",
            "gridwidth": 2,
            "linecolor": "white",
            "showbackground": true,
            "ticks": "",
            "zerolinecolor": "white"
           }
          },
          "shapedefaults": {
           "line": {
            "color": "#2a3f5f"
           }
          },
          "ternary": {
           "aaxis": {
            "gridcolor": "white",
            "linecolor": "white",
            "ticks": ""
           },
           "baxis": {
            "gridcolor": "white",
            "linecolor": "white",
            "ticks": ""
           },
           "bgcolor": "#E5ECF6",
           "caxis": {
            "gridcolor": "white",
            "linecolor": "white",
            "ticks": ""
           }
          },
          "title": {
           "x": 0.05
          },
          "xaxis": {
           "automargin": true,
           "gridcolor": "white",
           "linecolor": "white",
           "ticks": "",
           "title": {
            "standoff": 15
           },
           "zerolinecolor": "white",
           "zerolinewidth": 2
          },
          "yaxis": {
           "automargin": true,
           "gridcolor": "white",
           "linecolor": "white",
           "ticks": "",
           "title": {
            "standoff": 15
           },
           "zerolinecolor": "white",
           "zerolinewidth": 2
          }
         }
        },
        "title": {
         "text": "Move the Red Dot with X and Y Sliders"
        },
        "xaxis": {
         "range": [
          0,
          10
         ],
         "scaleanchor": "y"
        },
        "yaxis": {
         "range": [
          0,
          10
         ],
         "scaleanchor": "x"
        }
       }
      }
     },
     "metadata": {},
     "output_type": "display_data"
    }
   ],
   "source": [
    "import plotly.graph_objects as go\n",
    "\n",
    "class XYSliderPlot:\n",
    "    def __init__(self, x_range=(0, 10), y_range=(0, 10)):\n",
    "        \"\"\"\n",
    "        Initializes the plot with separate x and y ranges for two independent sliders.\n",
    "\n",
    "        Parameters:\n",
    "        - x_range: tuple, range of x values for the horizontal slider\n",
    "        - y_range: tuple, range of y values for the vertical slider\n",
    "        \"\"\"\n",
    "        self.x_vals = list(range(x_range[0], x_range[1] + 1))\n",
    "        self.y_vals = list(range(y_range[0], y_range[1] + 1))\n",
    "        self.fig = go.Figure()\n",
    "        \n",
    "\n",
    "        self._add_initial_trace()\n",
    "        self._add_sliders()\n",
    "\n",
    "    def _add_initial_trace(self):\n",
    "        \"\"\"\n",
    "        Adds the initial red dot to the plot at the starting x, y position.\n",
    "        \"\"\"\n",
    "        self.dot = go.Scatter(\n",
    "            x=[self.x_vals[0]],\n",
    "            y=[self.y_vals[0]],\n",
    "            mode='markers',\n",
    "            marker=dict(size=10, color='red'),\n",
    "            name=\"Red Dot\"\n",
    "        )\n",
    "        self.fig.add_trace(self.dot)\n",
    "\n",
    "    def _add_sliders(self):\n",
    "        \"\"\"\n",
    "        Adds two independent sliders:\n",
    "        - One for controlling x (horizontal slider)\n",
    "        - One for controlling y (vertical slider)\n",
    "        Each slider updates the dot's position.\n",
    "        \"\"\"\n",
    "        # Steps for the x-axis slider\n",
    "        x_steps = [\n",
    "            dict(\n",
    "                method='update',\n",
    "                args=[{'x': [[self.x_vals[i]]], 'y': [self.y_vals[0]]}, []],\n",
    "                label=str(self.x_vals[i])\n",
    "            ) for i in range(len(self.x_vals))\n",
    "        ]\n",
    "\n",
    "        # Steps for the y-axis slider\n",
    "        y_steps = [\n",
    "            dict(\n",
    "                method='update',\n",
    "                args=[{'x': [self.x_vals[0]], 'y': [[self.y_vals[i]]]}, []],\n",
    "                label=str(self.y_vals[i])\n",
    "            ) for i in range(len(self.y_vals))\n",
    "        ]\n",
    "\n",
    "        # Add sliders to the layout using the proper structure\n",
    "        self.fig.update_layout(\n",
    "            sliders=[\n",
    "                dict(\n",
    "                    steps=x_steps,\n",
    "                    active=0,\n",
    "                    x=0, y=-1, \n",
    "                    xanchor=\"left\", yanchor=\"bottom\",  # Positioning x-slider at the bottom center\n",
    "                    name=\"x-slider\"\n",
    "                ),\n",
    "                dict(\n",
    "                    steps=y_steps,\n",
    "                    active=0,\n",
    "                    x=0, y=-1.5, \n",
    "                    xanchor=\"left\", yanchor=\"middle\",  # Positioning y-slider to the right center\n",
    "                    name=\"y-slider\"\n",
    "                )\n",
    "            ],\n",
    "            title=\"Move the Red Dot with X and Y Sliders\",\n",
    "            xaxis=dict(\n",
    "                scaleanchor=\"y\",  # This ensures the x-axis and y-axis have the same scale\n",
    "                range=[min(self.x_vals), max(self.x_vals)]\n",
    "            ),\n",
    "            yaxis=dict(\n",
    "                scaleanchor=\"x\",  # Link the y-axis to the x-axis\n",
    "                range=[min(self.y_vals), max(self.y_vals)]\n",
    "            ),\n",
    "            showlegend=False\n",
    "        )\n",
    "\n",
    "    def show(self):\n",
    "        \"\"\"\n",
    "        Displays the interactive plot in a notebook or exported HTML (e.g. Quarto).\n",
    "        \"\"\"\n",
    "        # self.fig.show()\n",
    "        \n",
    "        pio.show(self.fig)\n",
    "\n",
    "\n",
    "\n",
    "# Create and show the plot\n",
    "plot = XYSliderPlot()\n",
    "plot.show()\n"
   ]
  }
 ],
 "metadata": {
  "kernelspec": {
   "display_name": "base",
   "language": "python",
   "name": "python3"
  },
  "language_info": {
   "codemirror_mode": {
    "name": "ipython",
    "version": 3
   },
   "file_extension": ".py",
   "mimetype": "text/x-python",
   "name": "python",
   "nbconvert_exporter": "python",
   "pygments_lexer": "ipython3",
   "version": "3.12.8"
  }
 },
 "nbformat": 4,
 "nbformat_minor": 5
}
