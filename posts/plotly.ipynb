{
 "cells": [
  {
   "cell_type": "code",
   "execution_count": null,
   "id": "66ad989c",
   "metadata": {},
   "outputs": [],
   "source": []
  },
  {
   "cell_type": "code",
   "execution_count": 26,
   "id": "3d2945ee",
   "metadata": {},
   "outputs": [
    {
     "data": {
      "application/vnd.plotly.v1+json": {
       "config": {
        "plotlyServerURL": "https://plot.ly"
       },
       "data": [
        {
         "line": {
          "color": "blue",
          "width": 2
         },
         "mode": "lines",
         "type": "scatter",
         "x": {
          "bdata": "AAAAAAAAAACAu0YM2kSUv6C3Onjd2aO/oA1GVlEmrb/gryJQ5AOzvwhXHKshP7e/QPwPvOBEu7+In/2CIRW/v3Cg8v/xV8G/JHBjGZQKw7/gPtENd6LEv6QMPN2aH8a/dNmjh/+Bx79IpQgNpcnIvyhwam2L9sm/EDrJqLIIy78CAyW/GgDMv/rKfbDD3My//JHTfK2ezb8GWCYk2EXOvxoddqZD0s6/NOHCA/BDz79YpAw83ZrPv4ZmU08L18+/uieXPXr4z7/459cGKv/Pvz+nFasa68+/jmVQKky8z7/lIoiEvnLPv0bfvLlxDs+/rpruyWWPzr8gVR21mvXNv5oOSXsQQc2/HMdxHMdxzL+mfpeYvofLvzo1uu/2gsq/2OrZIXBjyb98n/YuKinIvylTEBcl1Ma/3wUn2mBkxb+dtzp43dnDv2RoS/GaNMK/NhhZRZl0wL8cjsfosDO9v93p1vywSLm/r0PgxjIotb+Sm+NGNtKwvw3jwfl2jai/ThZhowkXnr9SvUxWWHqEv3DBWOpU5YQ/9ieXPXr4nz9W+wyXISqrP0czrVGBYbM/5OrZIXBjuT9dpAw83Zq/P+yvIlDkA8M/lw5CJxlVxj86bmQjDcHJP97OiUTAR80/NxhZRZl00D+Bye76sVLSP0H7BUMqPtQ/gq2eHQI31j864LiKOT3YP2yTVIrQUNo/IcdxHMdx3D9LexBBHaDeP/xXGHzpbeA/jDLpIHSS4T9ezfqOrr3iP2ooTcaY7+M/tEPgxjIo5T9AH7SQfGfmPwa7yCN2rec/DhcegB/66D9PM7SleE3qP84Pi5SBp+s/j6yiTDoI7T+KCfvNom/uP8cmlBi73e8/HwI3lkGp8D/7UMSE/WbxP/T/8VcRKPI/DA/AD33s8j9Gfi6sQLTzP5tNPS1cf/Q/En3sks9N9T+mDDzdmh/2P1v8Kwy+9PY/LEy8HznN9z8c/OwXDKn4Py4MvvQ2iPk/XHwvtrlq+j+sTEFclFD7Pxh98+bGOfw/ow1GVlEm/T9Q/jiqMxb+PxhPzOJtCf8/AAAAAAAAAEA=",
          "dtype": "f8"
         },
         "y": {
          "bdata": "AAAAAAAAAMAXT8zibQn/v03+OKozFv6/ow1GVlEm/b8XffPmxjn8v6pMQVyUUPu/W3wvtrlq+r8sDL70Noj5vxv87BcMqfi/Kky8HznN979Y/CsMvvT2v6QMPN2aH/a/EH3sks9N9b+aTT0tXH/0v0N+LqxAtPO/DA/AD33s8r/y//FXESjyv/lQxIT9ZvG/HgI3lkGp8L/CJpQYu93vv4gJ+82ib+6/i6yiTDoI7b/OD4uUgafrv0oztKV4Teq/ChcegB/66L8Eu8gjdq3nvzwftJB8Z+a/skPgxjIo5b9nKE3GmO/jv1rN+o6uveK/ijLpIHSS4b/4Vxh86W3gv0d7EEEdoN6/GsdxHMdx3L9pk1SK0FDavzPguIo5Pdi/fK2eHQI31r8++wVDKj7Uv3vJ7vqxUtK/NBhZRZl00L/TzolEwEfNvzRuZCMNwcm/kg5CJxlVxr/iryJQ5APDv1OkDDzdmr+/0erZIXBjub8+M61RgWGzvzP7DJchKqu/sieXPXr4n78uwVjqVOWEv5C9TFZYeoQ/ihZhowkXnj8q48H5do2oP5mb40Y20rA/vEPgxjIotT/j6db8sEi5PyiOx+iwM70/ORhZRZl0wD9maEvxmjTCP6K3Onjd2cM/4QUn2mBkxT8uUxAXJdTGP36f9i4qKcg/2+rZIXBjyT89Nbrv9oLKP6h+l5i+h8s/HsdxHMdxzD+aDkl7EEHNPyJVHbWa9c0/r5ruyWWPzj9H37y5cQ7PP+YiiIS+cs8/jmVQKky8zz8/pxWrGuvPP/jn1wYq/88/uieXPXr4zz+EZlNPC9fPP1ikDDzdms8/NOHCA/BDzz8YHXamQ9LOPwRYJiTYRc4/+pHTfK2ezT/4yn2ww9zMPwADJb8aAMw/EDrJqLIIyz8kcGpti/bJP0ilCA2lycg/cNmjh/+Bxz+gDDzdmh/GP9g+0Q13osQ/IHBjGZQKwz9soPL/8VfBP3if/YIhFb8/OPwPvOBEuz/4VhyrIT+3P9ivIlDkA7M/oA1GVlEmrT+Atzp43dmjP2C7RgzaRJQ/AAAAAAAAAAA=",
          "dtype": "f8"
         }
        },
        {
         "marker": {
          "color": "red",
          "size": 10
         },
         "mode": "markers",
         "type": "scatter",
         "x": [
          0
         ],
         "y": [
          -2
         ]
        }
       ],
       "frames": [
        {
         "data": [
          {
           "line": {
            "color": "blue",
            "width": 2
           },
           "mode": "lines",
           "type": "scatter",
           "x": {
            "bdata": "AAAAAAAAAACAu0YM2kSUv6C3Onjd2aO/oA1GVlEmrb/gryJQ5AOzvwhXHKshP7e/QPwPvOBEu7+In/2CIRW/v3Cg8v/xV8G/JHBjGZQKw7/gPtENd6LEv6QMPN2aH8a/dNmjh/+Bx79IpQgNpcnIvyhwam2L9sm/EDrJqLIIy78CAyW/GgDMv/rKfbDD3My//JHTfK2ezb8GWCYk2EXOvxoddqZD0s6/NOHCA/BDz79YpAw83ZrPv4ZmU08L18+/uieXPXr4z7/459cGKv/Pvz+nFasa68+/jmVQKky8z7/lIoiEvnLPv0bfvLlxDs+/rpruyWWPzr8gVR21mvXNv5oOSXsQQc2/HMdxHMdxzL+mfpeYvofLvzo1uu/2gsq/2OrZIXBjyb98n/YuKinIvylTEBcl1Ma/3wUn2mBkxb+dtzp43dnDv2RoS/GaNMK/NhhZRZl0wL8cjsfosDO9v93p1vywSLm/r0PgxjIotb+Sm+NGNtKwvw3jwfl2jai/ThZhowkXnr9SvUxWWHqEv3DBWOpU5YQ/9ieXPXr4nz9W+wyXISqrP0czrVGBYbM/5OrZIXBjuT9dpAw83Zq/P+yvIlDkA8M/lw5CJxlVxj86bmQjDcHJP97OiUTAR80/NxhZRZl00D+Bye76sVLSP0H7BUMqPtQ/gq2eHQI31j864LiKOT3YP2yTVIrQUNo/IcdxHMdx3D9LexBBHaDeP/xXGHzpbeA/jDLpIHSS4T9ezfqOrr3iP2ooTcaY7+M/tEPgxjIo5T9AH7SQfGfmPwa7yCN2rec/DhcegB/66D9PM7SleE3qP84Pi5SBp+s/j6yiTDoI7T+KCfvNom/uP8cmlBi73e8/HwI3lkGp8D/7UMSE/WbxP/T/8VcRKPI/DA/AD33s8j9Gfi6sQLTzP5tNPS1cf/Q/En3sks9N9T+mDDzdmh/2P1v8Kwy+9PY/LEy8HznN9z8c/OwXDKn4Py4MvvQ2iPk/XHwvtrlq+j+sTEFclFD7Pxh98+bGOfw/ow1GVlEm/T9Q/jiqMxb+PxhPzOJtCf8/AAAAAAAAAEA=",
            "dtype": "f8"
           },
           "y": {
            "bdata": "AAAAAAAAAMAXT8zibQn/v03+OKozFv6/ow1GVlEm/b8XffPmxjn8v6pMQVyUUPu/W3wvtrlq+r8sDL70Noj5vxv87BcMqfi/Kky8HznN979Y/CsMvvT2v6QMPN2aH/a/EH3sks9N9b+aTT0tXH/0v0N+LqxAtPO/DA/AD33s8r/y//FXESjyv/lQxIT9ZvG/HgI3lkGp8L/CJpQYu93vv4gJ+82ib+6/i6yiTDoI7b/OD4uUgafrv0oztKV4Teq/ChcegB/66L8Eu8gjdq3nvzwftJB8Z+a/skPgxjIo5b9nKE3GmO/jv1rN+o6uveK/ijLpIHSS4b/4Vxh86W3gv0d7EEEdoN6/GsdxHMdx3L9pk1SK0FDavzPguIo5Pdi/fK2eHQI31r8++wVDKj7Uv3vJ7vqxUtK/NBhZRZl00L/TzolEwEfNvzRuZCMNwcm/kg5CJxlVxr/iryJQ5APDv1OkDDzdmr+/0erZIXBjub8+M61RgWGzvzP7DJchKqu/sieXPXr4n78uwVjqVOWEv5C9TFZYeoQ/ihZhowkXnj8q48H5do2oP5mb40Y20rA/vEPgxjIotT/j6db8sEi5PyiOx+iwM70/ORhZRZl0wD9maEvxmjTCP6K3Onjd2cM/4QUn2mBkxT8uUxAXJdTGP36f9i4qKcg/2+rZIXBjyT89Nbrv9oLKP6h+l5i+h8s/HsdxHMdxzD+aDkl7EEHNPyJVHbWa9c0/r5ruyWWPzj9H37y5cQ7PP+YiiIS+cs8/jmVQKky8zz8/pxWrGuvPP/jn1wYq/88/uieXPXr4zz+EZlNPC9fPP1ikDDzdms8/NOHCA/BDzz8YHXamQ9LOPwRYJiTYRc4/+pHTfK2ezT/4yn2ww9zMPwADJb8aAMw/EDrJqLIIyz8kcGpti/bJP0ilCA2lycg/cNmjh/+Bxz+gDDzdmh/GP9g+0Q13osQ/IHBjGZQKwz9soPL/8VfBP3if/YIhFb8/OPwPvOBEuz/4VhyrIT+3P9ivIlDkA7M/oA1GVlEmrT+Atzp43dmjP2C7RgzaRJQ/AAAAAAAAAAA=",
            "dtype": "f8"
           }
          },
          {
           "marker": {
            "color": "red",
            "size": 10
           },
           "mode": "markers",
           "type": "scatter",
           "x": [
            0
           ],
           "y": [
            -2
           ]
          }
         ],
         "name": "0"
        },
        {
         "data": [
          {
           "line": {
            "color": "blue",
            "width": 2
           },
           "mode": "lines",
           "type": "scatter",
           "x": {
            "bdata": "AAAAAAAAAACAu0YM2kSUv6C3Onjd2aO/oA1GVlEmrb/gryJQ5AOzvwhXHKshP7e/QPwPvOBEu7+In/2CIRW/v3Cg8v/xV8G/JHBjGZQKw7/gPtENd6LEv6QMPN2aH8a/dNmjh/+Bx79IpQgNpcnIvyhwam2L9sm/EDrJqLIIy78CAyW/GgDMv/rKfbDD3My//JHTfK2ezb8GWCYk2EXOvxoddqZD0s6/NOHCA/BDz79YpAw83ZrPv4ZmU08L18+/uieXPXr4z7/459cGKv/Pvz+nFasa68+/jmVQKky8z7/lIoiEvnLPv0bfvLlxDs+/rpruyWWPzr8gVR21mvXNv5oOSXsQQc2/HMdxHMdxzL+mfpeYvofLvzo1uu/2gsq/2OrZIXBjyb98n/YuKinIvylTEBcl1Ma/3wUn2mBkxb+dtzp43dnDv2RoS/GaNMK/NhhZRZl0wL8cjsfosDO9v93p1vywSLm/r0PgxjIotb+Sm+NGNtKwvw3jwfl2jai/ThZhowkXnr9SvUxWWHqEv3DBWOpU5YQ/9ieXPXr4nz9W+wyXISqrP0czrVGBYbM/5OrZIXBjuT9dpAw83Zq/P+yvIlDkA8M/lw5CJxlVxj86bmQjDcHJP97OiUTAR80/NxhZRZl00D+Bye76sVLSP0H7BUMqPtQ/gq2eHQI31j864LiKOT3YP2yTVIrQUNo/IcdxHMdx3D9LexBBHaDeP/xXGHzpbeA/jDLpIHSS4T9ezfqOrr3iP2ooTcaY7+M/tEPgxjIo5T9AH7SQfGfmPwa7yCN2rec/DhcegB/66D9PM7SleE3qP84Pi5SBp+s/j6yiTDoI7T+KCfvNom/uP8cmlBi73e8/HwI3lkGp8D/7UMSE/WbxP/T/8VcRKPI/DA/AD33s8j9Gfi6sQLTzP5tNPS1cf/Q/En3sks9N9T+mDDzdmh/2P1v8Kwy+9PY/LEy8HznN9z8c/OwXDKn4Py4MvvQ2iPk/XHwvtrlq+j+sTEFclFD7Pxh98+bGOfw/ow1GVlEm/T9Q/jiqMxb+PxhPzOJtCf8/AAAAAAAAAEA=",
            "dtype": "f8"
           },
           "y": {
            "bdata": "AAAAAAAAAMAXT8zibQn/v03+OKozFv6/ow1GVlEm/b8XffPmxjn8v6pMQVyUUPu/W3wvtrlq+r8sDL70Noj5vxv87BcMqfi/Kky8HznN979Y/CsMvvT2v6QMPN2aH/a/EH3sks9N9b+aTT0tXH/0v0N+LqxAtPO/DA/AD33s8r/y//FXESjyv/lQxIT9ZvG/HgI3lkGp8L/CJpQYu93vv4gJ+82ib+6/i6yiTDoI7b/OD4uUgafrv0oztKV4Teq/ChcegB/66L8Eu8gjdq3nvzwftJB8Z+a/skPgxjIo5b9nKE3GmO/jv1rN+o6uveK/ijLpIHSS4b/4Vxh86W3gv0d7EEEdoN6/GsdxHMdx3L9pk1SK0FDavzPguIo5Pdi/fK2eHQI31r8++wVDKj7Uv3vJ7vqxUtK/NBhZRZl00L/TzolEwEfNvzRuZCMNwcm/kg5CJxlVxr/iryJQ5APDv1OkDDzdmr+/0erZIXBjub8+M61RgWGzvzP7DJchKqu/sieXPXr4n78uwVjqVOWEv5C9TFZYeoQ/ihZhowkXnj8q48H5do2oP5mb40Y20rA/vEPgxjIotT/j6db8sEi5PyiOx+iwM70/ORhZRZl0wD9maEvxmjTCP6K3Onjd2cM/4QUn2mBkxT8uUxAXJdTGP36f9i4qKcg/2+rZIXBjyT89Nbrv9oLKP6h+l5i+h8s/HsdxHMdxzD+aDkl7EEHNPyJVHbWa9c0/r5ruyWWPzj9H37y5cQ7PP+YiiIS+cs8/jmVQKky8zz8/pxWrGuvPP/jn1wYq/88/uieXPXr4zz+EZlNPC9fPP1ikDDzdms8/NOHCA/BDzz8YHXamQ9LOPwRYJiTYRc4/+pHTfK2ezT/4yn2ww9zMPwADJb8aAMw/EDrJqLIIyz8kcGpti/bJP0ilCA2lycg/cNmjh/+Bxz+gDDzdmh/GP9g+0Q13osQ/IHBjGZQKwz9soPL/8VfBP3if/YIhFb8/OPwPvOBEuz/4VhyrIT+3P9ivIlDkA7M/oA1GVlEmrT+Atzp43dmjP2C7RgzaRJQ/AAAAAAAAAAA=",
            "dtype": "f8"
           }
          },
          {
           "marker": {
            "color": "red",
            "size": 10
           },
           "mode": "markers",
           "type": "scatter",
           "x": [
            -0.07638888888888895
           ],
           "y": [
            -1.7569444444444442
           ]
          }
         ],
         "name": "1"
        },
        {
         "data": [
          {
           "line": {
            "color": "blue",
            "width": 2
           },
           "mode": "lines",
           "type": "scatter",
           "x": {
            "bdata": "AAAAAAAAAACAu0YM2kSUv6C3Onjd2aO/oA1GVlEmrb/gryJQ5AOzvwhXHKshP7e/QPwPvOBEu7+In/2CIRW/v3Cg8v/xV8G/JHBjGZQKw7/gPtENd6LEv6QMPN2aH8a/dNmjh/+Bx79IpQgNpcnIvyhwam2L9sm/EDrJqLIIy78CAyW/GgDMv/rKfbDD3My//JHTfK2ezb8GWCYk2EXOvxoddqZD0s6/NOHCA/BDz79YpAw83ZrPv4ZmU08L18+/uieXPXr4z7/459cGKv/Pvz+nFasa68+/jmVQKky8z7/lIoiEvnLPv0bfvLlxDs+/rpruyWWPzr8gVR21mvXNv5oOSXsQQc2/HMdxHMdxzL+mfpeYvofLvzo1uu/2gsq/2OrZIXBjyb98n/YuKinIvylTEBcl1Ma/3wUn2mBkxb+dtzp43dnDv2RoS/GaNMK/NhhZRZl0wL8cjsfosDO9v93p1vywSLm/r0PgxjIotb+Sm+NGNtKwvw3jwfl2jai/ThZhowkXnr9SvUxWWHqEv3DBWOpU5YQ/9ieXPXr4nz9W+wyXISqrP0czrVGBYbM/5OrZIXBjuT9dpAw83Zq/P+yvIlDkA8M/lw5CJxlVxj86bmQjDcHJP97OiUTAR80/NxhZRZl00D+Bye76sVLSP0H7BUMqPtQ/gq2eHQI31j864LiKOT3YP2yTVIrQUNo/IcdxHMdx3D9LexBBHaDeP/xXGHzpbeA/jDLpIHSS4T9ezfqOrr3iP2ooTcaY7+M/tEPgxjIo5T9AH7SQfGfmPwa7yCN2rec/DhcegB/66D9PM7SleE3qP84Pi5SBp+s/j6yiTDoI7T+KCfvNom/uP8cmlBi73e8/HwI3lkGp8D/7UMSE/WbxP/T/8VcRKPI/DA/AD33s8j9Gfi6sQLTzP5tNPS1cf/Q/En3sks9N9T+mDDzdmh/2P1v8Kwy+9PY/LEy8HznN9z8c/OwXDKn4Py4MvvQ2iPk/XHwvtrlq+j+sTEFclFD7Pxh98+bGOfw/ow1GVlEm/T9Q/jiqMxb+PxhPzOJtCf8/AAAAAAAAAEA=",
            "dtype": "f8"
           },
           "y": {
            "bdata": "AAAAAAAAAMAXT8zibQn/v03+OKozFv6/ow1GVlEm/b8XffPmxjn8v6pMQVyUUPu/W3wvtrlq+r8sDL70Noj5vxv87BcMqfi/Kky8HznN979Y/CsMvvT2v6QMPN2aH/a/EH3sks9N9b+aTT0tXH/0v0N+LqxAtPO/DA/AD33s8r/y//FXESjyv/lQxIT9ZvG/HgI3lkGp8L/CJpQYu93vv4gJ+82ib+6/i6yiTDoI7b/OD4uUgafrv0oztKV4Teq/ChcegB/66L8Eu8gjdq3nvzwftJB8Z+a/skPgxjIo5b9nKE3GmO/jv1rN+o6uveK/ijLpIHSS4b/4Vxh86W3gv0d7EEEdoN6/GsdxHMdx3L9pk1SK0FDavzPguIo5Pdi/fK2eHQI31r8++wVDKj7Uv3vJ7vqxUtK/NBhZRZl00L/TzolEwEfNvzRuZCMNwcm/kg5CJxlVxr/iryJQ5APDv1OkDDzdmr+/0erZIXBjub8+M61RgWGzvzP7DJchKqu/sieXPXr4n78uwVjqVOWEv5C9TFZYeoQ/ihZhowkXnj8q48H5do2oP5mb40Y20rA/vEPgxjIotT/j6db8sEi5PyiOx+iwM70/ORhZRZl0wD9maEvxmjTCP6K3Onjd2cM/4QUn2mBkxT8uUxAXJdTGP36f9i4qKcg/2+rZIXBjyT89Nbrv9oLKP6h+l5i+h8s/HsdxHMdxzD+aDkl7EEHNPyJVHbWa9c0/r5ruyWWPzj9H37y5cQ7PP+YiiIS+cs8/jmVQKky8zz8/pxWrGuvPP/jn1wYq/88/uieXPXr4zz+EZlNPC9fPP1ikDDzdms8/NOHCA/BDzz8YHXamQ9LOPwRYJiTYRc4/+pHTfK2ezT/4yn2ww9zMPwADJb8aAMw/EDrJqLIIyz8kcGpti/bJP0ilCA2lycg/cNmjh/+Bxz+gDDzdmh/GP9g+0Q13osQ/IHBjGZQKwz9soPL/8VfBP3if/YIhFb8/OPwPvOBEuz/4VhyrIT+3P9ivIlDkA7M/oA1GVlEmrT+Atzp43dmjP2C7RgzaRJQ/AAAAAAAAAAA=",
            "dtype": "f8"
           }
          },
          {
           "marker": {
            "color": "red",
            "size": 10
           },
           "mode": "markers",
           "type": "scatter",
           "x": [
            -0.13888888888888884
           ],
           "y": [
            -1.527777777777778
           ]
          }
         ],
         "name": "2"
        },
        {
         "data": [
          {
           "line": {
            "color": "blue",
            "width": 2
           },
           "mode": "lines",
           "type": "scatter",
           "x": {
            "bdata": "AAAAAAAAAACAu0YM2kSUv6C3Onjd2aO/oA1GVlEmrb/gryJQ5AOzvwhXHKshP7e/QPwPvOBEu7+In/2CIRW/v3Cg8v/xV8G/JHBjGZQKw7/gPtENd6LEv6QMPN2aH8a/dNmjh/+Bx79IpQgNpcnIvyhwam2L9sm/EDrJqLIIy78CAyW/GgDMv/rKfbDD3My//JHTfK2ezb8GWCYk2EXOvxoddqZD0s6/NOHCA/BDz79YpAw83ZrPv4ZmU08L18+/uieXPXr4z7/459cGKv/Pvz+nFasa68+/jmVQKky8z7/lIoiEvnLPv0bfvLlxDs+/rpruyWWPzr8gVR21mvXNv5oOSXsQQc2/HMdxHMdxzL+mfpeYvofLvzo1uu/2gsq/2OrZIXBjyb98n/YuKinIvylTEBcl1Ma/3wUn2mBkxb+dtzp43dnDv2RoS/GaNMK/NhhZRZl0wL8cjsfosDO9v93p1vywSLm/r0PgxjIotb+Sm+NGNtKwvw3jwfl2jai/ThZhowkXnr9SvUxWWHqEv3DBWOpU5YQ/9ieXPXr4nz9W+wyXISqrP0czrVGBYbM/5OrZIXBjuT9dpAw83Zq/P+yvIlDkA8M/lw5CJxlVxj86bmQjDcHJP97OiUTAR80/NxhZRZl00D+Bye76sVLSP0H7BUMqPtQ/gq2eHQI31j864LiKOT3YP2yTVIrQUNo/IcdxHMdx3D9LexBBHaDeP/xXGHzpbeA/jDLpIHSS4T9ezfqOrr3iP2ooTcaY7+M/tEPgxjIo5T9AH7SQfGfmPwa7yCN2rec/DhcegB/66D9PM7SleE3qP84Pi5SBp+s/j6yiTDoI7T+KCfvNom/uP8cmlBi73e8/HwI3lkGp8D/7UMSE/WbxP/T/8VcRKPI/DA/AD33s8j9Gfi6sQLTzP5tNPS1cf/Q/En3sks9N9T+mDDzdmh/2P1v8Kwy+9PY/LEy8HznN9z8c/OwXDKn4Py4MvvQ2iPk/XHwvtrlq+j+sTEFclFD7Pxh98+bGOfw/ow1GVlEm/T9Q/jiqMxb+PxhPzOJtCf8/AAAAAAAAAEA=",
            "dtype": "f8"
           },
           "y": {
            "bdata": "AAAAAAAAAMAXT8zibQn/v03+OKozFv6/ow1GVlEm/b8XffPmxjn8v6pMQVyUUPu/W3wvtrlq+r8sDL70Noj5vxv87BcMqfi/Kky8HznN979Y/CsMvvT2v6QMPN2aH/a/EH3sks9N9b+aTT0tXH/0v0N+LqxAtPO/DA/AD33s8r/y//FXESjyv/lQxIT9ZvG/HgI3lkGp8L/CJpQYu93vv4gJ+82ib+6/i6yiTDoI7b/OD4uUgafrv0oztKV4Teq/ChcegB/66L8Eu8gjdq3nvzwftJB8Z+a/skPgxjIo5b9nKE3GmO/jv1rN+o6uveK/ijLpIHSS4b/4Vxh86W3gv0d7EEEdoN6/GsdxHMdx3L9pk1SK0FDavzPguIo5Pdi/fK2eHQI31r8++wVDKj7Uv3vJ7vqxUtK/NBhZRZl00L/TzolEwEfNvzRuZCMNwcm/kg5CJxlVxr/iryJQ5APDv1OkDDzdmr+/0erZIXBjub8+M61RgWGzvzP7DJchKqu/sieXPXr4n78uwVjqVOWEv5C9TFZYeoQ/ihZhowkXnj8q48H5do2oP5mb40Y20rA/vEPgxjIotT/j6db8sEi5PyiOx+iwM70/ORhZRZl0wD9maEvxmjTCP6K3Onjd2cM/4QUn2mBkxT8uUxAXJdTGP36f9i4qKcg/2+rZIXBjyT89Nbrv9oLKP6h+l5i+h8s/HsdxHMdxzD+aDkl7EEHNPyJVHbWa9c0/r5ruyWWPzj9H37y5cQ7PP+YiiIS+cs8/jmVQKky8zz8/pxWrGuvPP/jn1wYq/88/uieXPXr4zz+EZlNPC9fPP1ikDDzdms8/NOHCA/BDzz8YHXamQ9LOPwRYJiTYRc4/+pHTfK2ezT/4yn2ww9zMPwADJb8aAMw/EDrJqLIIyz8kcGpti/bJP0ilCA2lycg/cNmjh/+Bxz+gDDzdmh/GP9g+0Q13osQ/IHBjGZQKwz9soPL/8VfBP3if/YIhFb8/OPwPvOBEuz/4VhyrIT+3P9ivIlDkA7M/oA1GVlEmrT+Atzp43dmjP2C7RgzaRJQ/AAAAAAAAAAA=",
            "dtype": "f8"
           }
          },
          {
           "marker": {
            "color": "red",
            "size": 10
           },
           "mode": "markers",
           "type": "scatter",
           "x": [
            -0.1875
           ],
           "y": [
            -1.3125
           ]
          }
         ],
         "name": "3"
        },
        {
         "data": [
          {
           "line": {
            "color": "blue",
            "width": 2
           },
           "mode": "lines",
           "type": "scatter",
           "x": {
            "bdata": "AAAAAAAAAACAu0YM2kSUv6C3Onjd2aO/oA1GVlEmrb/gryJQ5AOzvwhXHKshP7e/QPwPvOBEu7+In/2CIRW/v3Cg8v/xV8G/JHBjGZQKw7/gPtENd6LEv6QMPN2aH8a/dNmjh/+Bx79IpQgNpcnIvyhwam2L9sm/EDrJqLIIy78CAyW/GgDMv/rKfbDD3My//JHTfK2ezb8GWCYk2EXOvxoddqZD0s6/NOHCA/BDz79YpAw83ZrPv4ZmU08L18+/uieXPXr4z7/459cGKv/Pvz+nFasa68+/jmVQKky8z7/lIoiEvnLPv0bfvLlxDs+/rpruyWWPzr8gVR21mvXNv5oOSXsQQc2/HMdxHMdxzL+mfpeYvofLvzo1uu/2gsq/2OrZIXBjyb98n/YuKinIvylTEBcl1Ma/3wUn2mBkxb+dtzp43dnDv2RoS/GaNMK/NhhZRZl0wL8cjsfosDO9v93p1vywSLm/r0PgxjIotb+Sm+NGNtKwvw3jwfl2jai/ThZhowkXnr9SvUxWWHqEv3DBWOpU5YQ/9ieXPXr4nz9W+wyXISqrP0czrVGBYbM/5OrZIXBjuT9dpAw83Zq/P+yvIlDkA8M/lw5CJxlVxj86bmQjDcHJP97OiUTAR80/NxhZRZl00D+Bye76sVLSP0H7BUMqPtQ/gq2eHQI31j864LiKOT3YP2yTVIrQUNo/IcdxHMdx3D9LexBBHaDeP/xXGHzpbeA/jDLpIHSS4T9ezfqOrr3iP2ooTcaY7+M/tEPgxjIo5T9AH7SQfGfmPwa7yCN2rec/DhcegB/66D9PM7SleE3qP84Pi5SBp+s/j6yiTDoI7T+KCfvNom/uP8cmlBi73e8/HwI3lkGp8D/7UMSE/WbxP/T/8VcRKPI/DA/AD33s8j9Gfi6sQLTzP5tNPS1cf/Q/En3sks9N9T+mDDzdmh/2P1v8Kwy+9PY/LEy8HznN9z8c/OwXDKn4Py4MvvQ2iPk/XHwvtrlq+j+sTEFclFD7Pxh98+bGOfw/ow1GVlEm/T9Q/jiqMxb+PxhPzOJtCf8/AAAAAAAAAEA=",
            "dtype": "f8"
           },
           "y": {
            "bdata": "AAAAAAAAAMAXT8zibQn/v03+OKozFv6/ow1GVlEm/b8XffPmxjn8v6pMQVyUUPu/W3wvtrlq+r8sDL70Noj5vxv87BcMqfi/Kky8HznN979Y/CsMvvT2v6QMPN2aH/a/EH3sks9N9b+aTT0tXH/0v0N+LqxAtPO/DA/AD33s8r/y//FXESjyv/lQxIT9ZvG/HgI3lkGp8L/CJpQYu93vv4gJ+82ib+6/i6yiTDoI7b/OD4uUgafrv0oztKV4Teq/ChcegB/66L8Eu8gjdq3nvzwftJB8Z+a/skPgxjIo5b9nKE3GmO/jv1rN+o6uveK/ijLpIHSS4b/4Vxh86W3gv0d7EEEdoN6/GsdxHMdx3L9pk1SK0FDavzPguIo5Pdi/fK2eHQI31r8++wVDKj7Uv3vJ7vqxUtK/NBhZRZl00L/TzolEwEfNvzRuZCMNwcm/kg5CJxlVxr/iryJQ5APDv1OkDDzdmr+/0erZIXBjub8+M61RgWGzvzP7DJchKqu/sieXPXr4n78uwVjqVOWEv5C9TFZYeoQ/ihZhowkXnj8q48H5do2oP5mb40Y20rA/vEPgxjIotT/j6db8sEi5PyiOx+iwM70/ORhZRZl0wD9maEvxmjTCP6K3Onjd2cM/4QUn2mBkxT8uUxAXJdTGP36f9i4qKcg/2+rZIXBjyT89Nbrv9oLKP6h+l5i+h8s/HsdxHMdxzD+aDkl7EEHNPyJVHbWa9c0/r5ruyWWPzj9H37y5cQ7PP+YiiIS+cs8/jmVQKky8zz8/pxWrGuvPP/jn1wYq/88/uieXPXr4zz+EZlNPC9fPP1ikDDzdms8/NOHCA/BDzz8YHXamQ9LOPwRYJiTYRc4/+pHTfK2ezT/4yn2ww9zMPwADJb8aAMw/EDrJqLIIyz8kcGpti/bJP0ilCA2lycg/cNmjh/+Bxz+gDDzdmh/GP9g+0Q13osQ/IHBjGZQKwz9soPL/8VfBP3if/YIhFb8/OPwPvOBEuz/4VhyrIT+3P9ivIlDkA7M/oA1GVlEmrT+Atzp43dmjP2C7RgzaRJQ/AAAAAAAAAAA=",
            "dtype": "f8"
           }
          },
          {
           "marker": {
            "color": "red",
            "size": 10
           },
           "mode": "markers",
           "type": "scatter",
           "x": [
            -0.2222222222222222
           ],
           "y": [
            -1.1111111111111112
           ]
          }
         ],
         "name": "4"
        },
        {
         "data": [
          {
           "line": {
            "color": "blue",
            "width": 2
           },
           "mode": "lines",
           "type": "scatter",
           "x": {
            "bdata": "AAAAAAAAAACAu0YM2kSUv6C3Onjd2aO/oA1GVlEmrb/gryJQ5AOzvwhXHKshP7e/QPwPvOBEu7+In/2CIRW/v3Cg8v/xV8G/JHBjGZQKw7/gPtENd6LEv6QMPN2aH8a/dNmjh/+Bx79IpQgNpcnIvyhwam2L9sm/EDrJqLIIy78CAyW/GgDMv/rKfbDD3My//JHTfK2ezb8GWCYk2EXOvxoddqZD0s6/NOHCA/BDz79YpAw83ZrPv4ZmU08L18+/uieXPXr4z7/459cGKv/Pvz+nFasa68+/jmVQKky8z7/lIoiEvnLPv0bfvLlxDs+/rpruyWWPzr8gVR21mvXNv5oOSXsQQc2/HMdxHMdxzL+mfpeYvofLvzo1uu/2gsq/2OrZIXBjyb98n/YuKinIvylTEBcl1Ma/3wUn2mBkxb+dtzp43dnDv2RoS/GaNMK/NhhZRZl0wL8cjsfosDO9v93p1vywSLm/r0PgxjIotb+Sm+NGNtKwvw3jwfl2jai/ThZhowkXnr9SvUxWWHqEv3DBWOpU5YQ/9ieXPXr4nz9W+wyXISqrP0czrVGBYbM/5OrZIXBjuT9dpAw83Zq/P+yvIlDkA8M/lw5CJxlVxj86bmQjDcHJP97OiUTAR80/NxhZRZl00D+Bye76sVLSP0H7BUMqPtQ/gq2eHQI31j864LiKOT3YP2yTVIrQUNo/IcdxHMdx3D9LexBBHaDeP/xXGHzpbeA/jDLpIHSS4T9ezfqOrr3iP2ooTcaY7+M/tEPgxjIo5T9AH7SQfGfmPwa7yCN2rec/DhcegB/66D9PM7SleE3qP84Pi5SBp+s/j6yiTDoI7T+KCfvNom/uP8cmlBi73e8/HwI3lkGp8D/7UMSE/WbxP/T/8VcRKPI/DA/AD33s8j9Gfi6sQLTzP5tNPS1cf/Q/En3sks9N9T+mDDzdmh/2P1v8Kwy+9PY/LEy8HznN9z8c/OwXDKn4Py4MvvQ2iPk/XHwvtrlq+j+sTEFclFD7Pxh98+bGOfw/ow1GVlEm/T9Q/jiqMxb+PxhPzOJtCf8/AAAAAAAAAEA=",
            "dtype": "f8"
           },
           "y": {
            "bdata": "AAAAAAAAAMAXT8zibQn/v03+OKozFv6/ow1GVlEm/b8XffPmxjn8v6pMQVyUUPu/W3wvtrlq+r8sDL70Noj5vxv87BcMqfi/Kky8HznN979Y/CsMvvT2v6QMPN2aH/a/EH3sks9N9b+aTT0tXH/0v0N+LqxAtPO/DA/AD33s8r/y//FXESjyv/lQxIT9ZvG/HgI3lkGp8L/CJpQYu93vv4gJ+82ib+6/i6yiTDoI7b/OD4uUgafrv0oztKV4Teq/ChcegB/66L8Eu8gjdq3nvzwftJB8Z+a/skPgxjIo5b9nKE3GmO/jv1rN+o6uveK/ijLpIHSS4b/4Vxh86W3gv0d7EEEdoN6/GsdxHMdx3L9pk1SK0FDavzPguIo5Pdi/fK2eHQI31r8++wVDKj7Uv3vJ7vqxUtK/NBhZRZl00L/TzolEwEfNvzRuZCMNwcm/kg5CJxlVxr/iryJQ5APDv1OkDDzdmr+/0erZIXBjub8+M61RgWGzvzP7DJchKqu/sieXPXr4n78uwVjqVOWEv5C9TFZYeoQ/ihZhowkXnj8q48H5do2oP5mb40Y20rA/vEPgxjIotT/j6db8sEi5PyiOx+iwM70/ORhZRZl0wD9maEvxmjTCP6K3Onjd2cM/4QUn2mBkxT8uUxAXJdTGP36f9i4qKcg/2+rZIXBjyT89Nbrv9oLKP6h+l5i+h8s/HsdxHMdxzD+aDkl7EEHNPyJVHbWa9c0/r5ruyWWPzj9H37y5cQ7PP+YiiIS+cs8/jmVQKky8zz8/pxWrGuvPP/jn1wYq/88/uieXPXr4zz+EZlNPC9fPP1ikDDzdms8/NOHCA/BDzz8YHXamQ9LOPwRYJiTYRc4/+pHTfK2ezT/4yn2ww9zMPwADJb8aAMw/EDrJqLIIyz8kcGpti/bJP0ilCA2lycg/cNmjh/+Bxz+gDDzdmh/GP9g+0Q13osQ/IHBjGZQKwz9soPL/8VfBP3if/YIhFb8/OPwPvOBEuz/4VhyrIT+3P9ivIlDkA7M/oA1GVlEmrT+Atzp43dmjP2C7RgzaRJQ/AAAAAAAAAAA=",
            "dtype": "f8"
           }
          },
          {
           "marker": {
            "color": "red",
            "size": 10
           },
           "mode": "markers",
           "type": "scatter",
           "x": [
            -0.24305555555555552
           ],
           "y": [
            -0.9236111111111112
           ]
          }
         ],
         "name": "5"
        },
        {
         "data": [
          {
           "line": {
            "color": "blue",
            "width": 2
           },
           "mode": "lines",
           "type": "scatter",
           "x": {
            "bdata": "AAAAAAAAAACAu0YM2kSUv6C3Onjd2aO/oA1GVlEmrb/gryJQ5AOzvwhXHKshP7e/QPwPvOBEu7+In/2CIRW/v3Cg8v/xV8G/JHBjGZQKw7/gPtENd6LEv6QMPN2aH8a/dNmjh/+Bx79IpQgNpcnIvyhwam2L9sm/EDrJqLIIy78CAyW/GgDMv/rKfbDD3My//JHTfK2ezb8GWCYk2EXOvxoddqZD0s6/NOHCA/BDz79YpAw83ZrPv4ZmU08L18+/uieXPXr4z7/459cGKv/Pvz+nFasa68+/jmVQKky8z7/lIoiEvnLPv0bfvLlxDs+/rpruyWWPzr8gVR21mvXNv5oOSXsQQc2/HMdxHMdxzL+mfpeYvofLvzo1uu/2gsq/2OrZIXBjyb98n/YuKinIvylTEBcl1Ma/3wUn2mBkxb+dtzp43dnDv2RoS/GaNMK/NhhZRZl0wL8cjsfosDO9v93p1vywSLm/r0PgxjIotb+Sm+NGNtKwvw3jwfl2jai/ThZhowkXnr9SvUxWWHqEv3DBWOpU5YQ/9ieXPXr4nz9W+wyXISqrP0czrVGBYbM/5OrZIXBjuT9dpAw83Zq/P+yvIlDkA8M/lw5CJxlVxj86bmQjDcHJP97OiUTAR80/NxhZRZl00D+Bye76sVLSP0H7BUMqPtQ/gq2eHQI31j864LiKOT3YP2yTVIrQUNo/IcdxHMdx3D9LexBBHaDeP/xXGHzpbeA/jDLpIHSS4T9ezfqOrr3iP2ooTcaY7+M/tEPgxjIo5T9AH7SQfGfmPwa7yCN2rec/DhcegB/66D9PM7SleE3qP84Pi5SBp+s/j6yiTDoI7T+KCfvNom/uP8cmlBi73e8/HwI3lkGp8D/7UMSE/WbxP/T/8VcRKPI/DA/AD33s8j9Gfi6sQLTzP5tNPS1cf/Q/En3sks9N9T+mDDzdmh/2P1v8Kwy+9PY/LEy8HznN9z8c/OwXDKn4Py4MvvQ2iPk/XHwvtrlq+j+sTEFclFD7Pxh98+bGOfw/ow1GVlEm/T9Q/jiqMxb+PxhPzOJtCf8/AAAAAAAAAEA=",
            "dtype": "f8"
           },
           "y": {
            "bdata": "AAAAAAAAAMAXT8zibQn/v03+OKozFv6/ow1GVlEm/b8XffPmxjn8v6pMQVyUUPu/W3wvtrlq+r8sDL70Noj5vxv87BcMqfi/Kky8HznN979Y/CsMvvT2v6QMPN2aH/a/EH3sks9N9b+aTT0tXH/0v0N+LqxAtPO/DA/AD33s8r/y//FXESjyv/lQxIT9ZvG/HgI3lkGp8L/CJpQYu93vv4gJ+82ib+6/i6yiTDoI7b/OD4uUgafrv0oztKV4Teq/ChcegB/66L8Eu8gjdq3nvzwftJB8Z+a/skPgxjIo5b9nKE3GmO/jv1rN+o6uveK/ijLpIHSS4b/4Vxh86W3gv0d7EEEdoN6/GsdxHMdx3L9pk1SK0FDavzPguIo5Pdi/fK2eHQI31r8++wVDKj7Uv3vJ7vqxUtK/NBhZRZl00L/TzolEwEfNvzRuZCMNwcm/kg5CJxlVxr/iryJQ5APDv1OkDDzdmr+/0erZIXBjub8+M61RgWGzvzP7DJchKqu/sieXPXr4n78uwVjqVOWEv5C9TFZYeoQ/ihZhowkXnj8q48H5do2oP5mb40Y20rA/vEPgxjIotT/j6db8sEi5PyiOx+iwM70/ORhZRZl0wD9maEvxmjTCP6K3Onjd2cM/4QUn2mBkxT8uUxAXJdTGP36f9i4qKcg/2+rZIXBjyT89Nbrv9oLKP6h+l5i+h8s/HsdxHMdxzD+aDkl7EEHNPyJVHbWa9c0/r5ruyWWPzj9H37y5cQ7PP+YiiIS+cs8/jmVQKky8zz8/pxWrGuvPP/jn1wYq/88/uieXPXr4zz+EZlNPC9fPP1ikDDzdms8/NOHCA/BDzz8YHXamQ9LOPwRYJiTYRc4/+pHTfK2ezT/4yn2ww9zMPwADJb8aAMw/EDrJqLIIyz8kcGpti/bJP0ilCA2lycg/cNmjh/+Bxz+gDDzdmh/GP9g+0Q13osQ/IHBjGZQKwz9soPL/8VfBP3if/YIhFb8/OPwPvOBEuz/4VhyrIT+3P9ivIlDkA7M/oA1GVlEmrT+Atzp43dmjP2C7RgzaRJQ/AAAAAAAAAAA=",
            "dtype": "f8"
           }
          },
          {
           "marker": {
            "color": "red",
            "size": 10
           },
           "mode": "markers",
           "type": "scatter",
           "x": [
            -0.25
           ],
           "y": [
            -0.75
           ]
          }
         ],
         "name": "6"
        },
        {
         "data": [
          {
           "line": {
            "color": "blue",
            "width": 2
           },
           "mode": "lines",
           "type": "scatter",
           "x": {
            "bdata": "AAAAAAAAAACAu0YM2kSUv6C3Onjd2aO/oA1GVlEmrb/gryJQ5AOzvwhXHKshP7e/QPwPvOBEu7+In/2CIRW/v3Cg8v/xV8G/JHBjGZQKw7/gPtENd6LEv6QMPN2aH8a/dNmjh/+Bx79IpQgNpcnIvyhwam2L9sm/EDrJqLIIy78CAyW/GgDMv/rKfbDD3My//JHTfK2ezb8GWCYk2EXOvxoddqZD0s6/NOHCA/BDz79YpAw83ZrPv4ZmU08L18+/uieXPXr4z7/459cGKv/Pvz+nFasa68+/jmVQKky8z7/lIoiEvnLPv0bfvLlxDs+/rpruyWWPzr8gVR21mvXNv5oOSXsQQc2/HMdxHMdxzL+mfpeYvofLvzo1uu/2gsq/2OrZIXBjyb98n/YuKinIvylTEBcl1Ma/3wUn2mBkxb+dtzp43dnDv2RoS/GaNMK/NhhZRZl0wL8cjsfosDO9v93p1vywSLm/r0PgxjIotb+Sm+NGNtKwvw3jwfl2jai/ThZhowkXnr9SvUxWWHqEv3DBWOpU5YQ/9ieXPXr4nz9W+wyXISqrP0czrVGBYbM/5OrZIXBjuT9dpAw83Zq/P+yvIlDkA8M/lw5CJxlVxj86bmQjDcHJP97OiUTAR80/NxhZRZl00D+Bye76sVLSP0H7BUMqPtQ/gq2eHQI31j864LiKOT3YP2yTVIrQUNo/IcdxHMdx3D9LexBBHaDeP/xXGHzpbeA/jDLpIHSS4T9ezfqOrr3iP2ooTcaY7+M/tEPgxjIo5T9AH7SQfGfmPwa7yCN2rec/DhcegB/66D9PM7SleE3qP84Pi5SBp+s/j6yiTDoI7T+KCfvNom/uP8cmlBi73e8/HwI3lkGp8D/7UMSE/WbxP/T/8VcRKPI/DA/AD33s8j9Gfi6sQLTzP5tNPS1cf/Q/En3sks9N9T+mDDzdmh/2P1v8Kwy+9PY/LEy8HznN9z8c/OwXDKn4Py4MvvQ2iPk/XHwvtrlq+j+sTEFclFD7Pxh98+bGOfw/ow1GVlEm/T9Q/jiqMxb+PxhPzOJtCf8/AAAAAAAAAEA=",
            "dtype": "f8"
           },
           "y": {
            "bdata": "AAAAAAAAAMAXT8zibQn/v03+OKozFv6/ow1GVlEm/b8XffPmxjn8v6pMQVyUUPu/W3wvtrlq+r8sDL70Noj5vxv87BcMqfi/Kky8HznN979Y/CsMvvT2v6QMPN2aH/a/EH3sks9N9b+aTT0tXH/0v0N+LqxAtPO/DA/AD33s8r/y//FXESjyv/lQxIT9ZvG/HgI3lkGp8L/CJpQYu93vv4gJ+82ib+6/i6yiTDoI7b/OD4uUgafrv0oztKV4Teq/ChcegB/66L8Eu8gjdq3nvzwftJB8Z+a/skPgxjIo5b9nKE3GmO/jv1rN+o6uveK/ijLpIHSS4b/4Vxh86W3gv0d7EEEdoN6/GsdxHMdx3L9pk1SK0FDavzPguIo5Pdi/fK2eHQI31r8++wVDKj7Uv3vJ7vqxUtK/NBhZRZl00L/TzolEwEfNvzRuZCMNwcm/kg5CJxlVxr/iryJQ5APDv1OkDDzdmr+/0erZIXBjub8+M61RgWGzvzP7DJchKqu/sieXPXr4n78uwVjqVOWEv5C9TFZYeoQ/ihZhowkXnj8q48H5do2oP5mb40Y20rA/vEPgxjIotT/j6db8sEi5PyiOx+iwM70/ORhZRZl0wD9maEvxmjTCP6K3Onjd2cM/4QUn2mBkxT8uUxAXJdTGP36f9i4qKcg/2+rZIXBjyT89Nbrv9oLKP6h+l5i+h8s/HsdxHMdxzD+aDkl7EEHNPyJVHbWa9c0/r5ruyWWPzj9H37y5cQ7PP+YiiIS+cs8/jmVQKky8zz8/pxWrGuvPP/jn1wYq/88/uieXPXr4zz+EZlNPC9fPP1ikDDzdms8/NOHCA/BDzz8YHXamQ9LOPwRYJiTYRc4/+pHTfK2ezT/4yn2ww9zMPwADJb8aAMw/EDrJqLIIyz8kcGpti/bJP0ilCA2lycg/cNmjh/+Bxz+gDDzdmh/GP9g+0Q13osQ/IHBjGZQKwz9soPL/8VfBP3if/YIhFb8/OPwPvOBEuz/4VhyrIT+3P9ivIlDkA7M/oA1GVlEmrT+Atzp43dmjP2C7RgzaRJQ/AAAAAAAAAAA=",
            "dtype": "f8"
           }
          },
          {
           "marker": {
            "color": "red",
            "size": 10
           },
           "mode": "markers",
           "type": "scatter",
           "x": [
            -0.24305555555555558
           ],
           "y": [
            -0.5902777777777779
           ]
          }
         ],
         "name": "7"
        },
        {
         "data": [
          {
           "line": {
            "color": "blue",
            "width": 2
           },
           "mode": "lines",
           "type": "scatter",
           "x": {
            "bdata": "AAAAAAAAAACAu0YM2kSUv6C3Onjd2aO/oA1GVlEmrb/gryJQ5AOzvwhXHKshP7e/QPwPvOBEu7+In/2CIRW/v3Cg8v/xV8G/JHBjGZQKw7/gPtENd6LEv6QMPN2aH8a/dNmjh/+Bx79IpQgNpcnIvyhwam2L9sm/EDrJqLIIy78CAyW/GgDMv/rKfbDD3My//JHTfK2ezb8GWCYk2EXOvxoddqZD0s6/NOHCA/BDz79YpAw83ZrPv4ZmU08L18+/uieXPXr4z7/459cGKv/Pvz+nFasa68+/jmVQKky8z7/lIoiEvnLPv0bfvLlxDs+/rpruyWWPzr8gVR21mvXNv5oOSXsQQc2/HMdxHMdxzL+mfpeYvofLvzo1uu/2gsq/2OrZIXBjyb98n/YuKinIvylTEBcl1Ma/3wUn2mBkxb+dtzp43dnDv2RoS/GaNMK/NhhZRZl0wL8cjsfosDO9v93p1vywSLm/r0PgxjIotb+Sm+NGNtKwvw3jwfl2jai/ThZhowkXnr9SvUxWWHqEv3DBWOpU5YQ/9ieXPXr4nz9W+wyXISqrP0czrVGBYbM/5OrZIXBjuT9dpAw83Zq/P+yvIlDkA8M/lw5CJxlVxj86bmQjDcHJP97OiUTAR80/NxhZRZl00D+Bye76sVLSP0H7BUMqPtQ/gq2eHQI31j864LiKOT3YP2yTVIrQUNo/IcdxHMdx3D9LexBBHaDeP/xXGHzpbeA/jDLpIHSS4T9ezfqOrr3iP2ooTcaY7+M/tEPgxjIo5T9AH7SQfGfmPwa7yCN2rec/DhcegB/66D9PM7SleE3qP84Pi5SBp+s/j6yiTDoI7T+KCfvNom/uP8cmlBi73e8/HwI3lkGp8D/7UMSE/WbxP/T/8VcRKPI/DA/AD33s8j9Gfi6sQLTzP5tNPS1cf/Q/En3sks9N9T+mDDzdmh/2P1v8Kwy+9PY/LEy8HznN9z8c/OwXDKn4Py4MvvQ2iPk/XHwvtrlq+j+sTEFclFD7Pxh98+bGOfw/ow1GVlEm/T9Q/jiqMxb+PxhPzOJtCf8/AAAAAAAAAEA=",
            "dtype": "f8"
           },
           "y": {
            "bdata": "AAAAAAAAAMAXT8zibQn/v03+OKozFv6/ow1GVlEm/b8XffPmxjn8v6pMQVyUUPu/W3wvtrlq+r8sDL70Noj5vxv87BcMqfi/Kky8HznN979Y/CsMvvT2v6QMPN2aH/a/EH3sks9N9b+aTT0tXH/0v0N+LqxAtPO/DA/AD33s8r/y//FXESjyv/lQxIT9ZvG/HgI3lkGp8L/CJpQYu93vv4gJ+82ib+6/i6yiTDoI7b/OD4uUgafrv0oztKV4Teq/ChcegB/66L8Eu8gjdq3nvzwftJB8Z+a/skPgxjIo5b9nKE3GmO/jv1rN+o6uveK/ijLpIHSS4b/4Vxh86W3gv0d7EEEdoN6/GsdxHMdx3L9pk1SK0FDavzPguIo5Pdi/fK2eHQI31r8++wVDKj7Uv3vJ7vqxUtK/NBhZRZl00L/TzolEwEfNvzRuZCMNwcm/kg5CJxlVxr/iryJQ5APDv1OkDDzdmr+/0erZIXBjub8+M61RgWGzvzP7DJchKqu/sieXPXr4n78uwVjqVOWEv5C9TFZYeoQ/ihZhowkXnj8q48H5do2oP5mb40Y20rA/vEPgxjIotT/j6db8sEi5PyiOx+iwM70/ORhZRZl0wD9maEvxmjTCP6K3Onjd2cM/4QUn2mBkxT8uUxAXJdTGP36f9i4qKcg/2+rZIXBjyT89Nbrv9oLKP6h+l5i+h8s/HsdxHMdxzD+aDkl7EEHNPyJVHbWa9c0/r5ruyWWPzj9H37y5cQ7PP+YiiIS+cs8/jmVQKky8zz8/pxWrGuvPP/jn1wYq/88/uieXPXr4zz+EZlNPC9fPP1ikDDzdms8/NOHCA/BDzz8YHXamQ9LOPwRYJiTYRc4/+pHTfK2ezT/4yn2ww9zMPwADJb8aAMw/EDrJqLIIyz8kcGpti/bJP0ilCA2lycg/cNmjh/+Bxz+gDDzdmh/GP9g+0Q13osQ/IHBjGZQKwz9soPL/8VfBP3if/YIhFb8/OPwPvOBEuz/4VhyrIT+3P9ivIlDkA7M/oA1GVlEmrT+Atzp43dmjP2C7RgzaRJQ/AAAAAAAAAAA=",
            "dtype": "f8"
           }
          },
          {
           "marker": {
            "color": "red",
            "size": 10
           },
           "mode": "markers",
           "type": "scatter",
           "x": [
            -0.22222222222222224
           ],
           "y": [
            -0.44444444444444453
           ]
          }
         ],
         "name": "8"
        },
        {
         "data": [
          {
           "line": {
            "color": "blue",
            "width": 2
           },
           "mode": "lines",
           "type": "scatter",
           "x": {
            "bdata": "AAAAAAAAAACAu0YM2kSUv6C3Onjd2aO/oA1GVlEmrb/gryJQ5AOzvwhXHKshP7e/QPwPvOBEu7+In/2CIRW/v3Cg8v/xV8G/JHBjGZQKw7/gPtENd6LEv6QMPN2aH8a/dNmjh/+Bx79IpQgNpcnIvyhwam2L9sm/EDrJqLIIy78CAyW/GgDMv/rKfbDD3My//JHTfK2ezb8GWCYk2EXOvxoddqZD0s6/NOHCA/BDz79YpAw83ZrPv4ZmU08L18+/uieXPXr4z7/459cGKv/Pvz+nFasa68+/jmVQKky8z7/lIoiEvnLPv0bfvLlxDs+/rpruyWWPzr8gVR21mvXNv5oOSXsQQc2/HMdxHMdxzL+mfpeYvofLvzo1uu/2gsq/2OrZIXBjyb98n/YuKinIvylTEBcl1Ma/3wUn2mBkxb+dtzp43dnDv2RoS/GaNMK/NhhZRZl0wL8cjsfosDO9v93p1vywSLm/r0PgxjIotb+Sm+NGNtKwvw3jwfl2jai/ThZhowkXnr9SvUxWWHqEv3DBWOpU5YQ/9ieXPXr4nz9W+wyXISqrP0czrVGBYbM/5OrZIXBjuT9dpAw83Zq/P+yvIlDkA8M/lw5CJxlVxj86bmQjDcHJP97OiUTAR80/NxhZRZl00D+Bye76sVLSP0H7BUMqPtQ/gq2eHQI31j864LiKOT3YP2yTVIrQUNo/IcdxHMdx3D9LexBBHaDeP/xXGHzpbeA/jDLpIHSS4T9ezfqOrr3iP2ooTcaY7+M/tEPgxjIo5T9AH7SQfGfmPwa7yCN2rec/DhcegB/66D9PM7SleE3qP84Pi5SBp+s/j6yiTDoI7T+KCfvNom/uP8cmlBi73e8/HwI3lkGp8D/7UMSE/WbxP/T/8VcRKPI/DA/AD33s8j9Gfi6sQLTzP5tNPS1cf/Q/En3sks9N9T+mDDzdmh/2P1v8Kwy+9PY/LEy8HznN9z8c/OwXDKn4Py4MvvQ2iPk/XHwvtrlq+j+sTEFclFD7Pxh98+bGOfw/ow1GVlEm/T9Q/jiqMxb+PxhPzOJtCf8/AAAAAAAAAEA=",
            "dtype": "f8"
           },
           "y": {
            "bdata": "AAAAAAAAAMAXT8zibQn/v03+OKozFv6/ow1GVlEm/b8XffPmxjn8v6pMQVyUUPu/W3wvtrlq+r8sDL70Noj5vxv87BcMqfi/Kky8HznN979Y/CsMvvT2v6QMPN2aH/a/EH3sks9N9b+aTT0tXH/0v0N+LqxAtPO/DA/AD33s8r/y//FXESjyv/lQxIT9ZvG/HgI3lkGp8L/CJpQYu93vv4gJ+82ib+6/i6yiTDoI7b/OD4uUgafrv0oztKV4Teq/ChcegB/66L8Eu8gjdq3nvzwftJB8Z+a/skPgxjIo5b9nKE3GmO/jv1rN+o6uveK/ijLpIHSS4b/4Vxh86W3gv0d7EEEdoN6/GsdxHMdx3L9pk1SK0FDavzPguIo5Pdi/fK2eHQI31r8++wVDKj7Uv3vJ7vqxUtK/NBhZRZl00L/TzolEwEfNvzRuZCMNwcm/kg5CJxlVxr/iryJQ5APDv1OkDDzdmr+/0erZIXBjub8+M61RgWGzvzP7DJchKqu/sieXPXr4n78uwVjqVOWEv5C9TFZYeoQ/ihZhowkXnj8q48H5do2oP5mb40Y20rA/vEPgxjIotT/j6db8sEi5PyiOx+iwM70/ORhZRZl0wD9maEvxmjTCP6K3Onjd2cM/4QUn2mBkxT8uUxAXJdTGP36f9i4qKcg/2+rZIXBjyT89Nbrv9oLKP6h+l5i+h8s/HsdxHMdxzD+aDkl7EEHNPyJVHbWa9c0/r5ruyWWPzj9H37y5cQ7PP+YiiIS+cs8/jmVQKky8zz8/pxWrGuvPP/jn1wYq/88/uieXPXr4zz+EZlNPC9fPP1ikDDzdms8/NOHCA/BDzz8YHXamQ9LOPwRYJiTYRc4/+pHTfK2ezT/4yn2ww9zMPwADJb8aAMw/EDrJqLIIyz8kcGpti/bJP0ilCA2lycg/cNmjh/+Bxz+gDDzdmh/GP9g+0Q13osQ/IHBjGZQKwz9soPL/8VfBP3if/YIhFb8/OPwPvOBEuz/4VhyrIT+3P9ivIlDkA7M/oA1GVlEmrT+Atzp43dmjP2C7RgzaRJQ/AAAAAAAAAAA=",
            "dtype": "f8"
           }
          },
          {
           "marker": {
            "color": "red",
            "size": 10
           },
           "mode": "markers",
           "type": "scatter",
           "x": [
            -0.1875
           ],
           "y": [
            -0.3125
           ]
          }
         ],
         "name": "9"
        },
        {
         "data": [
          {
           "line": {
            "color": "blue",
            "width": 2
           },
           "mode": "lines",
           "type": "scatter",
           "x": {
            "bdata": "AAAAAAAAAACAu0YM2kSUv6C3Onjd2aO/oA1GVlEmrb/gryJQ5AOzvwhXHKshP7e/QPwPvOBEu7+In/2CIRW/v3Cg8v/xV8G/JHBjGZQKw7/gPtENd6LEv6QMPN2aH8a/dNmjh/+Bx79IpQgNpcnIvyhwam2L9sm/EDrJqLIIy78CAyW/GgDMv/rKfbDD3My//JHTfK2ezb8GWCYk2EXOvxoddqZD0s6/NOHCA/BDz79YpAw83ZrPv4ZmU08L18+/uieXPXr4z7/459cGKv/Pvz+nFasa68+/jmVQKky8z7/lIoiEvnLPv0bfvLlxDs+/rpruyWWPzr8gVR21mvXNv5oOSXsQQc2/HMdxHMdxzL+mfpeYvofLvzo1uu/2gsq/2OrZIXBjyb98n/YuKinIvylTEBcl1Ma/3wUn2mBkxb+dtzp43dnDv2RoS/GaNMK/NhhZRZl0wL8cjsfosDO9v93p1vywSLm/r0PgxjIotb+Sm+NGNtKwvw3jwfl2jai/ThZhowkXnr9SvUxWWHqEv3DBWOpU5YQ/9ieXPXr4nz9W+wyXISqrP0czrVGBYbM/5OrZIXBjuT9dpAw83Zq/P+yvIlDkA8M/lw5CJxlVxj86bmQjDcHJP97OiUTAR80/NxhZRZl00D+Bye76sVLSP0H7BUMqPtQ/gq2eHQI31j864LiKOT3YP2yTVIrQUNo/IcdxHMdx3D9LexBBHaDeP/xXGHzpbeA/jDLpIHSS4T9ezfqOrr3iP2ooTcaY7+M/tEPgxjIo5T9AH7SQfGfmPwa7yCN2rec/DhcegB/66D9PM7SleE3qP84Pi5SBp+s/j6yiTDoI7T+KCfvNom/uP8cmlBi73e8/HwI3lkGp8D/7UMSE/WbxP/T/8VcRKPI/DA/AD33s8j9Gfi6sQLTzP5tNPS1cf/Q/En3sks9N9T+mDDzdmh/2P1v8Kwy+9PY/LEy8HznN9z8c/OwXDKn4Py4MvvQ2iPk/XHwvtrlq+j+sTEFclFD7Pxh98+bGOfw/ow1GVlEm/T9Q/jiqMxb+PxhPzOJtCf8/AAAAAAAAAEA=",
            "dtype": "f8"
           },
           "y": {
            "bdata": "AAAAAAAAAMAXT8zibQn/v03+OKozFv6/ow1GVlEm/b8XffPmxjn8v6pMQVyUUPu/W3wvtrlq+r8sDL70Noj5vxv87BcMqfi/Kky8HznN979Y/CsMvvT2v6QMPN2aH/a/EH3sks9N9b+aTT0tXH/0v0N+LqxAtPO/DA/AD33s8r/y//FXESjyv/lQxIT9ZvG/HgI3lkGp8L/CJpQYu93vv4gJ+82ib+6/i6yiTDoI7b/OD4uUgafrv0oztKV4Teq/ChcegB/66L8Eu8gjdq3nvzwftJB8Z+a/skPgxjIo5b9nKE3GmO/jv1rN+o6uveK/ijLpIHSS4b/4Vxh86W3gv0d7EEEdoN6/GsdxHMdx3L9pk1SK0FDavzPguIo5Pdi/fK2eHQI31r8++wVDKj7Uv3vJ7vqxUtK/NBhZRZl00L/TzolEwEfNvzRuZCMNwcm/kg5CJxlVxr/iryJQ5APDv1OkDDzdmr+/0erZIXBjub8+M61RgWGzvzP7DJchKqu/sieXPXr4n78uwVjqVOWEv5C9TFZYeoQ/ihZhowkXnj8q48H5do2oP5mb40Y20rA/vEPgxjIotT/j6db8sEi5PyiOx+iwM70/ORhZRZl0wD9maEvxmjTCP6K3Onjd2cM/4QUn2mBkxT8uUxAXJdTGP36f9i4qKcg/2+rZIXBjyT89Nbrv9oLKP6h+l5i+h8s/HsdxHMdxzD+aDkl7EEHNPyJVHbWa9c0/r5ruyWWPzj9H37y5cQ7PP+YiiIS+cs8/jmVQKky8zz8/pxWrGuvPP/jn1wYq/88/uieXPXr4zz+EZlNPC9fPP1ikDDzdms8/NOHCA/BDzz8YHXamQ9LOPwRYJiTYRc4/+pHTfK2ezT/4yn2ww9zMPwADJb8aAMw/EDrJqLIIyz8kcGpti/bJP0ilCA2lycg/cNmjh/+Bxz+gDDzdmh/GP9g+0Q13osQ/IHBjGZQKwz9soPL/8VfBP3if/YIhFb8/OPwPvOBEuz/4VhyrIT+3P9ivIlDkA7M/oA1GVlEmrT+Atzp43dmjP2C7RgzaRJQ/AAAAAAAAAAA=",
            "dtype": "f8"
           }
          },
          {
           "marker": {
            "color": "red",
            "size": 10
           },
           "mode": "markers",
           "type": "scatter",
           "x": [
            -0.13888888888888895
           ],
           "y": [
            -0.19444444444444453
           ]
          }
         ],
         "name": "10"
        },
        {
         "data": [
          {
           "line": {
            "color": "blue",
            "width": 2
           },
           "mode": "lines",
           "type": "scatter",
           "x": {
            "bdata": "AAAAAAAAAACAu0YM2kSUv6C3Onjd2aO/oA1GVlEmrb/gryJQ5AOzvwhXHKshP7e/QPwPvOBEu7+In/2CIRW/v3Cg8v/xV8G/JHBjGZQKw7/gPtENd6LEv6QMPN2aH8a/dNmjh/+Bx79IpQgNpcnIvyhwam2L9sm/EDrJqLIIy78CAyW/GgDMv/rKfbDD3My//JHTfK2ezb8GWCYk2EXOvxoddqZD0s6/NOHCA/BDz79YpAw83ZrPv4ZmU08L18+/uieXPXr4z7/459cGKv/Pvz+nFasa68+/jmVQKky8z7/lIoiEvnLPv0bfvLlxDs+/rpruyWWPzr8gVR21mvXNv5oOSXsQQc2/HMdxHMdxzL+mfpeYvofLvzo1uu/2gsq/2OrZIXBjyb98n/YuKinIvylTEBcl1Ma/3wUn2mBkxb+dtzp43dnDv2RoS/GaNMK/NhhZRZl0wL8cjsfosDO9v93p1vywSLm/r0PgxjIotb+Sm+NGNtKwvw3jwfl2jai/ThZhowkXnr9SvUxWWHqEv3DBWOpU5YQ/9ieXPXr4nz9W+wyXISqrP0czrVGBYbM/5OrZIXBjuT9dpAw83Zq/P+yvIlDkA8M/lw5CJxlVxj86bmQjDcHJP97OiUTAR80/NxhZRZl00D+Bye76sVLSP0H7BUMqPtQ/gq2eHQI31j864LiKOT3YP2yTVIrQUNo/IcdxHMdx3D9LexBBHaDeP/xXGHzpbeA/jDLpIHSS4T9ezfqOrr3iP2ooTcaY7+M/tEPgxjIo5T9AH7SQfGfmPwa7yCN2rec/DhcegB/66D9PM7SleE3qP84Pi5SBp+s/j6yiTDoI7T+KCfvNom/uP8cmlBi73e8/HwI3lkGp8D/7UMSE/WbxP/T/8VcRKPI/DA/AD33s8j9Gfi6sQLTzP5tNPS1cf/Q/En3sks9N9T+mDDzdmh/2P1v8Kwy+9PY/LEy8HznN9z8c/OwXDKn4Py4MvvQ2iPk/XHwvtrlq+j+sTEFclFD7Pxh98+bGOfw/ow1GVlEm/T9Q/jiqMxb+PxhPzOJtCf8/AAAAAAAAAEA=",
            "dtype": "f8"
           },
           "y": {
            "bdata": "AAAAAAAAAMAXT8zibQn/v03+OKozFv6/ow1GVlEm/b8XffPmxjn8v6pMQVyUUPu/W3wvtrlq+r8sDL70Noj5vxv87BcMqfi/Kky8HznN979Y/CsMvvT2v6QMPN2aH/a/EH3sks9N9b+aTT0tXH/0v0N+LqxAtPO/DA/AD33s8r/y//FXESjyv/lQxIT9ZvG/HgI3lkGp8L/CJpQYu93vv4gJ+82ib+6/i6yiTDoI7b/OD4uUgafrv0oztKV4Teq/ChcegB/66L8Eu8gjdq3nvzwftJB8Z+a/skPgxjIo5b9nKE3GmO/jv1rN+o6uveK/ijLpIHSS4b/4Vxh86W3gv0d7EEEdoN6/GsdxHMdx3L9pk1SK0FDavzPguIo5Pdi/fK2eHQI31r8++wVDKj7Uv3vJ7vqxUtK/NBhZRZl00L/TzolEwEfNvzRuZCMNwcm/kg5CJxlVxr/iryJQ5APDv1OkDDzdmr+/0erZIXBjub8+M61RgWGzvzP7DJchKqu/sieXPXr4n78uwVjqVOWEv5C9TFZYeoQ/ihZhowkXnj8q48H5do2oP5mb40Y20rA/vEPgxjIotT/j6db8sEi5PyiOx+iwM70/ORhZRZl0wD9maEvxmjTCP6K3Onjd2cM/4QUn2mBkxT8uUxAXJdTGP36f9i4qKcg/2+rZIXBjyT89Nbrv9oLKP6h+l5i+h8s/HsdxHMdxzD+aDkl7EEHNPyJVHbWa9c0/r5ruyWWPzj9H37y5cQ7PP+YiiIS+cs8/jmVQKky8zz8/pxWrGuvPP/jn1wYq/88/uieXPXr4zz+EZlNPC9fPP1ikDDzdms8/NOHCA/BDzz8YHXamQ9LOPwRYJiTYRc4/+pHTfK2ezT/4yn2ww9zMPwADJb8aAMw/EDrJqLIIyz8kcGpti/bJP0ilCA2lycg/cNmjh/+Bxz+gDDzdmh/GP9g+0Q13osQ/IHBjGZQKwz9soPL/8VfBP3if/YIhFb8/OPwPvOBEuz/4VhyrIT+3P9ivIlDkA7M/oA1GVlEmrT+Atzp43dmjP2C7RgzaRJQ/AAAAAAAAAAA=",
            "dtype": "f8"
           }
          },
          {
           "marker": {
            "color": "red",
            "size": 10
           },
           "mode": "markers",
           "type": "scatter",
           "x": [
            -0.07638888888888892
           ],
           "y": [
            -0.09027777777777782
           ]
          }
         ],
         "name": "11"
        },
        {
         "data": [
          {
           "line": {
            "color": "blue",
            "width": 2
           },
           "mode": "lines",
           "type": "scatter",
           "x": {
            "bdata": "AAAAAAAAAACAu0YM2kSUv6C3Onjd2aO/oA1GVlEmrb/gryJQ5AOzvwhXHKshP7e/QPwPvOBEu7+In/2CIRW/v3Cg8v/xV8G/JHBjGZQKw7/gPtENd6LEv6QMPN2aH8a/dNmjh/+Bx79IpQgNpcnIvyhwam2L9sm/EDrJqLIIy78CAyW/GgDMv/rKfbDD3My//JHTfK2ezb8GWCYk2EXOvxoddqZD0s6/NOHCA/BDz79YpAw83ZrPv4ZmU08L18+/uieXPXr4z7/459cGKv/Pvz+nFasa68+/jmVQKky8z7/lIoiEvnLPv0bfvLlxDs+/rpruyWWPzr8gVR21mvXNv5oOSXsQQc2/HMdxHMdxzL+mfpeYvofLvzo1uu/2gsq/2OrZIXBjyb98n/YuKinIvylTEBcl1Ma/3wUn2mBkxb+dtzp43dnDv2RoS/GaNMK/NhhZRZl0wL8cjsfosDO9v93p1vywSLm/r0PgxjIotb+Sm+NGNtKwvw3jwfl2jai/ThZhowkXnr9SvUxWWHqEv3DBWOpU5YQ/9ieXPXr4nz9W+wyXISqrP0czrVGBYbM/5OrZIXBjuT9dpAw83Zq/P+yvIlDkA8M/lw5CJxlVxj86bmQjDcHJP97OiUTAR80/NxhZRZl00D+Bye76sVLSP0H7BUMqPtQ/gq2eHQI31j864LiKOT3YP2yTVIrQUNo/IcdxHMdx3D9LexBBHaDeP/xXGHzpbeA/jDLpIHSS4T9ezfqOrr3iP2ooTcaY7+M/tEPgxjIo5T9AH7SQfGfmPwa7yCN2rec/DhcegB/66D9PM7SleE3qP84Pi5SBp+s/j6yiTDoI7T+KCfvNom/uP8cmlBi73e8/HwI3lkGp8D/7UMSE/WbxP/T/8VcRKPI/DA/AD33s8j9Gfi6sQLTzP5tNPS1cf/Q/En3sks9N9T+mDDzdmh/2P1v8Kwy+9PY/LEy8HznN9z8c/OwXDKn4Py4MvvQ2iPk/XHwvtrlq+j+sTEFclFD7Pxh98+bGOfw/ow1GVlEm/T9Q/jiqMxb+PxhPzOJtCf8/AAAAAAAAAEA=",
            "dtype": "f8"
           },
           "y": {
            "bdata": "AAAAAAAAAMAXT8zibQn/v03+OKozFv6/ow1GVlEm/b8XffPmxjn8v6pMQVyUUPu/W3wvtrlq+r8sDL70Noj5vxv87BcMqfi/Kky8HznN979Y/CsMvvT2v6QMPN2aH/a/EH3sks9N9b+aTT0tXH/0v0N+LqxAtPO/DA/AD33s8r/y//FXESjyv/lQxIT9ZvG/HgI3lkGp8L/CJpQYu93vv4gJ+82ib+6/i6yiTDoI7b/OD4uUgafrv0oztKV4Teq/ChcegB/66L8Eu8gjdq3nvzwftJB8Z+a/skPgxjIo5b9nKE3GmO/jv1rN+o6uveK/ijLpIHSS4b/4Vxh86W3gv0d7EEEdoN6/GsdxHMdx3L9pk1SK0FDavzPguIo5Pdi/fK2eHQI31r8++wVDKj7Uv3vJ7vqxUtK/NBhZRZl00L/TzolEwEfNvzRuZCMNwcm/kg5CJxlVxr/iryJQ5APDv1OkDDzdmr+/0erZIXBjub8+M61RgWGzvzP7DJchKqu/sieXPXr4n78uwVjqVOWEv5C9TFZYeoQ/ihZhowkXnj8q48H5do2oP5mb40Y20rA/vEPgxjIotT/j6db8sEi5PyiOx+iwM70/ORhZRZl0wD9maEvxmjTCP6K3Onjd2cM/4QUn2mBkxT8uUxAXJdTGP36f9i4qKcg/2+rZIXBjyT89Nbrv9oLKP6h+l5i+h8s/HsdxHMdxzD+aDkl7EEHNPyJVHbWa9c0/r5ruyWWPzj9H37y5cQ7PP+YiiIS+cs8/jmVQKky8zz8/pxWrGuvPP/jn1wYq/88/uieXPXr4zz+EZlNPC9fPP1ikDDzdms8/NOHCA/BDzz8YHXamQ9LOPwRYJiTYRc4/+pHTfK2ezT/4yn2ww9zMPwADJb8aAMw/EDrJqLIIyz8kcGpti/bJP0ilCA2lycg/cNmjh/+Bxz+gDDzdmh/GP9g+0Q13osQ/IHBjGZQKwz9soPL/8VfBP3if/YIhFb8/OPwPvOBEuz/4VhyrIT+3P9ivIlDkA7M/oA1GVlEmrT+Atzp43dmjP2C7RgzaRJQ/AAAAAAAAAAA=",
            "dtype": "f8"
           }
          },
          {
           "marker": {
            "color": "red",
            "size": 10
           },
           "mode": "markers",
           "type": "scatter",
           "x": [
            0
           ],
           "y": [
            0
           ]
          }
         ],
         "name": "12"
        },
        {
         "data": [
          {
           "line": {
            "color": "blue",
            "width": 2
           },
           "mode": "lines",
           "type": "scatter",
           "x": {
            "bdata": "AAAAAAAAAACAu0YM2kSUv6C3Onjd2aO/oA1GVlEmrb/gryJQ5AOzvwhXHKshP7e/QPwPvOBEu7+In/2CIRW/v3Cg8v/xV8G/JHBjGZQKw7/gPtENd6LEv6QMPN2aH8a/dNmjh/+Bx79IpQgNpcnIvyhwam2L9sm/EDrJqLIIy78CAyW/GgDMv/rKfbDD3My//JHTfK2ezb8GWCYk2EXOvxoddqZD0s6/NOHCA/BDz79YpAw83ZrPv4ZmU08L18+/uieXPXr4z7/459cGKv/Pvz+nFasa68+/jmVQKky8z7/lIoiEvnLPv0bfvLlxDs+/rpruyWWPzr8gVR21mvXNv5oOSXsQQc2/HMdxHMdxzL+mfpeYvofLvzo1uu/2gsq/2OrZIXBjyb98n/YuKinIvylTEBcl1Ma/3wUn2mBkxb+dtzp43dnDv2RoS/GaNMK/NhhZRZl0wL8cjsfosDO9v93p1vywSLm/r0PgxjIotb+Sm+NGNtKwvw3jwfl2jai/ThZhowkXnr9SvUxWWHqEv3DBWOpU5YQ/9ieXPXr4nz9W+wyXISqrP0czrVGBYbM/5OrZIXBjuT9dpAw83Zq/P+yvIlDkA8M/lw5CJxlVxj86bmQjDcHJP97OiUTAR80/NxhZRZl00D+Bye76sVLSP0H7BUMqPtQ/gq2eHQI31j864LiKOT3YP2yTVIrQUNo/IcdxHMdx3D9LexBBHaDeP/xXGHzpbeA/jDLpIHSS4T9ezfqOrr3iP2ooTcaY7+M/tEPgxjIo5T9AH7SQfGfmPwa7yCN2rec/DhcegB/66D9PM7SleE3qP84Pi5SBp+s/j6yiTDoI7T+KCfvNom/uP8cmlBi73e8/HwI3lkGp8D/7UMSE/WbxP/T/8VcRKPI/DA/AD33s8j9Gfi6sQLTzP5tNPS1cf/Q/En3sks9N9T+mDDzdmh/2P1v8Kwy+9PY/LEy8HznN9z8c/OwXDKn4Py4MvvQ2iPk/XHwvtrlq+j+sTEFclFD7Pxh98+bGOfw/ow1GVlEm/T9Q/jiqMxb+PxhPzOJtCf8/AAAAAAAAAEA=",
            "dtype": "f8"
           },
           "y": {
            "bdata": "AAAAAAAAAMAXT8zibQn/v03+OKozFv6/ow1GVlEm/b8XffPmxjn8v6pMQVyUUPu/W3wvtrlq+r8sDL70Noj5vxv87BcMqfi/Kky8HznN979Y/CsMvvT2v6QMPN2aH/a/EH3sks9N9b+aTT0tXH/0v0N+LqxAtPO/DA/AD33s8r/y//FXESjyv/lQxIT9ZvG/HgI3lkGp8L/CJpQYu93vv4gJ+82ib+6/i6yiTDoI7b/OD4uUgafrv0oztKV4Teq/ChcegB/66L8Eu8gjdq3nvzwftJB8Z+a/skPgxjIo5b9nKE3GmO/jv1rN+o6uveK/ijLpIHSS4b/4Vxh86W3gv0d7EEEdoN6/GsdxHMdx3L9pk1SK0FDavzPguIo5Pdi/fK2eHQI31r8++wVDKj7Uv3vJ7vqxUtK/NBhZRZl00L/TzolEwEfNvzRuZCMNwcm/kg5CJxlVxr/iryJQ5APDv1OkDDzdmr+/0erZIXBjub8+M61RgWGzvzP7DJchKqu/sieXPXr4n78uwVjqVOWEv5C9TFZYeoQ/ihZhowkXnj8q48H5do2oP5mb40Y20rA/vEPgxjIotT/j6db8sEi5PyiOx+iwM70/ORhZRZl0wD9maEvxmjTCP6K3Onjd2cM/4QUn2mBkxT8uUxAXJdTGP36f9i4qKcg/2+rZIXBjyT89Nbrv9oLKP6h+l5i+h8s/HsdxHMdxzD+aDkl7EEHNPyJVHbWa9c0/r5ruyWWPzj9H37y5cQ7PP+YiiIS+cs8/jmVQKky8zz8/pxWrGuvPP/jn1wYq/88/uieXPXr4zz+EZlNPC9fPP1ikDDzdms8/NOHCA/BDzz8YHXamQ9LOPwRYJiTYRc4/+pHTfK2ezT/4yn2ww9zMPwADJb8aAMw/EDrJqLIIyz8kcGpti/bJP0ilCA2lycg/cNmjh/+Bxz+gDDzdmh/GP9g+0Q13osQ/IHBjGZQKwz9soPL/8VfBP3if/YIhFb8/OPwPvOBEuz/4VhyrIT+3P9ivIlDkA7M/oA1GVlEmrT+Atzp43dmjP2C7RgzaRJQ/AAAAAAAAAAA=",
            "dtype": "f8"
           }
          },
          {
           "marker": {
            "color": "red",
            "size": 10
           },
           "mode": "markers",
           "type": "scatter",
           "x": [
            0.09027777777777769
           ],
           "y": [
            0.07638888888888883
           ]
          }
         ],
         "name": "13"
        },
        {
         "data": [
          {
           "line": {
            "color": "blue",
            "width": 2
           },
           "mode": "lines",
           "type": "scatter",
           "x": {
            "bdata": "AAAAAAAAAACAu0YM2kSUv6C3Onjd2aO/oA1GVlEmrb/gryJQ5AOzvwhXHKshP7e/QPwPvOBEu7+In/2CIRW/v3Cg8v/xV8G/JHBjGZQKw7/gPtENd6LEv6QMPN2aH8a/dNmjh/+Bx79IpQgNpcnIvyhwam2L9sm/EDrJqLIIy78CAyW/GgDMv/rKfbDD3My//JHTfK2ezb8GWCYk2EXOvxoddqZD0s6/NOHCA/BDz79YpAw83ZrPv4ZmU08L18+/uieXPXr4z7/459cGKv/Pvz+nFasa68+/jmVQKky8z7/lIoiEvnLPv0bfvLlxDs+/rpruyWWPzr8gVR21mvXNv5oOSXsQQc2/HMdxHMdxzL+mfpeYvofLvzo1uu/2gsq/2OrZIXBjyb98n/YuKinIvylTEBcl1Ma/3wUn2mBkxb+dtzp43dnDv2RoS/GaNMK/NhhZRZl0wL8cjsfosDO9v93p1vywSLm/r0PgxjIotb+Sm+NGNtKwvw3jwfl2jai/ThZhowkXnr9SvUxWWHqEv3DBWOpU5YQ/9ieXPXr4nz9W+wyXISqrP0czrVGBYbM/5OrZIXBjuT9dpAw83Zq/P+yvIlDkA8M/lw5CJxlVxj86bmQjDcHJP97OiUTAR80/NxhZRZl00D+Bye76sVLSP0H7BUMqPtQ/gq2eHQI31j864LiKOT3YP2yTVIrQUNo/IcdxHMdx3D9LexBBHaDeP/xXGHzpbeA/jDLpIHSS4T9ezfqOrr3iP2ooTcaY7+M/tEPgxjIo5T9AH7SQfGfmPwa7yCN2rec/DhcegB/66D9PM7SleE3qP84Pi5SBp+s/j6yiTDoI7T+KCfvNom/uP8cmlBi73e8/HwI3lkGp8D/7UMSE/WbxP/T/8VcRKPI/DA/AD33s8j9Gfi6sQLTzP5tNPS1cf/Q/En3sks9N9T+mDDzdmh/2P1v8Kwy+9PY/LEy8HznN9z8c/OwXDKn4Py4MvvQ2iPk/XHwvtrlq+j+sTEFclFD7Pxh98+bGOfw/ow1GVlEm/T9Q/jiqMxb+PxhPzOJtCf8/AAAAAAAAAEA=",
            "dtype": "f8"
           },
           "y": {
            "bdata": "AAAAAAAAAMAXT8zibQn/v03+OKozFv6/ow1GVlEm/b8XffPmxjn8v6pMQVyUUPu/W3wvtrlq+r8sDL70Noj5vxv87BcMqfi/Kky8HznN979Y/CsMvvT2v6QMPN2aH/a/EH3sks9N9b+aTT0tXH/0v0N+LqxAtPO/DA/AD33s8r/y//FXESjyv/lQxIT9ZvG/HgI3lkGp8L/CJpQYu93vv4gJ+82ib+6/i6yiTDoI7b/OD4uUgafrv0oztKV4Teq/ChcegB/66L8Eu8gjdq3nvzwftJB8Z+a/skPgxjIo5b9nKE3GmO/jv1rN+o6uveK/ijLpIHSS4b/4Vxh86W3gv0d7EEEdoN6/GsdxHMdx3L9pk1SK0FDavzPguIo5Pdi/fK2eHQI31r8++wVDKj7Uv3vJ7vqxUtK/NBhZRZl00L/TzolEwEfNvzRuZCMNwcm/kg5CJxlVxr/iryJQ5APDv1OkDDzdmr+/0erZIXBjub8+M61RgWGzvzP7DJchKqu/sieXPXr4n78uwVjqVOWEv5C9TFZYeoQ/ihZhowkXnj8q48H5do2oP5mb40Y20rA/vEPgxjIotT/j6db8sEi5PyiOx+iwM70/ORhZRZl0wD9maEvxmjTCP6K3Onjd2cM/4QUn2mBkxT8uUxAXJdTGP36f9i4qKcg/2+rZIXBjyT89Nbrv9oLKP6h+l5i+h8s/HsdxHMdxzD+aDkl7EEHNPyJVHbWa9c0/r5ruyWWPzj9H37y5cQ7PP+YiiIS+cs8/jmVQKky8zz8/pxWrGuvPP/jn1wYq/88/uieXPXr4zz+EZlNPC9fPP1ikDDzdms8/NOHCA/BDzz8YHXamQ9LOPwRYJiTYRc4/+pHTfK2ezT/4yn2ww9zMPwADJb8aAMw/EDrJqLIIyz8kcGpti/bJP0ilCA2lycg/cNmjh/+Bxz+gDDzdmh/GP9g+0Q13osQ/IHBjGZQKwz9soPL/8VfBP3if/YIhFb8/OPwPvOBEuz/4VhyrIT+3P9ivIlDkA7M/oA1GVlEmrT+Atzp43dmjP2C7RgzaRJQ/AAAAAAAAAAA=",
            "dtype": "f8"
           }
          },
          {
           "marker": {
            "color": "red",
            "size": 10
           },
           "mode": "markers",
           "type": "scatter",
           "x": [
            0.19444444444444425
           ],
           "y": [
            0.13888888888888878
           ]
          }
         ],
         "name": "14"
        },
        {
         "data": [
          {
           "line": {
            "color": "blue",
            "width": 2
           },
           "mode": "lines",
           "type": "scatter",
           "x": {
            "bdata": "AAAAAAAAAACAu0YM2kSUv6C3Onjd2aO/oA1GVlEmrb/gryJQ5AOzvwhXHKshP7e/QPwPvOBEu7+In/2CIRW/v3Cg8v/xV8G/JHBjGZQKw7/gPtENd6LEv6QMPN2aH8a/dNmjh/+Bx79IpQgNpcnIvyhwam2L9sm/EDrJqLIIy78CAyW/GgDMv/rKfbDD3My//JHTfK2ezb8GWCYk2EXOvxoddqZD0s6/NOHCA/BDz79YpAw83ZrPv4ZmU08L18+/uieXPXr4z7/459cGKv/Pvz+nFasa68+/jmVQKky8z7/lIoiEvnLPv0bfvLlxDs+/rpruyWWPzr8gVR21mvXNv5oOSXsQQc2/HMdxHMdxzL+mfpeYvofLvzo1uu/2gsq/2OrZIXBjyb98n/YuKinIvylTEBcl1Ma/3wUn2mBkxb+dtzp43dnDv2RoS/GaNMK/NhhZRZl0wL8cjsfosDO9v93p1vywSLm/r0PgxjIotb+Sm+NGNtKwvw3jwfl2jai/ThZhowkXnr9SvUxWWHqEv3DBWOpU5YQ/9ieXPXr4nz9W+wyXISqrP0czrVGBYbM/5OrZIXBjuT9dpAw83Zq/P+yvIlDkA8M/lw5CJxlVxj86bmQjDcHJP97OiUTAR80/NxhZRZl00D+Bye76sVLSP0H7BUMqPtQ/gq2eHQI31j864LiKOT3YP2yTVIrQUNo/IcdxHMdx3D9LexBBHaDeP/xXGHzpbeA/jDLpIHSS4T9ezfqOrr3iP2ooTcaY7+M/tEPgxjIo5T9AH7SQfGfmPwa7yCN2rec/DhcegB/66D9PM7SleE3qP84Pi5SBp+s/j6yiTDoI7T+KCfvNom/uP8cmlBi73e8/HwI3lkGp8D/7UMSE/WbxP/T/8VcRKPI/DA/AD33s8j9Gfi6sQLTzP5tNPS1cf/Q/En3sks9N9T+mDDzdmh/2P1v8Kwy+9PY/LEy8HznN9z8c/OwXDKn4Py4MvvQ2iPk/XHwvtrlq+j+sTEFclFD7Pxh98+bGOfw/ow1GVlEm/T9Q/jiqMxb+PxhPzOJtCf8/AAAAAAAAAEA=",
            "dtype": "f8"
           },
           "y": {
            "bdata": "AAAAAAAAAMAXT8zibQn/v03+OKozFv6/ow1GVlEm/b8XffPmxjn8v6pMQVyUUPu/W3wvtrlq+r8sDL70Noj5vxv87BcMqfi/Kky8HznN979Y/CsMvvT2v6QMPN2aH/a/EH3sks9N9b+aTT0tXH/0v0N+LqxAtPO/DA/AD33s8r/y//FXESjyv/lQxIT9ZvG/HgI3lkGp8L/CJpQYu93vv4gJ+82ib+6/i6yiTDoI7b/OD4uUgafrv0oztKV4Teq/ChcegB/66L8Eu8gjdq3nvzwftJB8Z+a/skPgxjIo5b9nKE3GmO/jv1rN+o6uveK/ijLpIHSS4b/4Vxh86W3gv0d7EEEdoN6/GsdxHMdx3L9pk1SK0FDavzPguIo5Pdi/fK2eHQI31r8++wVDKj7Uv3vJ7vqxUtK/NBhZRZl00L/TzolEwEfNvzRuZCMNwcm/kg5CJxlVxr/iryJQ5APDv1OkDDzdmr+/0erZIXBjub8+M61RgWGzvzP7DJchKqu/sieXPXr4n78uwVjqVOWEv5C9TFZYeoQ/ihZhowkXnj8q48H5do2oP5mb40Y20rA/vEPgxjIotT/j6db8sEi5PyiOx+iwM70/ORhZRZl0wD9maEvxmjTCP6K3Onjd2cM/4QUn2mBkxT8uUxAXJdTGP36f9i4qKcg/2+rZIXBjyT89Nbrv9oLKP6h+l5i+h8s/HsdxHMdxzD+aDkl7EEHNPyJVHbWa9c0/r5ruyWWPzj9H37y5cQ7PP+YiiIS+cs8/jmVQKky8zz8/pxWrGuvPP/jn1wYq/88/uieXPXr4zz+EZlNPC9fPP1ikDDzdms8/NOHCA/BDzz8YHXamQ9LOPwRYJiTYRc4/+pHTfK2ezT/4yn2ww9zMPwADJb8aAMw/EDrJqLIIyz8kcGpti/bJP0ilCA2lycg/cNmjh/+Bxz+gDDzdmh/GP9g+0Q13osQ/IHBjGZQKwz9soPL/8VfBP3if/YIhFb8/OPwPvOBEuz/4VhyrIT+3P9ivIlDkA7M/oA1GVlEmrT+Atzp43dmjP2C7RgzaRJQ/AAAAAAAAAAA=",
            "dtype": "f8"
           }
          },
          {
           "marker": {
            "color": "red",
            "size": 10
           },
           "mode": "markers",
           "type": "scatter",
           "x": [
            0.3125
           ],
           "y": [
            0.1875
           ]
          }
         ],
         "name": "15"
        },
        {
         "data": [
          {
           "line": {
            "color": "blue",
            "width": 2
           },
           "mode": "lines",
           "type": "scatter",
           "x": {
            "bdata": "AAAAAAAAAACAu0YM2kSUv6C3Onjd2aO/oA1GVlEmrb/gryJQ5AOzvwhXHKshP7e/QPwPvOBEu7+In/2CIRW/v3Cg8v/xV8G/JHBjGZQKw7/gPtENd6LEv6QMPN2aH8a/dNmjh/+Bx79IpQgNpcnIvyhwam2L9sm/EDrJqLIIy78CAyW/GgDMv/rKfbDD3My//JHTfK2ezb8GWCYk2EXOvxoddqZD0s6/NOHCA/BDz79YpAw83ZrPv4ZmU08L18+/uieXPXr4z7/459cGKv/Pvz+nFasa68+/jmVQKky8z7/lIoiEvnLPv0bfvLlxDs+/rpruyWWPzr8gVR21mvXNv5oOSXsQQc2/HMdxHMdxzL+mfpeYvofLvzo1uu/2gsq/2OrZIXBjyb98n/YuKinIvylTEBcl1Ma/3wUn2mBkxb+dtzp43dnDv2RoS/GaNMK/NhhZRZl0wL8cjsfosDO9v93p1vywSLm/r0PgxjIotb+Sm+NGNtKwvw3jwfl2jai/ThZhowkXnr9SvUxWWHqEv3DBWOpU5YQ/9ieXPXr4nz9W+wyXISqrP0czrVGBYbM/5OrZIXBjuT9dpAw83Zq/P+yvIlDkA8M/lw5CJxlVxj86bmQjDcHJP97OiUTAR80/NxhZRZl00D+Bye76sVLSP0H7BUMqPtQ/gq2eHQI31j864LiKOT3YP2yTVIrQUNo/IcdxHMdx3D9LexBBHaDeP/xXGHzpbeA/jDLpIHSS4T9ezfqOrr3iP2ooTcaY7+M/tEPgxjIo5T9AH7SQfGfmPwa7yCN2rec/DhcegB/66D9PM7SleE3qP84Pi5SBp+s/j6yiTDoI7T+KCfvNom/uP8cmlBi73e8/HwI3lkGp8D/7UMSE/WbxP/T/8VcRKPI/DA/AD33s8j9Gfi6sQLTzP5tNPS1cf/Q/En3sks9N9T+mDDzdmh/2P1v8Kwy+9PY/LEy8HznN9z8c/OwXDKn4Py4MvvQ2iPk/XHwvtrlq+j+sTEFclFD7Pxh98+bGOfw/ow1GVlEm/T9Q/jiqMxb+PxhPzOJtCf8/AAAAAAAAAEA=",
            "dtype": "f8"
           },
           "y": {
            "bdata": "AAAAAAAAAMAXT8zibQn/v03+OKozFv6/ow1GVlEm/b8XffPmxjn8v6pMQVyUUPu/W3wvtrlq+r8sDL70Noj5vxv87BcMqfi/Kky8HznN979Y/CsMvvT2v6QMPN2aH/a/EH3sks9N9b+aTT0tXH/0v0N+LqxAtPO/DA/AD33s8r/y//FXESjyv/lQxIT9ZvG/HgI3lkGp8L/CJpQYu93vv4gJ+82ib+6/i6yiTDoI7b/OD4uUgafrv0oztKV4Teq/ChcegB/66L8Eu8gjdq3nvzwftJB8Z+a/skPgxjIo5b9nKE3GmO/jv1rN+o6uveK/ijLpIHSS4b/4Vxh86W3gv0d7EEEdoN6/GsdxHMdx3L9pk1SK0FDavzPguIo5Pdi/fK2eHQI31r8++wVDKj7Uv3vJ7vqxUtK/NBhZRZl00L/TzolEwEfNvzRuZCMNwcm/kg5CJxlVxr/iryJQ5APDv1OkDDzdmr+/0erZIXBjub8+M61RgWGzvzP7DJchKqu/sieXPXr4n78uwVjqVOWEv5C9TFZYeoQ/ihZhowkXnj8q48H5do2oP5mb40Y20rA/vEPgxjIotT/j6db8sEi5PyiOx+iwM70/ORhZRZl0wD9maEvxmjTCP6K3Onjd2cM/4QUn2mBkxT8uUxAXJdTGP36f9i4qKcg/2+rZIXBjyT89Nbrv9oLKP6h+l5i+h8s/HsdxHMdxzD+aDkl7EEHNPyJVHbWa9c0/r5ruyWWPzj9H37y5cQ7PP+YiiIS+cs8/jmVQKky8zz8/pxWrGuvPP/jn1wYq/88/uieXPXr4zz+EZlNPC9fPP1ikDDzdms8/NOHCA/BDzz8YHXamQ9LOPwRYJiTYRc4/+pHTfK2ezT/4yn2ww9zMPwADJb8aAMw/EDrJqLIIyz8kcGpti/bJP0ilCA2lycg/cNmjh/+Bxz+gDDzdmh/GP9g+0Q13osQ/IHBjGZQKwz9soPL/8VfBP3if/YIhFb8/OPwPvOBEuz/4VhyrIT+3P9ivIlDkA7M/oA1GVlEmrT+Atzp43dmjP2C7RgzaRJQ/AAAAAAAAAAA=",
            "dtype": "f8"
           }
          },
          {
           "marker": {
            "color": "red",
            "size": 10
           },
           "mode": "markers",
           "type": "scatter",
           "x": [
            0.4444444444444443
           ],
           "y": [
            0.2222222222222222
           ]
          }
         ],
         "name": "16"
        },
        {
         "data": [
          {
           "line": {
            "color": "blue",
            "width": 2
           },
           "mode": "lines",
           "type": "scatter",
           "x": {
            "bdata": "AAAAAAAAAACAu0YM2kSUv6C3Onjd2aO/oA1GVlEmrb/gryJQ5AOzvwhXHKshP7e/QPwPvOBEu7+In/2CIRW/v3Cg8v/xV8G/JHBjGZQKw7/gPtENd6LEv6QMPN2aH8a/dNmjh/+Bx79IpQgNpcnIvyhwam2L9sm/EDrJqLIIy78CAyW/GgDMv/rKfbDD3My//JHTfK2ezb8GWCYk2EXOvxoddqZD0s6/NOHCA/BDz79YpAw83ZrPv4ZmU08L18+/uieXPXr4z7/459cGKv/Pvz+nFasa68+/jmVQKky8z7/lIoiEvnLPv0bfvLlxDs+/rpruyWWPzr8gVR21mvXNv5oOSXsQQc2/HMdxHMdxzL+mfpeYvofLvzo1uu/2gsq/2OrZIXBjyb98n/YuKinIvylTEBcl1Ma/3wUn2mBkxb+dtzp43dnDv2RoS/GaNMK/NhhZRZl0wL8cjsfosDO9v93p1vywSLm/r0PgxjIotb+Sm+NGNtKwvw3jwfl2jai/ThZhowkXnr9SvUxWWHqEv3DBWOpU5YQ/9ieXPXr4nz9W+wyXISqrP0czrVGBYbM/5OrZIXBjuT9dpAw83Zq/P+yvIlDkA8M/lw5CJxlVxj86bmQjDcHJP97OiUTAR80/NxhZRZl00D+Bye76sVLSP0H7BUMqPtQ/gq2eHQI31j864LiKOT3YP2yTVIrQUNo/IcdxHMdx3D9LexBBHaDeP/xXGHzpbeA/jDLpIHSS4T9ezfqOrr3iP2ooTcaY7+M/tEPgxjIo5T9AH7SQfGfmPwa7yCN2rec/DhcegB/66D9PM7SleE3qP84Pi5SBp+s/j6yiTDoI7T+KCfvNom/uP8cmlBi73e8/HwI3lkGp8D/7UMSE/WbxP/T/8VcRKPI/DA/AD33s8j9Gfi6sQLTzP5tNPS1cf/Q/En3sks9N9T+mDDzdmh/2P1v8Kwy+9PY/LEy8HznN9z8c/OwXDKn4Py4MvvQ2iPk/XHwvtrlq+j+sTEFclFD7Pxh98+bGOfw/ow1GVlEm/T9Q/jiqMxb+PxhPzOJtCf8/AAAAAAAAAEA=",
            "dtype": "f8"
           },
           "y": {
            "bdata": "AAAAAAAAAMAXT8zibQn/v03+OKozFv6/ow1GVlEm/b8XffPmxjn8v6pMQVyUUPu/W3wvtrlq+r8sDL70Noj5vxv87BcMqfi/Kky8HznN979Y/CsMvvT2v6QMPN2aH/a/EH3sks9N9b+aTT0tXH/0v0N+LqxAtPO/DA/AD33s8r/y//FXESjyv/lQxIT9ZvG/HgI3lkGp8L/CJpQYu93vv4gJ+82ib+6/i6yiTDoI7b/OD4uUgafrv0oztKV4Teq/ChcegB/66L8Eu8gjdq3nvzwftJB8Z+a/skPgxjIo5b9nKE3GmO/jv1rN+o6uveK/ijLpIHSS4b/4Vxh86W3gv0d7EEEdoN6/GsdxHMdx3L9pk1SK0FDavzPguIo5Pdi/fK2eHQI31r8++wVDKj7Uv3vJ7vqxUtK/NBhZRZl00L/TzolEwEfNvzRuZCMNwcm/kg5CJxlVxr/iryJQ5APDv1OkDDzdmr+/0erZIXBjub8+M61RgWGzvzP7DJchKqu/sieXPXr4n78uwVjqVOWEv5C9TFZYeoQ/ihZhowkXnj8q48H5do2oP5mb40Y20rA/vEPgxjIotT/j6db8sEi5PyiOx+iwM70/ORhZRZl0wD9maEvxmjTCP6K3Onjd2cM/4QUn2mBkxT8uUxAXJdTGP36f9i4qKcg/2+rZIXBjyT89Nbrv9oLKP6h+l5i+h8s/HsdxHMdxzD+aDkl7EEHNPyJVHbWa9c0/r5ruyWWPzj9H37y5cQ7PP+YiiIS+cs8/jmVQKky8zz8/pxWrGuvPP/jn1wYq/88/uieXPXr4zz+EZlNPC9fPP1ikDDzdms8/NOHCA/BDzz8YHXamQ9LOPwRYJiTYRc4/+pHTfK2ezT/4yn2ww9zMPwADJb8aAMw/EDrJqLIIyz8kcGpti/bJP0ilCA2lycg/cNmjh/+Bxz+gDDzdmh/GP9g+0Q13osQ/IHBjGZQKwz9soPL/8VfBP3if/YIhFb8/OPwPvOBEuz/4VhyrIT+3P9ivIlDkA7M/oA1GVlEmrT+Atzp43dmjP2C7RgzaRJQ/AAAAAAAAAAA=",
            "dtype": "f8"
           }
          },
          {
           "marker": {
            "color": "red",
            "size": 10
           },
           "mode": "markers",
           "type": "scatter",
           "x": [
            0.5902777777777775
           ],
           "y": [
            0.24305555555555552
           ]
          }
         ],
         "name": "17"
        },
        {
         "data": [
          {
           "line": {
            "color": "blue",
            "width": 2
           },
           "mode": "lines",
           "type": "scatter",
           "x": {
            "bdata": "AAAAAAAAAACAu0YM2kSUv6C3Onjd2aO/oA1GVlEmrb/gryJQ5AOzvwhXHKshP7e/QPwPvOBEu7+In/2CIRW/v3Cg8v/xV8G/JHBjGZQKw7/gPtENd6LEv6QMPN2aH8a/dNmjh/+Bx79IpQgNpcnIvyhwam2L9sm/EDrJqLIIy78CAyW/GgDMv/rKfbDD3My//JHTfK2ezb8GWCYk2EXOvxoddqZD0s6/NOHCA/BDz79YpAw83ZrPv4ZmU08L18+/uieXPXr4z7/459cGKv/Pvz+nFasa68+/jmVQKky8z7/lIoiEvnLPv0bfvLlxDs+/rpruyWWPzr8gVR21mvXNv5oOSXsQQc2/HMdxHMdxzL+mfpeYvofLvzo1uu/2gsq/2OrZIXBjyb98n/YuKinIvylTEBcl1Ma/3wUn2mBkxb+dtzp43dnDv2RoS/GaNMK/NhhZRZl0wL8cjsfosDO9v93p1vywSLm/r0PgxjIotb+Sm+NGNtKwvw3jwfl2jai/ThZhowkXnr9SvUxWWHqEv3DBWOpU5YQ/9ieXPXr4nz9W+wyXISqrP0czrVGBYbM/5OrZIXBjuT9dpAw83Zq/P+yvIlDkA8M/lw5CJxlVxj86bmQjDcHJP97OiUTAR80/NxhZRZl00D+Bye76sVLSP0H7BUMqPtQ/gq2eHQI31j864LiKOT3YP2yTVIrQUNo/IcdxHMdx3D9LexBBHaDeP/xXGHzpbeA/jDLpIHSS4T9ezfqOrr3iP2ooTcaY7+M/tEPgxjIo5T9AH7SQfGfmPwa7yCN2rec/DhcegB/66D9PM7SleE3qP84Pi5SBp+s/j6yiTDoI7T+KCfvNom/uP8cmlBi73e8/HwI3lkGp8D/7UMSE/WbxP/T/8VcRKPI/DA/AD33s8j9Gfi6sQLTzP5tNPS1cf/Q/En3sks9N9T+mDDzdmh/2P1v8Kwy+9PY/LEy8HznN9z8c/OwXDKn4Py4MvvQ2iPk/XHwvtrlq+j+sTEFclFD7Pxh98+bGOfw/ow1GVlEm/T9Q/jiqMxb+PxhPzOJtCf8/AAAAAAAAAEA=",
            "dtype": "f8"
           },
           "y": {
            "bdata": "AAAAAAAAAMAXT8zibQn/v03+OKozFv6/ow1GVlEm/b8XffPmxjn8v6pMQVyUUPu/W3wvtrlq+r8sDL70Noj5vxv87BcMqfi/Kky8HznN979Y/CsMvvT2v6QMPN2aH/a/EH3sks9N9b+aTT0tXH/0v0N+LqxAtPO/DA/AD33s8r/y//FXESjyv/lQxIT9ZvG/HgI3lkGp8L/CJpQYu93vv4gJ+82ib+6/i6yiTDoI7b/OD4uUgafrv0oztKV4Teq/ChcegB/66L8Eu8gjdq3nvzwftJB8Z+a/skPgxjIo5b9nKE3GmO/jv1rN+o6uveK/ijLpIHSS4b/4Vxh86W3gv0d7EEEdoN6/GsdxHMdx3L9pk1SK0FDavzPguIo5Pdi/fK2eHQI31r8++wVDKj7Uv3vJ7vqxUtK/NBhZRZl00L/TzolEwEfNvzRuZCMNwcm/kg5CJxlVxr/iryJQ5APDv1OkDDzdmr+/0erZIXBjub8+M61RgWGzvzP7DJchKqu/sieXPXr4n78uwVjqVOWEv5C9TFZYeoQ/ihZhowkXnj8q48H5do2oP5mb40Y20rA/vEPgxjIotT/j6db8sEi5PyiOx+iwM70/ORhZRZl0wD9maEvxmjTCP6K3Onjd2cM/4QUn2mBkxT8uUxAXJdTGP36f9i4qKcg/2+rZIXBjyT89Nbrv9oLKP6h+l5i+h8s/HsdxHMdxzD+aDkl7EEHNPyJVHbWa9c0/r5ruyWWPzj9H37y5cQ7PP+YiiIS+cs8/jmVQKky8zz8/pxWrGuvPP/jn1wYq/88/uieXPXr4zz+EZlNPC9fPP1ikDDzdms8/NOHCA/BDzz8YHXamQ9LOPwRYJiTYRc4/+pHTfK2ezT/4yn2ww9zMPwADJb8aAMw/EDrJqLIIyz8kcGpti/bJP0ilCA2lycg/cNmjh/+Bxz+gDDzdmh/GP9g+0Q13osQ/IHBjGZQKwz9soPL/8VfBP3if/YIhFb8/OPwPvOBEuz/4VhyrIT+3P9ivIlDkA7M/oA1GVlEmrT+Atzp43dmjP2C7RgzaRJQ/AAAAAAAAAAA=",
            "dtype": "f8"
           }
          },
          {
           "marker": {
            "color": "red",
            "size": 10
           },
           "mode": "markers",
           "type": "scatter",
           "x": [
            0.75
           ],
           "y": [
            0.25
           ]
          }
         ],
         "name": "18"
        },
        {
         "data": [
          {
           "line": {
            "color": "blue",
            "width": 2
           },
           "mode": "lines",
           "type": "scatter",
           "x": {
            "bdata": "AAAAAAAAAACAu0YM2kSUv6C3Onjd2aO/oA1GVlEmrb/gryJQ5AOzvwhXHKshP7e/QPwPvOBEu7+In/2CIRW/v3Cg8v/xV8G/JHBjGZQKw7/gPtENd6LEv6QMPN2aH8a/dNmjh/+Bx79IpQgNpcnIvyhwam2L9sm/EDrJqLIIy78CAyW/GgDMv/rKfbDD3My//JHTfK2ezb8GWCYk2EXOvxoddqZD0s6/NOHCA/BDz79YpAw83ZrPv4ZmU08L18+/uieXPXr4z7/459cGKv/Pvz+nFasa68+/jmVQKky8z7/lIoiEvnLPv0bfvLlxDs+/rpruyWWPzr8gVR21mvXNv5oOSXsQQc2/HMdxHMdxzL+mfpeYvofLvzo1uu/2gsq/2OrZIXBjyb98n/YuKinIvylTEBcl1Ma/3wUn2mBkxb+dtzp43dnDv2RoS/GaNMK/NhhZRZl0wL8cjsfosDO9v93p1vywSLm/r0PgxjIotb+Sm+NGNtKwvw3jwfl2jai/ThZhowkXnr9SvUxWWHqEv3DBWOpU5YQ/9ieXPXr4nz9W+wyXISqrP0czrVGBYbM/5OrZIXBjuT9dpAw83Zq/P+yvIlDkA8M/lw5CJxlVxj86bmQjDcHJP97OiUTAR80/NxhZRZl00D+Bye76sVLSP0H7BUMqPtQ/gq2eHQI31j864LiKOT3YP2yTVIrQUNo/IcdxHMdx3D9LexBBHaDeP/xXGHzpbeA/jDLpIHSS4T9ezfqOrr3iP2ooTcaY7+M/tEPgxjIo5T9AH7SQfGfmPwa7yCN2rec/DhcegB/66D9PM7SleE3qP84Pi5SBp+s/j6yiTDoI7T+KCfvNom/uP8cmlBi73e8/HwI3lkGp8D/7UMSE/WbxP/T/8VcRKPI/DA/AD33s8j9Gfi6sQLTzP5tNPS1cf/Q/En3sks9N9T+mDDzdmh/2P1v8Kwy+9PY/LEy8HznN9z8c/OwXDKn4Py4MvvQ2iPk/XHwvtrlq+j+sTEFclFD7Pxh98+bGOfw/ow1GVlEm/T9Q/jiqMxb+PxhPzOJtCf8/AAAAAAAAAEA=",
            "dtype": "f8"
           },
           "y": {
            "bdata": "AAAAAAAAAMAXT8zibQn/v03+OKozFv6/ow1GVlEm/b8XffPmxjn8v6pMQVyUUPu/W3wvtrlq+r8sDL70Noj5vxv87BcMqfi/Kky8HznN979Y/CsMvvT2v6QMPN2aH/a/EH3sks9N9b+aTT0tXH/0v0N+LqxAtPO/DA/AD33s8r/y//FXESjyv/lQxIT9ZvG/HgI3lkGp8L/CJpQYu93vv4gJ+82ib+6/i6yiTDoI7b/OD4uUgafrv0oztKV4Teq/ChcegB/66L8Eu8gjdq3nvzwftJB8Z+a/skPgxjIo5b9nKE3GmO/jv1rN+o6uveK/ijLpIHSS4b/4Vxh86W3gv0d7EEEdoN6/GsdxHMdx3L9pk1SK0FDavzPguIo5Pdi/fK2eHQI31r8++wVDKj7Uv3vJ7vqxUtK/NBhZRZl00L/TzolEwEfNvzRuZCMNwcm/kg5CJxlVxr/iryJQ5APDv1OkDDzdmr+/0erZIXBjub8+M61RgWGzvzP7DJchKqu/sieXPXr4n78uwVjqVOWEv5C9TFZYeoQ/ihZhowkXnj8q48H5do2oP5mb40Y20rA/vEPgxjIotT/j6db8sEi5PyiOx+iwM70/ORhZRZl0wD9maEvxmjTCP6K3Onjd2cM/4QUn2mBkxT8uUxAXJdTGP36f9i4qKcg/2+rZIXBjyT89Nbrv9oLKP6h+l5i+h8s/HsdxHMdxzD+aDkl7EEHNPyJVHbWa9c0/r5ruyWWPzj9H37y5cQ7PP+YiiIS+cs8/jmVQKky8zz8/pxWrGuvPP/jn1wYq/88/uieXPXr4zz+EZlNPC9fPP1ikDDzdms8/NOHCA/BDzz8YHXamQ9LOPwRYJiTYRc4/+pHTfK2ezT/4yn2ww9zMPwADJb8aAMw/EDrJqLIIyz8kcGpti/bJP0ilCA2lycg/cNmjh/+Bxz+gDDzdmh/GP9g+0Q13osQ/IHBjGZQKwz9soPL/8VfBP3if/YIhFb8/OPwPvOBEuz/4VhyrIT+3P9ivIlDkA7M/oA1GVlEmrT+Atzp43dmjP2C7RgzaRJQ/AAAAAAAAAAA=",
            "dtype": "f8"
           }
          },
          {
           "marker": {
            "color": "red",
            "size": 10
           },
           "mode": "markers",
           "type": "scatter",
           "x": [
            0.9236111111111109
           ],
           "y": [
            0.24305555555555558
           ]
          }
         ],
         "name": "19"
        },
        {
         "data": [
          {
           "line": {
            "color": "blue",
            "width": 2
           },
           "mode": "lines",
           "type": "scatter",
           "x": {
            "bdata": "AAAAAAAAAACAu0YM2kSUv6C3Onjd2aO/oA1GVlEmrb/gryJQ5AOzvwhXHKshP7e/QPwPvOBEu7+In/2CIRW/v3Cg8v/xV8G/JHBjGZQKw7/gPtENd6LEv6QMPN2aH8a/dNmjh/+Bx79IpQgNpcnIvyhwam2L9sm/EDrJqLIIy78CAyW/GgDMv/rKfbDD3My//JHTfK2ezb8GWCYk2EXOvxoddqZD0s6/NOHCA/BDz79YpAw83ZrPv4ZmU08L18+/uieXPXr4z7/459cGKv/Pvz+nFasa68+/jmVQKky8z7/lIoiEvnLPv0bfvLlxDs+/rpruyWWPzr8gVR21mvXNv5oOSXsQQc2/HMdxHMdxzL+mfpeYvofLvzo1uu/2gsq/2OrZIXBjyb98n/YuKinIvylTEBcl1Ma/3wUn2mBkxb+dtzp43dnDv2RoS/GaNMK/NhhZRZl0wL8cjsfosDO9v93p1vywSLm/r0PgxjIotb+Sm+NGNtKwvw3jwfl2jai/ThZhowkXnr9SvUxWWHqEv3DBWOpU5YQ/9ieXPXr4nz9W+wyXISqrP0czrVGBYbM/5OrZIXBjuT9dpAw83Zq/P+yvIlDkA8M/lw5CJxlVxj86bmQjDcHJP97OiUTAR80/NxhZRZl00D+Bye76sVLSP0H7BUMqPtQ/gq2eHQI31j864LiKOT3YP2yTVIrQUNo/IcdxHMdx3D9LexBBHaDeP/xXGHzpbeA/jDLpIHSS4T9ezfqOrr3iP2ooTcaY7+M/tEPgxjIo5T9AH7SQfGfmPwa7yCN2rec/DhcegB/66D9PM7SleE3qP84Pi5SBp+s/j6yiTDoI7T+KCfvNom/uP8cmlBi73e8/HwI3lkGp8D/7UMSE/WbxP/T/8VcRKPI/DA/AD33s8j9Gfi6sQLTzP5tNPS1cf/Q/En3sks9N9T+mDDzdmh/2P1v8Kwy+9PY/LEy8HznN9z8c/OwXDKn4Py4MvvQ2iPk/XHwvtrlq+j+sTEFclFD7Pxh98+bGOfw/ow1GVlEm/T9Q/jiqMxb+PxhPzOJtCf8/AAAAAAAAAEA=",
            "dtype": "f8"
           },
           "y": {
            "bdata": "AAAAAAAAAMAXT8zibQn/v03+OKozFv6/ow1GVlEm/b8XffPmxjn8v6pMQVyUUPu/W3wvtrlq+r8sDL70Noj5vxv87BcMqfi/Kky8HznN979Y/CsMvvT2v6QMPN2aH/a/EH3sks9N9b+aTT0tXH/0v0N+LqxAtPO/DA/AD33s8r/y//FXESjyv/lQxIT9ZvG/HgI3lkGp8L/CJpQYu93vv4gJ+82ib+6/i6yiTDoI7b/OD4uUgafrv0oztKV4Teq/ChcegB/66L8Eu8gjdq3nvzwftJB8Z+a/skPgxjIo5b9nKE3GmO/jv1rN+o6uveK/ijLpIHSS4b/4Vxh86W3gv0d7EEEdoN6/GsdxHMdx3L9pk1SK0FDavzPguIo5Pdi/fK2eHQI31r8++wVDKj7Uv3vJ7vqxUtK/NBhZRZl00L/TzolEwEfNvzRuZCMNwcm/kg5CJxlVxr/iryJQ5APDv1OkDDzdmr+/0erZIXBjub8+M61RgWGzvzP7DJchKqu/sieXPXr4n78uwVjqVOWEv5C9TFZYeoQ/ihZhowkXnj8q48H5do2oP5mb40Y20rA/vEPgxjIotT/j6db8sEi5PyiOx+iwM70/ORhZRZl0wD9maEvxmjTCP6K3Onjd2cM/4QUn2mBkxT8uUxAXJdTGP36f9i4qKcg/2+rZIXBjyT89Nbrv9oLKP6h+l5i+h8s/HsdxHMdxzD+aDkl7EEHNPyJVHbWa9c0/r5ruyWWPzj9H37y5cQ7PP+YiiIS+cs8/jmVQKky8zz8/pxWrGuvPP/jn1wYq/88/uieXPXr4zz+EZlNPC9fPP1ikDDzdms8/NOHCA/BDzz8YHXamQ9LOPwRYJiTYRc4/+pHTfK2ezT/4yn2ww9zMPwADJb8aAMw/EDrJqLIIyz8kcGpti/bJP0ilCA2lycg/cNmjh/+Bxz+gDDzdmh/GP9g+0Q13osQ/IHBjGZQKwz9soPL/8VfBP3if/YIhFb8/OPwPvOBEuz/4VhyrIT+3P9ivIlDkA7M/oA1GVlEmrT+Atzp43dmjP2C7RgzaRJQ/AAAAAAAAAAA=",
            "dtype": "f8"
           }
          },
          {
           "marker": {
            "color": "red",
            "size": 10
           },
           "mode": "markers",
           "type": "scatter",
           "x": [
            1.1111111111111107
           ],
           "y": [
            0.22222222222222227
           ]
          }
         ],
         "name": "20"
        },
        {
         "data": [
          {
           "line": {
            "color": "blue",
            "width": 2
           },
           "mode": "lines",
           "type": "scatter",
           "x": {
            "bdata": "AAAAAAAAAACAu0YM2kSUv6C3Onjd2aO/oA1GVlEmrb/gryJQ5AOzvwhXHKshP7e/QPwPvOBEu7+In/2CIRW/v3Cg8v/xV8G/JHBjGZQKw7/gPtENd6LEv6QMPN2aH8a/dNmjh/+Bx79IpQgNpcnIvyhwam2L9sm/EDrJqLIIy78CAyW/GgDMv/rKfbDD3My//JHTfK2ezb8GWCYk2EXOvxoddqZD0s6/NOHCA/BDz79YpAw83ZrPv4ZmU08L18+/uieXPXr4z7/459cGKv/Pvz+nFasa68+/jmVQKky8z7/lIoiEvnLPv0bfvLlxDs+/rpruyWWPzr8gVR21mvXNv5oOSXsQQc2/HMdxHMdxzL+mfpeYvofLvzo1uu/2gsq/2OrZIXBjyb98n/YuKinIvylTEBcl1Ma/3wUn2mBkxb+dtzp43dnDv2RoS/GaNMK/NhhZRZl0wL8cjsfosDO9v93p1vywSLm/r0PgxjIotb+Sm+NGNtKwvw3jwfl2jai/ThZhowkXnr9SvUxWWHqEv3DBWOpU5YQ/9ieXPXr4nz9W+wyXISqrP0czrVGBYbM/5OrZIXBjuT9dpAw83Zq/P+yvIlDkA8M/lw5CJxlVxj86bmQjDcHJP97OiUTAR80/NxhZRZl00D+Bye76sVLSP0H7BUMqPtQ/gq2eHQI31j864LiKOT3YP2yTVIrQUNo/IcdxHMdx3D9LexBBHaDeP/xXGHzpbeA/jDLpIHSS4T9ezfqOrr3iP2ooTcaY7+M/tEPgxjIo5T9AH7SQfGfmPwa7yCN2rec/DhcegB/66D9PM7SleE3qP84Pi5SBp+s/j6yiTDoI7T+KCfvNom/uP8cmlBi73e8/HwI3lkGp8D/7UMSE/WbxP/T/8VcRKPI/DA/AD33s8j9Gfi6sQLTzP5tNPS1cf/Q/En3sks9N9T+mDDzdmh/2P1v8Kwy+9PY/LEy8HznN9z8c/OwXDKn4Py4MvvQ2iPk/XHwvtrlq+j+sTEFclFD7Pxh98+bGOfw/ow1GVlEm/T9Q/jiqMxb+PxhPzOJtCf8/AAAAAAAAAEA=",
            "dtype": "f8"
           },
           "y": {
            "bdata": "AAAAAAAAAMAXT8zibQn/v03+OKozFv6/ow1GVlEm/b8XffPmxjn8v6pMQVyUUPu/W3wvtrlq+r8sDL70Noj5vxv87BcMqfi/Kky8HznN979Y/CsMvvT2v6QMPN2aH/a/EH3sks9N9b+aTT0tXH/0v0N+LqxAtPO/DA/AD33s8r/y//FXESjyv/lQxIT9ZvG/HgI3lkGp8L/CJpQYu93vv4gJ+82ib+6/i6yiTDoI7b/OD4uUgafrv0oztKV4Teq/ChcegB/66L8Eu8gjdq3nvzwftJB8Z+a/skPgxjIo5b9nKE3GmO/jv1rN+o6uveK/ijLpIHSS4b/4Vxh86W3gv0d7EEEdoN6/GsdxHMdx3L9pk1SK0FDavzPguIo5Pdi/fK2eHQI31r8++wVDKj7Uv3vJ7vqxUtK/NBhZRZl00L/TzolEwEfNvzRuZCMNwcm/kg5CJxlVxr/iryJQ5APDv1OkDDzdmr+/0erZIXBjub8+M61RgWGzvzP7DJchKqu/sieXPXr4n78uwVjqVOWEv5C9TFZYeoQ/ihZhowkXnj8q48H5do2oP5mb40Y20rA/vEPgxjIotT/j6db8sEi5PyiOx+iwM70/ORhZRZl0wD9maEvxmjTCP6K3Onjd2cM/4QUn2mBkxT8uUxAXJdTGP36f9i4qKcg/2+rZIXBjyT89Nbrv9oLKP6h+l5i+h8s/HsdxHMdxzD+aDkl7EEHNPyJVHbWa9c0/r5ruyWWPzj9H37y5cQ7PP+YiiIS+cs8/jmVQKky8zz8/pxWrGuvPP/jn1wYq/88/uieXPXr4zz+EZlNPC9fPP1ikDDzdms8/NOHCA/BDzz8YHXamQ9LOPwRYJiTYRc4/+pHTfK2ezT/4yn2ww9zMPwADJb8aAMw/EDrJqLIIyz8kcGpti/bJP0ilCA2lycg/cNmjh/+Bxz+gDDzdmh/GP9g+0Q13osQ/IHBjGZQKwz9soPL/8VfBP3if/YIhFb8/OPwPvOBEuz/4VhyrIT+3P9ivIlDkA7M/oA1GVlEmrT+Atzp43dmjP2C7RgzaRJQ/AAAAAAAAAAA=",
            "dtype": "f8"
           }
          },
          {
           "marker": {
            "color": "red",
            "size": 10
           },
           "mode": "markers",
           "type": "scatter",
           "x": [
            1.3125
           ],
           "y": [
            0.1875
           ]
          }
         ],
         "name": "21"
        },
        {
         "data": [
          {
           "line": {
            "color": "blue",
            "width": 2
           },
           "mode": "lines",
           "type": "scatter",
           "x": {
            "bdata": "AAAAAAAAAACAu0YM2kSUv6C3Onjd2aO/oA1GVlEmrb/gryJQ5AOzvwhXHKshP7e/QPwPvOBEu7+In/2CIRW/v3Cg8v/xV8G/JHBjGZQKw7/gPtENd6LEv6QMPN2aH8a/dNmjh/+Bx79IpQgNpcnIvyhwam2L9sm/EDrJqLIIy78CAyW/GgDMv/rKfbDD3My//JHTfK2ezb8GWCYk2EXOvxoddqZD0s6/NOHCA/BDz79YpAw83ZrPv4ZmU08L18+/uieXPXr4z7/459cGKv/Pvz+nFasa68+/jmVQKky8z7/lIoiEvnLPv0bfvLlxDs+/rpruyWWPzr8gVR21mvXNv5oOSXsQQc2/HMdxHMdxzL+mfpeYvofLvzo1uu/2gsq/2OrZIXBjyb98n/YuKinIvylTEBcl1Ma/3wUn2mBkxb+dtzp43dnDv2RoS/GaNMK/NhhZRZl0wL8cjsfosDO9v93p1vywSLm/r0PgxjIotb+Sm+NGNtKwvw3jwfl2jai/ThZhowkXnr9SvUxWWHqEv3DBWOpU5YQ/9ieXPXr4nz9W+wyXISqrP0czrVGBYbM/5OrZIXBjuT9dpAw83Zq/P+yvIlDkA8M/lw5CJxlVxj86bmQjDcHJP97OiUTAR80/NxhZRZl00D+Bye76sVLSP0H7BUMqPtQ/gq2eHQI31j864LiKOT3YP2yTVIrQUNo/IcdxHMdx3D9LexBBHaDeP/xXGHzpbeA/jDLpIHSS4T9ezfqOrr3iP2ooTcaY7+M/tEPgxjIo5T9AH7SQfGfmPwa7yCN2rec/DhcegB/66D9PM7SleE3qP84Pi5SBp+s/j6yiTDoI7T+KCfvNom/uP8cmlBi73e8/HwI3lkGp8D/7UMSE/WbxP/T/8VcRKPI/DA/AD33s8j9Gfi6sQLTzP5tNPS1cf/Q/En3sks9N9T+mDDzdmh/2P1v8Kwy+9PY/LEy8HznN9z8c/OwXDKn4Py4MvvQ2iPk/XHwvtrlq+j+sTEFclFD7Pxh98+bGOfw/ow1GVlEm/T9Q/jiqMxb+PxhPzOJtCf8/AAAAAAAAAEA=",
            "dtype": "f8"
           },
           "y": {
            "bdata": "AAAAAAAAAMAXT8zibQn/v03+OKozFv6/ow1GVlEm/b8XffPmxjn8v6pMQVyUUPu/W3wvtrlq+r8sDL70Noj5vxv87BcMqfi/Kky8HznN979Y/CsMvvT2v6QMPN2aH/a/EH3sks9N9b+aTT0tXH/0v0N+LqxAtPO/DA/AD33s8r/y//FXESjyv/lQxIT9ZvG/HgI3lkGp8L/CJpQYu93vv4gJ+82ib+6/i6yiTDoI7b/OD4uUgafrv0oztKV4Teq/ChcegB/66L8Eu8gjdq3nvzwftJB8Z+a/skPgxjIo5b9nKE3GmO/jv1rN+o6uveK/ijLpIHSS4b/4Vxh86W3gv0d7EEEdoN6/GsdxHMdx3L9pk1SK0FDavzPguIo5Pdi/fK2eHQI31r8++wVDKj7Uv3vJ7vqxUtK/NBhZRZl00L/TzolEwEfNvzRuZCMNwcm/kg5CJxlVxr/iryJQ5APDv1OkDDzdmr+/0erZIXBjub8+M61RgWGzvzP7DJchKqu/sieXPXr4n78uwVjqVOWEv5C9TFZYeoQ/ihZhowkXnj8q48H5do2oP5mb40Y20rA/vEPgxjIotT/j6db8sEi5PyiOx+iwM70/ORhZRZl0wD9maEvxmjTCP6K3Onjd2cM/4QUn2mBkxT8uUxAXJdTGP36f9i4qKcg/2+rZIXBjyT89Nbrv9oLKP6h+l5i+h8s/HsdxHMdxzD+aDkl7EEHNPyJVHbWa9c0/r5ruyWWPzj9H37y5cQ7PP+YiiIS+cs8/jmVQKky8zz8/pxWrGuvPP/jn1wYq/88/uieXPXr4zz+EZlNPC9fPP1ikDDzdms8/NOHCA/BDzz8YHXamQ9LOPwRYJiTYRc4/+pHTfK2ezT/4yn2ww9zMPwADJb8aAMw/EDrJqLIIyz8kcGpti/bJP0ilCA2lycg/cNmjh/+Bxz+gDDzdmh/GP9g+0Q13osQ/IHBjGZQKwz9soPL/8VfBP3if/YIhFb8/OPwPvOBEuz/4VhyrIT+3P9ivIlDkA7M/oA1GVlEmrT+Atzp43dmjP2C7RgzaRJQ/AAAAAAAAAAA=",
            "dtype": "f8"
           }
          },
          {
           "marker": {
            "color": "red",
            "size": 10
           },
           "mode": "markers",
           "type": "scatter",
           "x": [
            1.5277777777777777
           ],
           "y": [
            0.13888888888888895
           ]
          }
         ],
         "name": "22"
        },
        {
         "data": [
          {
           "line": {
            "color": "blue",
            "width": 2
           },
           "mode": "lines",
           "type": "scatter",
           "x": {
            "bdata": "AAAAAAAAAACAu0YM2kSUv6C3Onjd2aO/oA1GVlEmrb/gryJQ5AOzvwhXHKshP7e/QPwPvOBEu7+In/2CIRW/v3Cg8v/xV8G/JHBjGZQKw7/gPtENd6LEv6QMPN2aH8a/dNmjh/+Bx79IpQgNpcnIvyhwam2L9sm/EDrJqLIIy78CAyW/GgDMv/rKfbDD3My//JHTfK2ezb8GWCYk2EXOvxoddqZD0s6/NOHCA/BDz79YpAw83ZrPv4ZmU08L18+/uieXPXr4z7/459cGKv/Pvz+nFasa68+/jmVQKky8z7/lIoiEvnLPv0bfvLlxDs+/rpruyWWPzr8gVR21mvXNv5oOSXsQQc2/HMdxHMdxzL+mfpeYvofLvzo1uu/2gsq/2OrZIXBjyb98n/YuKinIvylTEBcl1Ma/3wUn2mBkxb+dtzp43dnDv2RoS/GaNMK/NhhZRZl0wL8cjsfosDO9v93p1vywSLm/r0PgxjIotb+Sm+NGNtKwvw3jwfl2jai/ThZhowkXnr9SvUxWWHqEv3DBWOpU5YQ/9ieXPXr4nz9W+wyXISqrP0czrVGBYbM/5OrZIXBjuT9dpAw83Zq/P+yvIlDkA8M/lw5CJxlVxj86bmQjDcHJP97OiUTAR80/NxhZRZl00D+Bye76sVLSP0H7BUMqPtQ/gq2eHQI31j864LiKOT3YP2yTVIrQUNo/IcdxHMdx3D9LexBBHaDeP/xXGHzpbeA/jDLpIHSS4T9ezfqOrr3iP2ooTcaY7+M/tEPgxjIo5T9AH7SQfGfmPwa7yCN2rec/DhcegB/66D9PM7SleE3qP84Pi5SBp+s/j6yiTDoI7T+KCfvNom/uP8cmlBi73e8/HwI3lkGp8D/7UMSE/WbxP/T/8VcRKPI/DA/AD33s8j9Gfi6sQLTzP5tNPS1cf/Q/En3sks9N9T+mDDzdmh/2P1v8Kwy+9PY/LEy8HznN9z8c/OwXDKn4Py4MvvQ2iPk/XHwvtrlq+j+sTEFclFD7Pxh98+bGOfw/ow1GVlEm/T9Q/jiqMxb+PxhPzOJtCf8/AAAAAAAAAEA=",
            "dtype": "f8"
           },
           "y": {
            "bdata": "AAAAAAAAAMAXT8zibQn/v03+OKozFv6/ow1GVlEm/b8XffPmxjn8v6pMQVyUUPu/W3wvtrlq+r8sDL70Noj5vxv87BcMqfi/Kky8HznN979Y/CsMvvT2v6QMPN2aH/a/EH3sks9N9b+aTT0tXH/0v0N+LqxAtPO/DA/AD33s8r/y//FXESjyv/lQxIT9ZvG/HgI3lkGp8L/CJpQYu93vv4gJ+82ib+6/i6yiTDoI7b/OD4uUgafrv0oztKV4Teq/ChcegB/66L8Eu8gjdq3nvzwftJB8Z+a/skPgxjIo5b9nKE3GmO/jv1rN+o6uveK/ijLpIHSS4b/4Vxh86W3gv0d7EEEdoN6/GsdxHMdx3L9pk1SK0FDavzPguIo5Pdi/fK2eHQI31r8++wVDKj7Uv3vJ7vqxUtK/NBhZRZl00L/TzolEwEfNvzRuZCMNwcm/kg5CJxlVxr/iryJQ5APDv1OkDDzdmr+/0erZIXBjub8+M61RgWGzvzP7DJchKqu/sieXPXr4n78uwVjqVOWEv5C9TFZYeoQ/ihZhowkXnj8q48H5do2oP5mb40Y20rA/vEPgxjIotT/j6db8sEi5PyiOx+iwM70/ORhZRZl0wD9maEvxmjTCP6K3Onjd2cM/4QUn2mBkxT8uUxAXJdTGP36f9i4qKcg/2+rZIXBjyT89Nbrv9oLKP6h+l5i+h8s/HsdxHMdxzD+aDkl7EEHNPyJVHbWa9c0/r5ruyWWPzj9H37y5cQ7PP+YiiIS+cs8/jmVQKky8zz8/pxWrGuvPP/jn1wYq/88/uieXPXr4zz+EZlNPC9fPP1ikDDzdms8/NOHCA/BDzz8YHXamQ9LOPwRYJiTYRc4/+pHTfK2ezT/4yn2ww9zMPwADJb8aAMw/EDrJqLIIyz8kcGpti/bJP0ilCA2lycg/cNmjh/+Bxz+gDDzdmh/GP9g+0Q13osQ/IHBjGZQKwz9soPL/8VfBP3if/YIhFb8/OPwPvOBEuz/4VhyrIT+3P9ivIlDkA7M/oA1GVlEmrT+Atzp43dmjP2C7RgzaRJQ/AAAAAAAAAAA=",
            "dtype": "f8"
           }
          },
          {
           "marker": {
            "color": "red",
            "size": 10
           },
           "mode": "markers",
           "type": "scatter",
           "x": [
            1.756944444444444
           ],
           "y": [
            0.07638888888888906
           ]
          }
         ],
         "name": "23"
        },
        {
         "data": [
          {
           "line": {
            "color": "blue",
            "width": 2
           },
           "mode": "lines",
           "type": "scatter",
           "x": {
            "bdata": "AAAAAAAAAACAu0YM2kSUv6C3Onjd2aO/oA1GVlEmrb/gryJQ5AOzvwhXHKshP7e/QPwPvOBEu7+In/2CIRW/v3Cg8v/xV8G/JHBjGZQKw7/gPtENd6LEv6QMPN2aH8a/dNmjh/+Bx79IpQgNpcnIvyhwam2L9sm/EDrJqLIIy78CAyW/GgDMv/rKfbDD3My//JHTfK2ezb8GWCYk2EXOvxoddqZD0s6/NOHCA/BDz79YpAw83ZrPv4ZmU08L18+/uieXPXr4z7/459cGKv/Pvz+nFasa68+/jmVQKky8z7/lIoiEvnLPv0bfvLlxDs+/rpruyWWPzr8gVR21mvXNv5oOSXsQQc2/HMdxHMdxzL+mfpeYvofLvzo1uu/2gsq/2OrZIXBjyb98n/YuKinIvylTEBcl1Ma/3wUn2mBkxb+dtzp43dnDv2RoS/GaNMK/NhhZRZl0wL8cjsfosDO9v93p1vywSLm/r0PgxjIotb+Sm+NGNtKwvw3jwfl2jai/ThZhowkXnr9SvUxWWHqEv3DBWOpU5YQ/9ieXPXr4nz9W+wyXISqrP0czrVGBYbM/5OrZIXBjuT9dpAw83Zq/P+yvIlDkA8M/lw5CJxlVxj86bmQjDcHJP97OiUTAR80/NxhZRZl00D+Bye76sVLSP0H7BUMqPtQ/gq2eHQI31j864LiKOT3YP2yTVIrQUNo/IcdxHMdx3D9LexBBHaDeP/xXGHzpbeA/jDLpIHSS4T9ezfqOrr3iP2ooTcaY7+M/tEPgxjIo5T9AH7SQfGfmPwa7yCN2rec/DhcegB/66D9PM7SleE3qP84Pi5SBp+s/j6yiTDoI7T+KCfvNom/uP8cmlBi73e8/HwI3lkGp8D/7UMSE/WbxP/T/8VcRKPI/DA/AD33s8j9Gfi6sQLTzP5tNPS1cf/Q/En3sks9N9T+mDDzdmh/2P1v8Kwy+9PY/LEy8HznN9z8c/OwXDKn4Py4MvvQ2iPk/XHwvtrlq+j+sTEFclFD7Pxh98+bGOfw/ow1GVlEm/T9Q/jiqMxb+PxhPzOJtCf8/AAAAAAAAAEA=",
            "dtype": "f8"
           },
           "y": {
            "bdata": "AAAAAAAAAMAXT8zibQn/v03+OKozFv6/ow1GVlEm/b8XffPmxjn8v6pMQVyUUPu/W3wvtrlq+r8sDL70Noj5vxv87BcMqfi/Kky8HznN979Y/CsMvvT2v6QMPN2aH/a/EH3sks9N9b+aTT0tXH/0v0N+LqxAtPO/DA/AD33s8r/y//FXESjyv/lQxIT9ZvG/HgI3lkGp8L/CJpQYu93vv4gJ+82ib+6/i6yiTDoI7b/OD4uUgafrv0oztKV4Teq/ChcegB/66L8Eu8gjdq3nvzwftJB8Z+a/skPgxjIo5b9nKE3GmO/jv1rN+o6uveK/ijLpIHSS4b/4Vxh86W3gv0d7EEEdoN6/GsdxHMdx3L9pk1SK0FDavzPguIo5Pdi/fK2eHQI31r8++wVDKj7Uv3vJ7vqxUtK/NBhZRZl00L/TzolEwEfNvzRuZCMNwcm/kg5CJxlVxr/iryJQ5APDv1OkDDzdmr+/0erZIXBjub8+M61RgWGzvzP7DJchKqu/sieXPXr4n78uwVjqVOWEv5C9TFZYeoQ/ihZhowkXnj8q48H5do2oP5mb40Y20rA/vEPgxjIotT/j6db8sEi5PyiOx+iwM70/ORhZRZl0wD9maEvxmjTCP6K3Onjd2cM/4QUn2mBkxT8uUxAXJdTGP36f9i4qKcg/2+rZIXBjyT89Nbrv9oLKP6h+l5i+h8s/HsdxHMdxzD+aDkl7EEHNPyJVHbWa9c0/r5ruyWWPzj9H37y5cQ7PP+YiiIS+cs8/jmVQKky8zz8/pxWrGuvPP/jn1wYq/88/uieXPXr4zz+EZlNPC9fPP1ikDDzdms8/NOHCA/BDzz8YHXamQ9LOPwRYJiTYRc4/+pHTfK2ezT/4yn2ww9zMPwADJb8aAMw/EDrJqLIIyz8kcGpti/bJP0ilCA2lycg/cNmjh/+Bxz+gDDzdmh/GP9g+0Q13osQ/IHBjGZQKwz9soPL/8VfBP3if/YIhFb8/OPwPvOBEuz/4VhyrIT+3P9ivIlDkA7M/oA1GVlEmrT+Atzp43dmjP2C7RgzaRJQ/AAAAAAAAAAA=",
            "dtype": "f8"
           }
          },
          {
           "marker": {
            "color": "red",
            "size": 10
           },
           "mode": "markers",
           "type": "scatter",
           "x": [
            2
           ],
           "y": [
            0
           ]
          }
         ],
         "name": "24"
        }
       ],
       "layout": {
        "height": 450,
        "sliders": [
         {
          "currentvalue": {
           "prefix": "Time: ",
           "visible": true,
           "xanchor": "center"
          },
          "steps": [
           {
            "args": [
             [
              "0"
             ],
             {
              "frame": {
               "duration": 0,
               "redraw": true
              },
              "mode": "immediate",
              "transition": {
               "duration": 0
              }
             }
            ],
            "label": "0",
            "method": "animate"
           },
           {
            "args": [
             [
              "1"
             ],
             {
              "frame": {
               "duration": 0,
               "redraw": true
              },
              "mode": "immediate",
              "transition": {
               "duration": 0
              }
             }
            ],
            "label": "1",
            "method": "animate"
           },
           {
            "args": [
             [
              "2"
             ],
             {
              "frame": {
               "duration": 0,
               "redraw": true
              },
              "mode": "immediate",
              "transition": {
               "duration": 0
              }
             }
            ],
            "label": "2",
            "method": "animate"
           },
           {
            "args": [
             [
              "3"
             ],
             {
              "frame": {
               "duration": 0,
               "redraw": true
              },
              "mode": "immediate",
              "transition": {
               "duration": 0
              }
             }
            ],
            "label": "3",
            "method": "animate"
           },
           {
            "args": [
             [
              "4"
             ],
             {
              "frame": {
               "duration": 0,
               "redraw": true
              },
              "mode": "immediate",
              "transition": {
               "duration": 0
              }
             }
            ],
            "label": "4",
            "method": "animate"
           },
           {
            "args": [
             [
              "5"
             ],
             {
              "frame": {
               "duration": 0,
               "redraw": true
              },
              "mode": "immediate",
              "transition": {
               "duration": 0
              }
             }
            ],
            "label": "5",
            "method": "animate"
           },
           {
            "args": [
             [
              "6"
             ],
             {
              "frame": {
               "duration": 0,
               "redraw": true
              },
              "mode": "immediate",
              "transition": {
               "duration": 0
              }
             }
            ],
            "label": "6",
            "method": "animate"
           },
           {
            "args": [
             [
              "7"
             ],
             {
              "frame": {
               "duration": 0,
               "redraw": true
              },
              "mode": "immediate",
              "transition": {
               "duration": 0
              }
             }
            ],
            "label": "7",
            "method": "animate"
           },
           {
            "args": [
             [
              "8"
             ],
             {
              "frame": {
               "duration": 0,
               "redraw": true
              },
              "mode": "immediate",
              "transition": {
               "duration": 0
              }
             }
            ],
            "label": "8",
            "method": "animate"
           },
           {
            "args": [
             [
              "9"
             ],
             {
              "frame": {
               "duration": 0,
               "redraw": true
              },
              "mode": "immediate",
              "transition": {
               "duration": 0
              }
             }
            ],
            "label": "9",
            "method": "animate"
           },
           {
            "args": [
             [
              "10"
             ],
             {
              "frame": {
               "duration": 0,
               "redraw": true
              },
              "mode": "immediate",
              "transition": {
               "duration": 0
              }
             }
            ],
            "label": "10",
            "method": "animate"
           },
           {
            "args": [
             [
              "11"
             ],
             {
              "frame": {
               "duration": 0,
               "redraw": true
              },
              "mode": "immediate",
              "transition": {
               "duration": 0
              }
             }
            ],
            "label": "11",
            "method": "animate"
           },
           {
            "args": [
             [
              "12"
             ],
             {
              "frame": {
               "duration": 0,
               "redraw": true
              },
              "mode": "immediate",
              "transition": {
               "duration": 0
              }
             }
            ],
            "label": "12",
            "method": "animate"
           },
           {
            "args": [
             [
              "13"
             ],
             {
              "frame": {
               "duration": 0,
               "redraw": true
              },
              "mode": "immediate",
              "transition": {
               "duration": 0
              }
             }
            ],
            "label": "13",
            "method": "animate"
           },
           {
            "args": [
             [
              "14"
             ],
             {
              "frame": {
               "duration": 0,
               "redraw": true
              },
              "mode": "immediate",
              "transition": {
               "duration": 0
              }
             }
            ],
            "label": "14",
            "method": "animate"
           },
           {
            "args": [
             [
              "15"
             ],
             {
              "frame": {
               "duration": 0,
               "redraw": true
              },
              "mode": "immediate",
              "transition": {
               "duration": 0
              }
             }
            ],
            "label": "15",
            "method": "animate"
           },
           {
            "args": [
             [
              "16"
             ],
             {
              "frame": {
               "duration": 0,
               "redraw": true
              },
              "mode": "immediate",
              "transition": {
               "duration": 0
              }
             }
            ],
            "label": "16",
            "method": "animate"
           },
           {
            "args": [
             [
              "17"
             ],
             {
              "frame": {
               "duration": 0,
               "redraw": true
              },
              "mode": "immediate",
              "transition": {
               "duration": 0
              }
             }
            ],
            "label": "17",
            "method": "animate"
           },
           {
            "args": [
             [
              "18"
             ],
             {
              "frame": {
               "duration": 0,
               "redraw": true
              },
              "mode": "immediate",
              "transition": {
               "duration": 0
              }
             }
            ],
            "label": "18",
            "method": "animate"
           },
           {
            "args": [
             [
              "19"
             ],
             {
              "frame": {
               "duration": 0,
               "redraw": true
              },
              "mode": "immediate",
              "transition": {
               "duration": 0
              }
             }
            ],
            "label": "19",
            "method": "animate"
           },
           {
            "args": [
             [
              "20"
             ],
             {
              "frame": {
               "duration": 0,
               "redraw": true
              },
              "mode": "immediate",
              "transition": {
               "duration": 0
              }
             }
            ],
            "label": "20",
            "method": "animate"
           },
           {
            "args": [
             [
              "21"
             ],
             {
              "frame": {
               "duration": 0,
               "redraw": true
              },
              "mode": "immediate",
              "transition": {
               "duration": 0
              }
             }
            ],
            "label": "21",
            "method": "animate"
           },
           {
            "args": [
             [
              "22"
             ],
             {
              "frame": {
               "duration": 0,
               "redraw": true
              },
              "mode": "immediate",
              "transition": {
               "duration": 0
              }
             }
            ],
            "label": "22",
            "method": "animate"
           },
           {
            "args": [
             [
              "23"
             ],
             {
              "frame": {
               "duration": 0,
               "redraw": true
              },
              "mode": "immediate",
              "transition": {
               "duration": 0
              }
             }
            ],
            "label": "23",
            "method": "animate"
           },
           {
            "args": [
             [
              "24"
             ],
             {
              "frame": {
               "duration": 0,
               "redraw": true
              },
              "mode": "immediate",
              "transition": {
               "duration": 0
              }
             }
            ],
            "label": "24",
            "method": "animate"
           }
          ]
         }
        ],
        "template": {
         "data": {
          "bar": [
           {
            "error_x": {
             "color": "#2a3f5f"
            },
            "error_y": {
             "color": "#2a3f5f"
            },
            "marker": {
             "line": {
              "color": "#E5ECF6",
              "width": 0.5
             },
             "pattern": {
              "fillmode": "overlay",
              "size": 10,
              "solidity": 0.2
             }
            },
            "type": "bar"
           }
          ],
          "barpolar": [
           {
            "marker": {
             "line": {
              "color": "#E5ECF6",
              "width": 0.5
             },
             "pattern": {
              "fillmode": "overlay",
              "size": 10,
              "solidity": 0.2
             }
            },
            "type": "barpolar"
           }
          ],
          "carpet": [
           {
            "aaxis": {
             "endlinecolor": "#2a3f5f",
             "gridcolor": "white",
             "linecolor": "white",
             "minorgridcolor": "white",
             "startlinecolor": "#2a3f5f"
            },
            "baxis": {
             "endlinecolor": "#2a3f5f",
             "gridcolor": "white",
             "linecolor": "white",
             "minorgridcolor": "white",
             "startlinecolor": "#2a3f5f"
            },
            "type": "carpet"
           }
          ],
          "choropleth": [
           {
            "colorbar": {
             "outlinewidth": 0,
             "ticks": ""
            },
            "type": "choropleth"
           }
          ],
          "contour": [
           {
            "colorbar": {
             "outlinewidth": 0,
             "ticks": ""
            },
            "colorscale": [
             [
              0,
              "#0d0887"
             ],
             [
              0.1111111111111111,
              "#46039f"
             ],
             [
              0.2222222222222222,
              "#7201a8"
             ],
             [
              0.3333333333333333,
              "#9c179e"
             ],
             [
              0.4444444444444444,
              "#bd3786"
             ],
             [
              0.5555555555555556,
              "#d8576b"
             ],
             [
              0.6666666666666666,
              "#ed7953"
             ],
             [
              0.7777777777777778,
              "#fb9f3a"
             ],
             [
              0.8888888888888888,
              "#fdca26"
             ],
             [
              1,
              "#f0f921"
             ]
            ],
            "type": "contour"
           }
          ],
          "contourcarpet": [
           {
            "colorbar": {
             "outlinewidth": 0,
             "ticks": ""
            },
            "type": "contourcarpet"
           }
          ],
          "heatmap": [
           {
            "colorbar": {
             "outlinewidth": 0,
             "ticks": ""
            },
            "colorscale": [
             [
              0,
              "#0d0887"
             ],
             [
              0.1111111111111111,
              "#46039f"
             ],
             [
              0.2222222222222222,
              "#7201a8"
             ],
             [
              0.3333333333333333,
              "#9c179e"
             ],
             [
              0.4444444444444444,
              "#bd3786"
             ],
             [
              0.5555555555555556,
              "#d8576b"
             ],
             [
              0.6666666666666666,
              "#ed7953"
             ],
             [
              0.7777777777777778,
              "#fb9f3a"
             ],
             [
              0.8888888888888888,
              "#fdca26"
             ],
             [
              1,
              "#f0f921"
             ]
            ],
            "type": "heatmap"
           }
          ],
          "histogram": [
           {
            "marker": {
             "pattern": {
              "fillmode": "overlay",
              "size": 10,
              "solidity": 0.2
             }
            },
            "type": "histogram"
           }
          ],
          "histogram2d": [
           {
            "colorbar": {
             "outlinewidth": 0,
             "ticks": ""
            },
            "colorscale": [
             [
              0,
              "#0d0887"
             ],
             [
              0.1111111111111111,
              "#46039f"
             ],
             [
              0.2222222222222222,
              "#7201a8"
             ],
             [
              0.3333333333333333,
              "#9c179e"
             ],
             [
              0.4444444444444444,
              "#bd3786"
             ],
             [
              0.5555555555555556,
              "#d8576b"
             ],
             [
              0.6666666666666666,
              "#ed7953"
             ],
             [
              0.7777777777777778,
              "#fb9f3a"
             ],
             [
              0.8888888888888888,
              "#fdca26"
             ],
             [
              1,
              "#f0f921"
             ]
            ],
            "type": "histogram2d"
           }
          ],
          "histogram2dcontour": [
           {
            "colorbar": {
             "outlinewidth": 0,
             "ticks": ""
            },
            "colorscale": [
             [
              0,
              "#0d0887"
             ],
             [
              0.1111111111111111,
              "#46039f"
             ],
             [
              0.2222222222222222,
              "#7201a8"
             ],
             [
              0.3333333333333333,
              "#9c179e"
             ],
             [
              0.4444444444444444,
              "#bd3786"
             ],
             [
              0.5555555555555556,
              "#d8576b"
             ],
             [
              0.6666666666666666,
              "#ed7953"
             ],
             [
              0.7777777777777778,
              "#fb9f3a"
             ],
             [
              0.8888888888888888,
              "#fdca26"
             ],
             [
              1,
              "#f0f921"
             ]
            ],
            "type": "histogram2dcontour"
           }
          ],
          "mesh3d": [
           {
            "colorbar": {
             "outlinewidth": 0,
             "ticks": ""
            },
            "type": "mesh3d"
           }
          ],
          "parcoords": [
           {
            "line": {
             "colorbar": {
              "outlinewidth": 0,
              "ticks": ""
             }
            },
            "type": "parcoords"
           }
          ],
          "pie": [
           {
            "automargin": true,
            "type": "pie"
           }
          ],
          "scatter": [
           {
            "fillpattern": {
             "fillmode": "overlay",
             "size": 10,
             "solidity": 0.2
            },
            "type": "scatter"
           }
          ],
          "scatter3d": [
           {
            "line": {
             "colorbar": {
              "outlinewidth": 0,
              "ticks": ""
             }
            },
            "marker": {
             "colorbar": {
              "outlinewidth": 0,
              "ticks": ""
             }
            },
            "type": "scatter3d"
           }
          ],
          "scattercarpet": [
           {
            "marker": {
             "colorbar": {
              "outlinewidth": 0,
              "ticks": ""
             }
            },
            "type": "scattercarpet"
           }
          ],
          "scattergeo": [
           {
            "marker": {
             "colorbar": {
              "outlinewidth": 0,
              "ticks": ""
             }
            },
            "type": "scattergeo"
           }
          ],
          "scattergl": [
           {
            "marker": {
             "colorbar": {
              "outlinewidth": 0,
              "ticks": ""
             }
            },
            "type": "scattergl"
           }
          ],
          "scattermap": [
           {
            "marker": {
             "colorbar": {
              "outlinewidth": 0,
              "ticks": ""
             }
            },
            "type": "scattermap"
           }
          ],
          "scattermapbox": [
           {
            "marker": {
             "colorbar": {
              "outlinewidth": 0,
              "ticks": ""
             }
            },
            "type": "scattermapbox"
           }
          ],
          "scatterpolar": [
           {
            "marker": {
             "colorbar": {
              "outlinewidth": 0,
              "ticks": ""
             }
            },
            "type": "scatterpolar"
           }
          ],
          "scatterpolargl": [
           {
            "marker": {
             "colorbar": {
              "outlinewidth": 0,
              "ticks": ""
             }
            },
            "type": "scatterpolargl"
           }
          ],
          "scatterternary": [
           {
            "marker": {
             "colorbar": {
              "outlinewidth": 0,
              "ticks": ""
             }
            },
            "type": "scatterternary"
           }
          ],
          "surface": [
           {
            "colorbar": {
             "outlinewidth": 0,
             "ticks": ""
            },
            "colorscale": [
             [
              0,
              "#0d0887"
             ],
             [
              0.1111111111111111,
              "#46039f"
             ],
             [
              0.2222222222222222,
              "#7201a8"
             ],
             [
              0.3333333333333333,
              "#9c179e"
             ],
             [
              0.4444444444444444,
              "#bd3786"
             ],
             [
              0.5555555555555556,
              "#d8576b"
             ],
             [
              0.6666666666666666,
              "#ed7953"
             ],
             [
              0.7777777777777778,
              "#fb9f3a"
             ],
             [
              0.8888888888888888,
              "#fdca26"
             ],
             [
              1,
              "#f0f921"
             ]
            ],
            "type": "surface"
           }
          ],
          "table": [
           {
            "cells": {
             "fill": {
              "color": "#EBF0F8"
             },
             "line": {
              "color": "white"
             }
            },
            "header": {
             "fill": {
              "color": "#C8D4E3"
             },
             "line": {
              "color": "white"
             }
            },
            "type": "table"
           }
          ]
         },
         "layout": {
          "annotationdefaults": {
           "arrowcolor": "#2a3f5f",
           "arrowhead": 0,
           "arrowwidth": 1
          },
          "autotypenumbers": "strict",
          "coloraxis": {
           "colorbar": {
            "outlinewidth": 0,
            "ticks": ""
           }
          },
          "colorscale": {
           "diverging": [
            [
             0,
             "#8e0152"
            ],
            [
             0.1,
             "#c51b7d"
            ],
            [
             0.2,
             "#de77ae"
            ],
            [
             0.3,
             "#f1b6da"
            ],
            [
             0.4,
             "#fde0ef"
            ],
            [
             0.5,
             "#f7f7f7"
            ],
            [
             0.6,
             "#e6f5d0"
            ],
            [
             0.7,
             "#b8e186"
            ],
            [
             0.8,
             "#7fbc41"
            ],
            [
             0.9,
             "#4d9221"
            ],
            [
             1,
             "#276419"
            ]
           ],
           "sequential": [
            [
             0,
             "#0d0887"
            ],
            [
             0.1111111111111111,
             "#46039f"
            ],
            [
             0.2222222222222222,
             "#7201a8"
            ],
            [
             0.3333333333333333,
             "#9c179e"
            ],
            [
             0.4444444444444444,
             "#bd3786"
            ],
            [
             0.5555555555555556,
             "#d8576b"
            ],
            [
             0.6666666666666666,
             "#ed7953"
            ],
            [
             0.7777777777777778,
             "#fb9f3a"
            ],
            [
             0.8888888888888888,
             "#fdca26"
            ],
            [
             1,
             "#f0f921"
            ]
           ],
           "sequentialminus": [
            [
             0,
             "#0d0887"
            ],
            [
             0.1111111111111111,
             "#46039f"
            ],
            [
             0.2222222222222222,
             "#7201a8"
            ],
            [
             0.3333333333333333,
             "#9c179e"
            ],
            [
             0.4444444444444444,
             "#bd3786"
            ],
            [
             0.5555555555555556,
             "#d8576b"
            ],
            [
             0.6666666666666666,
             "#ed7953"
            ],
            [
             0.7777777777777778,
             "#fb9f3a"
            ],
            [
             0.8888888888888888,
             "#fdca26"
            ],
            [
             1,
             "#f0f921"
            ]
           ]
          },
          "colorway": [
           "#636efa",
           "#EF553B",
           "#00cc96",
           "#ab63fa",
           "#FFA15A",
           "#19d3f3",
           "#FF6692",
           "#B6E880",
           "#FF97FF",
           "#FECB52"
          ],
          "font": {
           "color": "#2a3f5f"
          },
          "geo": {
           "bgcolor": "white",
           "lakecolor": "white",
           "landcolor": "#E5ECF6",
           "showlakes": true,
           "showland": true,
           "subunitcolor": "white"
          },
          "hoverlabel": {
           "align": "left"
          },
          "hovermode": "closest",
          "mapbox": {
           "style": "light"
          },
          "paper_bgcolor": "white",
          "plot_bgcolor": "#E5ECF6",
          "polar": {
           "angularaxis": {
            "gridcolor": "white",
            "linecolor": "white",
            "ticks": ""
           },
           "bgcolor": "#E5ECF6",
           "radialaxis": {
            "gridcolor": "white",
            "linecolor": "white",
            "ticks": ""
           }
          },
          "scene": {
           "xaxis": {
            "backgroundcolor": "#E5ECF6",
            "gridcolor": "white",
            "gridwidth": 2,
            "linecolor": "white",
            "showbackground": true,
            "ticks": "",
            "zerolinecolor": "white"
           },
           "yaxis": {
            "backgroundcolor": "#E5ECF6",
            "gridcolor": "white",
            "gridwidth": 2,
            "linecolor": "white",
            "showbackground": true,
            "ticks": "",
            "zerolinecolor": "white"
           },
           "zaxis": {
            "backgroundcolor": "#E5ECF6",
            "gridcolor": "white",
            "gridwidth": 2,
            "linecolor": "white",
            "showbackground": true,
            "ticks": "",
            "zerolinecolor": "white"
           }
          },
          "shapedefaults": {
           "line": {
            "color": "#2a3f5f"
           }
          },
          "ternary": {
           "aaxis": {
            "gridcolor": "white",
            "linecolor": "white",
            "ticks": ""
           },
           "baxis": {
            "gridcolor": "white",
            "linecolor": "white",
            "ticks": ""
           },
           "bgcolor": "#E5ECF6",
           "caxis": {
            "gridcolor": "white",
            "linecolor": "white",
            "ticks": ""
           }
          },
          "title": {
           "x": 0.05
          },
          "xaxis": {
           "automargin": true,
           "gridcolor": "white",
           "linecolor": "white",
           "ticks": "",
           "title": {
            "standoff": 15
           },
           "zerolinecolor": "white",
           "zerolinewidth": 2
          },
          "yaxis": {
           "automargin": true,
           "gridcolor": "white",
           "linecolor": "white",
           "ticks": "",
           "title": {
            "standoff": 15
           },
           "zerolinecolor": "white",
           "zerolinewidth": 2
          }
         }
        },
        "title": {
         "text": "Kinematic Generation of a Planar Curve",
         "x": 0.5
        },
        "width": 600,
        "xaxis": {
         "autorange": false,
         "range": [
          -1.7499744923987348,
          3.5
         ],
         "zeroline": false
        },
        "yaxis": {
         "autorange": false,
         "range": [
          -3.5,
          1.7499744923987348
         ],
         "zeroline": false
        }
       }
      }
     },
     "metadata": {},
     "output_type": "display_data"
    }
   ],
   "source": [
    "\n",
    "# Generate curve data\n",
    "t = np.linspace(-1, 1, 100)\n",
    "x = t + t ** 2\n",
    "y = t - t ** 2\n",
    "xm = np.min(x) - 1.5\n",
    "xM = np.max(x) + 1.5\n",
    "ym = np.min(y) - 1.5\n",
    "yM = np.max(y) + 1.5\n",
    "N = 25\n",
    "s = np.linspace(-1, 1, N)\n",
    "xx = s + s ** 2\n",
    "yy = s - s ** 2\n",
    "\n",
    "# Create figure\n",
    "fig = go.Figure(\n",
    "    data=[go.Scatter(x=x, y=y,\n",
    "                     mode=\"lines\",\n",
    "                     line=dict(width=2, color=\"blue\")),\n",
    "          go.Scatter(x=[xx[0]], y=[yy[0]],\n",
    "                     mode=\"markers\",\n",
    "                     marker=dict(color=\"red\", size=10))])\n",
    "\n",
    "# Add frames for animation\n",
    "fig.update(frames=[go.Frame(\n",
    "                        data=[go.Scatter(\n",
    "                                   x=x,\n",
    "                                   y=y,\n",
    "                                   mode=\"lines\",\n",
    "                                   line=dict(width=2, color=\"blue\")),\n",
    "                              go.Scatter(\n",
    "                                   x=[xx[k]], \n",
    "                                   y=[yy[k]], \n",
    "                                   mode=\"markers\", \n",
    "                                   marker=dict(color=\"red\", size=10))],\n",
    "                        name=str(k))\n",
    "        for k in range(N)])\n",
    "\n",
    "# Create slider steps\n",
    "slider_steps = [\n",
    "    dict(\n",
    "        args=[[str(k)],\n",
    "              {\"frame\": {\"duration\": 0, \"redraw\": True},\n",
    "               \"mode\": \"immediate\", \n",
    "               \"transition\": {\"duration\": 0}}],\n",
    "        label=str(k),\n",
    "        method=\"animate\"\n",
    "    ) for k in range(N)\n",
    "]\n",
    "\n",
    "# Update layout with only slider\n",
    "fig.update_layout(\n",
    "    width=600,\n",
    "    height=450,\n",
    "    xaxis=dict(range=[xm, xM], autorange=False, zeroline=False),\n",
    "    yaxis=dict(range=[ym, yM], autorange=False, zeroline=False),\n",
    "    title_text=\"Kinematic Generation of a Planar Curve\", title_x=0.5,\n",
    "    sliders=[dict(\n",
    "        currentvalue={\"prefix\": \"Time: \", \"visible\": True, \"xanchor\": \"center\"},\n",
    "        steps=slider_steps)\n",
    "    ]\n",
    ")\n",
    "\n",
    "fig.show()"
   ]
  },
  {
   "cell_type": "markdown",
   "id": "dfacd0c2",
   "metadata": {},
   "source": [
    "I have been trying to understand a [theorem from combinatorics](https://en.wikipedia.org/wiki/Monsky%27s_theorem). It has taken me down a rabbit hole of Sperner's lemma and it's connection to algebraic geometry and I intend to write about that here eventually.\n"
   ]
  },
  {
   "cell_type": "code",
   "execution_count": 27,
   "id": "bdef42da",
   "metadata": {},
   "outputs": [],
   "source": [
    "\n",
    "A = np.array([0.0, 0.0])\n",
    "B = np.array([1.0, 0.0])\n",
    "C = np.array([0.5, np.sqrt(3)/2])"
   ]
  },
  {
   "cell_type": "code",
   "execution_count": 28,
   "id": "d03a48b0",
   "metadata": {},
   "outputs": [
    {
     "data": {
      "application/vnd.plotly.v1+json": {
       "config": {
        "plotlyServerURL": "https://plot.ly"
       },
       "data": [
        {
         "line": {
          "color": "blue",
          "width": 2
         },
         "mode": "lines",
         "type": "scatter",
         "x": [
          0,
          1,
          0.5,
          0
         ],
         "y": [
          0,
          0,
          0.8660254037844386,
          0
         ]
        }
       ],
       "layout": {
        "height": 600,
        "template": {
         "data": {
          "bar": [
           {
            "error_x": {
             "color": "#2a3f5f"
            },
            "error_y": {
             "color": "#2a3f5f"
            },
            "marker": {
             "line": {
              "color": "#E5ECF6",
              "width": 0.5
             },
             "pattern": {
              "fillmode": "overlay",
              "size": 10,
              "solidity": 0.2
             }
            },
            "type": "bar"
           }
          ],
          "barpolar": [
           {
            "marker": {
             "line": {
              "color": "#E5ECF6",
              "width": 0.5
             },
             "pattern": {
              "fillmode": "overlay",
              "size": 10,
              "solidity": 0.2
             }
            },
            "type": "barpolar"
           }
          ],
          "carpet": [
           {
            "aaxis": {
             "endlinecolor": "#2a3f5f",
             "gridcolor": "white",
             "linecolor": "white",
             "minorgridcolor": "white",
             "startlinecolor": "#2a3f5f"
            },
            "baxis": {
             "endlinecolor": "#2a3f5f",
             "gridcolor": "white",
             "linecolor": "white",
             "minorgridcolor": "white",
             "startlinecolor": "#2a3f5f"
            },
            "type": "carpet"
           }
          ],
          "choropleth": [
           {
            "colorbar": {
             "outlinewidth": 0,
             "ticks": ""
            },
            "type": "choropleth"
           }
          ],
          "contour": [
           {
            "colorbar": {
             "outlinewidth": 0,
             "ticks": ""
            },
            "colorscale": [
             [
              0,
              "#0d0887"
             ],
             [
              0.1111111111111111,
              "#46039f"
             ],
             [
              0.2222222222222222,
              "#7201a8"
             ],
             [
              0.3333333333333333,
              "#9c179e"
             ],
             [
              0.4444444444444444,
              "#bd3786"
             ],
             [
              0.5555555555555556,
              "#d8576b"
             ],
             [
              0.6666666666666666,
              "#ed7953"
             ],
             [
              0.7777777777777778,
              "#fb9f3a"
             ],
             [
              0.8888888888888888,
              "#fdca26"
             ],
             [
              1,
              "#f0f921"
             ]
            ],
            "type": "contour"
           }
          ],
          "contourcarpet": [
           {
            "colorbar": {
             "outlinewidth": 0,
             "ticks": ""
            },
            "type": "contourcarpet"
           }
          ],
          "heatmap": [
           {
            "colorbar": {
             "outlinewidth": 0,
             "ticks": ""
            },
            "colorscale": [
             [
              0,
              "#0d0887"
             ],
             [
              0.1111111111111111,
              "#46039f"
             ],
             [
              0.2222222222222222,
              "#7201a8"
             ],
             [
              0.3333333333333333,
              "#9c179e"
             ],
             [
              0.4444444444444444,
              "#bd3786"
             ],
             [
              0.5555555555555556,
              "#d8576b"
             ],
             [
              0.6666666666666666,
              "#ed7953"
             ],
             [
              0.7777777777777778,
              "#fb9f3a"
             ],
             [
              0.8888888888888888,
              "#fdca26"
             ],
             [
              1,
              "#f0f921"
             ]
            ],
            "type": "heatmap"
           }
          ],
          "histogram": [
           {
            "marker": {
             "pattern": {
              "fillmode": "overlay",
              "size": 10,
              "solidity": 0.2
             }
            },
            "type": "histogram"
           }
          ],
          "histogram2d": [
           {
            "colorbar": {
             "outlinewidth": 0,
             "ticks": ""
            },
            "colorscale": [
             [
              0,
              "#0d0887"
             ],
             [
              0.1111111111111111,
              "#46039f"
             ],
             [
              0.2222222222222222,
              "#7201a8"
             ],
             [
              0.3333333333333333,
              "#9c179e"
             ],
             [
              0.4444444444444444,
              "#bd3786"
             ],
             [
              0.5555555555555556,
              "#d8576b"
             ],
             [
              0.6666666666666666,
              "#ed7953"
             ],
             [
              0.7777777777777778,
              "#fb9f3a"
             ],
             [
              0.8888888888888888,
              "#fdca26"
             ],
             [
              1,
              "#f0f921"
             ]
            ],
            "type": "histogram2d"
           }
          ],
          "histogram2dcontour": [
           {
            "colorbar": {
             "outlinewidth": 0,
             "ticks": ""
            },
            "colorscale": [
             [
              0,
              "#0d0887"
             ],
             [
              0.1111111111111111,
              "#46039f"
             ],
             [
              0.2222222222222222,
              "#7201a8"
             ],
             [
              0.3333333333333333,
              "#9c179e"
             ],
             [
              0.4444444444444444,
              "#bd3786"
             ],
             [
              0.5555555555555556,
              "#d8576b"
             ],
             [
              0.6666666666666666,
              "#ed7953"
             ],
             [
              0.7777777777777778,
              "#fb9f3a"
             ],
             [
              0.8888888888888888,
              "#fdca26"
             ],
             [
              1,
              "#f0f921"
             ]
            ],
            "type": "histogram2dcontour"
           }
          ],
          "mesh3d": [
           {
            "colorbar": {
             "outlinewidth": 0,
             "ticks": ""
            },
            "type": "mesh3d"
           }
          ],
          "parcoords": [
           {
            "line": {
             "colorbar": {
              "outlinewidth": 0,
              "ticks": ""
             }
            },
            "type": "parcoords"
           }
          ],
          "pie": [
           {
            "automargin": true,
            "type": "pie"
           }
          ],
          "scatter": [
           {
            "fillpattern": {
             "fillmode": "overlay",
             "size": 10,
             "solidity": 0.2
            },
            "type": "scatter"
           }
          ],
          "scatter3d": [
           {
            "line": {
             "colorbar": {
              "outlinewidth": 0,
              "ticks": ""
             }
            },
            "marker": {
             "colorbar": {
              "outlinewidth": 0,
              "ticks": ""
             }
            },
            "type": "scatter3d"
           }
          ],
          "scattercarpet": [
           {
            "marker": {
             "colorbar": {
              "outlinewidth": 0,
              "ticks": ""
             }
            },
            "type": "scattercarpet"
           }
          ],
          "scattergeo": [
           {
            "marker": {
             "colorbar": {
              "outlinewidth": 0,
              "ticks": ""
             }
            },
            "type": "scattergeo"
           }
          ],
          "scattergl": [
           {
            "marker": {
             "colorbar": {
              "outlinewidth": 0,
              "ticks": ""
             }
            },
            "type": "scattergl"
           }
          ],
          "scattermap": [
           {
            "marker": {
             "colorbar": {
              "outlinewidth": 0,
              "ticks": ""
             }
            },
            "type": "scattermap"
           }
          ],
          "scattermapbox": [
           {
            "marker": {
             "colorbar": {
              "outlinewidth": 0,
              "ticks": ""
             }
            },
            "type": "scattermapbox"
           }
          ],
          "scatterpolar": [
           {
            "marker": {
             "colorbar": {
              "outlinewidth": 0,
              "ticks": ""
             }
            },
            "type": "scatterpolar"
           }
          ],
          "scatterpolargl": [
           {
            "marker": {
             "colorbar": {
              "outlinewidth": 0,
              "ticks": ""
             }
            },
            "type": "scatterpolargl"
           }
          ],
          "scatterternary": [
           {
            "marker": {
             "colorbar": {
              "outlinewidth": 0,
              "ticks": ""
             }
            },
            "type": "scatterternary"
           }
          ],
          "surface": [
           {
            "colorbar": {
             "outlinewidth": 0,
             "ticks": ""
            },
            "colorscale": [
             [
              0,
              "#0d0887"
             ],
             [
              0.1111111111111111,
              "#46039f"
             ],
             [
              0.2222222222222222,
              "#7201a8"
             ],
             [
              0.3333333333333333,
              "#9c179e"
             ],
             [
              0.4444444444444444,
              "#bd3786"
             ],
             [
              0.5555555555555556,
              "#d8576b"
             ],
             [
              0.6666666666666666,
              "#ed7953"
             ],
             [
              0.7777777777777778,
              "#fb9f3a"
             ],
             [
              0.8888888888888888,
              "#fdca26"
             ],
             [
              1,
              "#f0f921"
             ]
            ],
            "type": "surface"
           }
          ],
          "table": [
           {
            "cells": {
             "fill": {
              "color": "#EBF0F8"
             },
             "line": {
              "color": "white"
             }
            },
            "header": {
             "fill": {
              "color": "#C8D4E3"
             },
             "line": {
              "color": "white"
             }
            },
            "type": "table"
           }
          ]
         },
         "layout": {
          "annotationdefaults": {
           "arrowcolor": "#2a3f5f",
           "arrowhead": 0,
           "arrowwidth": 1
          },
          "autotypenumbers": "strict",
          "coloraxis": {
           "colorbar": {
            "outlinewidth": 0,
            "ticks": ""
           }
          },
          "colorscale": {
           "diverging": [
            [
             0,
             "#8e0152"
            ],
            [
             0.1,
             "#c51b7d"
            ],
            [
             0.2,
             "#de77ae"
            ],
            [
             0.3,
             "#f1b6da"
            ],
            [
             0.4,
             "#fde0ef"
            ],
            [
             0.5,
             "#f7f7f7"
            ],
            [
             0.6,
             "#e6f5d0"
            ],
            [
             0.7,
             "#b8e186"
            ],
            [
             0.8,
             "#7fbc41"
            ],
            [
             0.9,
             "#4d9221"
            ],
            [
             1,
             "#276419"
            ]
           ],
           "sequential": [
            [
             0,
             "#0d0887"
            ],
            [
             0.1111111111111111,
             "#46039f"
            ],
            [
             0.2222222222222222,
             "#7201a8"
            ],
            [
             0.3333333333333333,
             "#9c179e"
            ],
            [
             0.4444444444444444,
             "#bd3786"
            ],
            [
             0.5555555555555556,
             "#d8576b"
            ],
            [
             0.6666666666666666,
             "#ed7953"
            ],
            [
             0.7777777777777778,
             "#fb9f3a"
            ],
            [
             0.8888888888888888,
             "#fdca26"
            ],
            [
             1,
             "#f0f921"
            ]
           ],
           "sequentialminus": [
            [
             0,
             "#0d0887"
            ],
            [
             0.1111111111111111,
             "#46039f"
            ],
            [
             0.2222222222222222,
             "#7201a8"
            ],
            [
             0.3333333333333333,
             "#9c179e"
            ],
            [
             0.4444444444444444,
             "#bd3786"
            ],
            [
             0.5555555555555556,
             "#d8576b"
            ],
            [
             0.6666666666666666,
             "#ed7953"
            ],
            [
             0.7777777777777778,
             "#fb9f3a"
            ],
            [
             0.8888888888888888,
             "#fdca26"
            ],
            [
             1,
             "#f0f921"
            ]
           ]
          },
          "colorway": [
           "#636efa",
           "#EF553B",
           "#00cc96",
           "#ab63fa",
           "#FFA15A",
           "#19d3f3",
           "#FF6692",
           "#B6E880",
           "#FF97FF",
           "#FECB52"
          ],
          "font": {
           "color": "#2a3f5f"
          },
          "geo": {
           "bgcolor": "white",
           "lakecolor": "white",
           "landcolor": "#E5ECF6",
           "showlakes": true,
           "showland": true,
           "subunitcolor": "white"
          },
          "hoverlabel": {
           "align": "left"
          },
          "hovermode": "closest",
          "mapbox": {
           "style": "light"
          },
          "paper_bgcolor": "white",
          "plot_bgcolor": "#E5ECF6",
          "polar": {
           "angularaxis": {
            "gridcolor": "white",
            "linecolor": "white",
            "ticks": ""
           },
           "bgcolor": "#E5ECF6",
           "radialaxis": {
            "gridcolor": "white",
            "linecolor": "white",
            "ticks": ""
           }
          },
          "scene": {
           "xaxis": {
            "backgroundcolor": "#E5ECF6",
            "gridcolor": "white",
            "gridwidth": 2,
            "linecolor": "white",
            "showbackground": true,
            "ticks": "",
            "zerolinecolor": "white"
           },
           "yaxis": {
            "backgroundcolor": "#E5ECF6",
            "gridcolor": "white",
            "gridwidth": 2,
            "linecolor": "white",
            "showbackground": true,
            "ticks": "",
            "zerolinecolor": "white"
           },
           "zaxis": {
            "backgroundcolor": "#E5ECF6",
            "gridcolor": "white",
            "gridwidth": 2,
            "linecolor": "white",
            "showbackground": true,
            "ticks": "",
            "zerolinecolor": "white"
           }
          },
          "shapedefaults": {
           "line": {
            "color": "#2a3f5f"
           }
          },
          "ternary": {
           "aaxis": {
            "gridcolor": "white",
            "linecolor": "white",
            "ticks": ""
           },
           "baxis": {
            "gridcolor": "white",
            "linecolor": "white",
            "ticks": ""
           },
           "bgcolor": "#E5ECF6",
           "caxis": {
            "gridcolor": "white",
            "linecolor": "white",
            "ticks": ""
           }
          },
          "title": {
           "x": 0.05
          },
          "xaxis": {
           "automargin": true,
           "gridcolor": "white",
           "linecolor": "white",
           "ticks": "",
           "title": {
            "standoff": 15
           },
           "zerolinecolor": "white",
           "zerolinewidth": 2
          },
          "yaxis": {
           "automargin": true,
           "gridcolor": "white",
           "linecolor": "white",
           "ticks": "",
           "title": {
            "standoff": 15
           },
           "zerolinecolor": "white",
           "zerolinewidth": 2
          }
         }
        },
        "xaxis": {
         "scaleanchor": "y",
         "scaleratio": 1
        },
        "yaxis": {
         "scaleanchor": "x",
         "scaleratio": 1
        }
       }
      }
     },
     "metadata": {},
     "output_type": "display_data"
    }
   ],
   "source": [
    "# Create figure\n",
    "fig = go.Figure(\n",
    "    data=[go.Scatter(x=[A[0], B[0], C[0], A[0]], y=[A[1], B[1], C[1], A[1]],\n",
    "                     mode=\"lines\",\n",
    "                     line=dict(width=2, color=\"blue\"))])\n",
    "\n",
    "# # Set equal axes for the figure\n",
    "fig.update_layout(\n",
    "    xaxis=dict(scaleanchor=\"y\", scaleratio=1),\n",
    "    yaxis=dict(scaleanchor=\"x\", scaleratio=1)\n",
    ")\n",
    "\n",
    "# set fig height to 600\n",
    "fig.update_layout(height=600)\n",
    "    \n",
    "fig.show()"
   ]
  },
  {
   "cell_type": "code",
   "execution_count": 29,
   "id": "7950dc99",
   "metadata": {},
   "outputs": [],
   "source": [
    "def simplicial_to_cartesian(weights, vectors):\n",
    "  \"\"\"\n",
    "  Convert barycentric coordinates to Cartesian coordinates.\n",
    "  weights: Barycentric coordinates\n",
    "  vectors: Vertices of the triangle\n",
    "  \"\"\"\n",
    "  # Check that weights and vectors have the same length\n",
    "  assert len(weights) == len(vectors), \"Weights and vectors must have the same length\"\n",
    "  # Check that weights sum to 1\n",
    "  assert np.isclose(sum(weights), 1), \"Weights must sum to 1\"\n",
    "  return sum(w * v for w, v in zip(weights, vectors))\n",
    "\n",
    "\n",
    "def barycentric_to_cartesian(i, j, k, v_1, v_2, v_3):\n",
    "  \"\"\"\n",
    "  Convert barycentric coordinates to Cartesian coordinates.\n",
    "  i, j, k: Barycentric coordinates\n",
    "  v_1, v_2, v_3: Vertices of the triangle\n",
    "  \"\"\"\n",
    "  return simplicial_to_cartesian([i, j, k], [v_1, v_2, v_3])\n",
    "N = 10\n",
    "\n",
    "# generate (i/N, j/N, k/N) from 0 to 1 such that i + j + k = 1\n",
    "weights = []\n",
    "for i in range(N + 1):\n",
    "  for j in range(N - i + 1):\n",
    "    k = N - i - j\n",
    "    weights.append((i / N, j / N, k / N))\n",
    "    \n",
    "    \n",
    "# generate vertices of the subdivision using the weights generated above\n",
    "vertices = []\n",
    "for w in weights:\n",
    "  vertices.append(barycentric_to_cartesian(w[0], w[1], w[2], A, B, C))\n"
   ]
  },
  {
   "cell_type": "code",
   "execution_count": 30,
   "id": "3e119a8b",
   "metadata": {},
   "outputs": [
    {
     "data": {
      "application/vnd.plotly.v1+json": {
       "config": {
        "plotlyServerURL": "https://plot.ly"
       },
       "data": [
        {
         "line": {
          "color": "blue",
          "width": 2
         },
         "mode": "lines",
         "type": "scatter",
         "x": [
          0,
          1,
          0.5,
          0
         ],
         "y": [
          0,
          0,
          0.8660254037844386,
          0
         ]
        },
        {
         "marker": {
          "color": "red",
          "size": 5
         },
         "mode": "markers",
         "type": "scatter",
         "x": [
          0.5,
          0.55,
          0.6000000000000001,
          0.6499999999999999,
          0.7,
          0.75,
          0.8,
          0.85,
          0.9,
          0.9500000000000001,
          1,
          0.45,
          0.5,
          0.55,
          0.6,
          0.65,
          0.7,
          0.75,
          0.7999999999999999,
          0.8500000000000001,
          0.9,
          0.4,
          0.44999999999999996,
          0.5,
          0.55,
          0.6000000000000001,
          0.65,
          0.7,
          0.75,
          0.8,
          0.35,
          0.4,
          0.45,
          0.5,
          0.55,
          0.6,
          0.65,
          0.7,
          0.3,
          0.35,
          0.4,
          0.44999999999999996,
          0.5,
          0.55,
          0.6,
          0.25,
          0.30000000000000004,
          0.35,
          0.4,
          0.45,
          0.5,
          0.2,
          0.25,
          0.30000000000000004,
          0.35,
          0.4,
          0.15,
          0.2,
          0.25,
          0.3,
          0.1,
          0.15000000000000002,
          0.2,
          0.05,
          0.1,
          0
         ],
         "y": [
          0.8660254037844386,
          0.7794228634059948,
          0.6928203230275509,
          0.606217782649107,
          0.5196152422706631,
          0.4330127018922193,
          0.34641016151377546,
          0.25980762113533157,
          0.17320508075688773,
          0.08660254037844387,
          0,
          0.7794228634059948,
          0.6928203230275509,
          0.606217782649107,
          0.5196152422706631,
          0.4330127018922193,
          0.34641016151377546,
          0.25980762113533157,
          0.17320508075688773,
          0.08660254037844387,
          0,
          0.6928203230275509,
          0.606217782649107,
          0.5196152422706631,
          0.4330127018922193,
          0.34641016151377546,
          0.25980762113533157,
          0.17320508075688773,
          0.08660254037844387,
          0,
          0.606217782649107,
          0.5196152422706631,
          0.4330127018922193,
          0.34641016151377546,
          0.25980762113533157,
          0.17320508075688773,
          0.08660254037844387,
          0,
          0.5196152422706631,
          0.4330127018922193,
          0.34641016151377546,
          0.25980762113533157,
          0.17320508075688773,
          0.08660254037844387,
          0,
          0.4330127018922193,
          0.34641016151377546,
          0.25980762113533157,
          0.17320508075688773,
          0.08660254037844387,
          0,
          0.34641016151377546,
          0.25980762113533157,
          0.17320508075688773,
          0.08660254037844387,
          0,
          0.25980762113533157,
          0.17320508075688773,
          0.08660254037844387,
          0,
          0.17320508075688773,
          0.08660254037844387,
          0,
          0.08660254037844387,
          0,
          0
         ]
        }
       ],
       "layout": {
        "height": 600,
        "template": {
         "data": {
          "bar": [
           {
            "error_x": {
             "color": "#2a3f5f"
            },
            "error_y": {
             "color": "#2a3f5f"
            },
            "marker": {
             "line": {
              "color": "#E5ECF6",
              "width": 0.5
             },
             "pattern": {
              "fillmode": "overlay",
              "size": 10,
              "solidity": 0.2
             }
            },
            "type": "bar"
           }
          ],
          "barpolar": [
           {
            "marker": {
             "line": {
              "color": "#E5ECF6",
              "width": 0.5
             },
             "pattern": {
              "fillmode": "overlay",
              "size": 10,
              "solidity": 0.2
             }
            },
            "type": "barpolar"
           }
          ],
          "carpet": [
           {
            "aaxis": {
             "endlinecolor": "#2a3f5f",
             "gridcolor": "white",
             "linecolor": "white",
             "minorgridcolor": "white",
             "startlinecolor": "#2a3f5f"
            },
            "baxis": {
             "endlinecolor": "#2a3f5f",
             "gridcolor": "white",
             "linecolor": "white",
             "minorgridcolor": "white",
             "startlinecolor": "#2a3f5f"
            },
            "type": "carpet"
           }
          ],
          "choropleth": [
           {
            "colorbar": {
             "outlinewidth": 0,
             "ticks": ""
            },
            "type": "choropleth"
           }
          ],
          "contour": [
           {
            "colorbar": {
             "outlinewidth": 0,
             "ticks": ""
            },
            "colorscale": [
             [
              0,
              "#0d0887"
             ],
             [
              0.1111111111111111,
              "#46039f"
             ],
             [
              0.2222222222222222,
              "#7201a8"
             ],
             [
              0.3333333333333333,
              "#9c179e"
             ],
             [
              0.4444444444444444,
              "#bd3786"
             ],
             [
              0.5555555555555556,
              "#d8576b"
             ],
             [
              0.6666666666666666,
              "#ed7953"
             ],
             [
              0.7777777777777778,
              "#fb9f3a"
             ],
             [
              0.8888888888888888,
              "#fdca26"
             ],
             [
              1,
              "#f0f921"
             ]
            ],
            "type": "contour"
           }
          ],
          "contourcarpet": [
           {
            "colorbar": {
             "outlinewidth": 0,
             "ticks": ""
            },
            "type": "contourcarpet"
           }
          ],
          "heatmap": [
           {
            "colorbar": {
             "outlinewidth": 0,
             "ticks": ""
            },
            "colorscale": [
             [
              0,
              "#0d0887"
             ],
             [
              0.1111111111111111,
              "#46039f"
             ],
             [
              0.2222222222222222,
              "#7201a8"
             ],
             [
              0.3333333333333333,
              "#9c179e"
             ],
             [
              0.4444444444444444,
              "#bd3786"
             ],
             [
              0.5555555555555556,
              "#d8576b"
             ],
             [
              0.6666666666666666,
              "#ed7953"
             ],
             [
              0.7777777777777778,
              "#fb9f3a"
             ],
             [
              0.8888888888888888,
              "#fdca26"
             ],
             [
              1,
              "#f0f921"
             ]
            ],
            "type": "heatmap"
           }
          ],
          "histogram": [
           {
            "marker": {
             "pattern": {
              "fillmode": "overlay",
              "size": 10,
              "solidity": 0.2
             }
            },
            "type": "histogram"
           }
          ],
          "histogram2d": [
           {
            "colorbar": {
             "outlinewidth": 0,
             "ticks": ""
            },
            "colorscale": [
             [
              0,
              "#0d0887"
             ],
             [
              0.1111111111111111,
              "#46039f"
             ],
             [
              0.2222222222222222,
              "#7201a8"
             ],
             [
              0.3333333333333333,
              "#9c179e"
             ],
             [
              0.4444444444444444,
              "#bd3786"
             ],
             [
              0.5555555555555556,
              "#d8576b"
             ],
             [
              0.6666666666666666,
              "#ed7953"
             ],
             [
              0.7777777777777778,
              "#fb9f3a"
             ],
             [
              0.8888888888888888,
              "#fdca26"
             ],
             [
              1,
              "#f0f921"
             ]
            ],
            "type": "histogram2d"
           }
          ],
          "histogram2dcontour": [
           {
            "colorbar": {
             "outlinewidth": 0,
             "ticks": ""
            },
            "colorscale": [
             [
              0,
              "#0d0887"
             ],
             [
              0.1111111111111111,
              "#46039f"
             ],
             [
              0.2222222222222222,
              "#7201a8"
             ],
             [
              0.3333333333333333,
              "#9c179e"
             ],
             [
              0.4444444444444444,
              "#bd3786"
             ],
             [
              0.5555555555555556,
              "#d8576b"
             ],
             [
              0.6666666666666666,
              "#ed7953"
             ],
             [
              0.7777777777777778,
              "#fb9f3a"
             ],
             [
              0.8888888888888888,
              "#fdca26"
             ],
             [
              1,
              "#f0f921"
             ]
            ],
            "type": "histogram2dcontour"
           }
          ],
          "mesh3d": [
           {
            "colorbar": {
             "outlinewidth": 0,
             "ticks": ""
            },
            "type": "mesh3d"
           }
          ],
          "parcoords": [
           {
            "line": {
             "colorbar": {
              "outlinewidth": 0,
              "ticks": ""
             }
            },
            "type": "parcoords"
           }
          ],
          "pie": [
           {
            "automargin": true,
            "type": "pie"
           }
          ],
          "scatter": [
           {
            "fillpattern": {
             "fillmode": "overlay",
             "size": 10,
             "solidity": 0.2
            },
            "type": "scatter"
           }
          ],
          "scatter3d": [
           {
            "line": {
             "colorbar": {
              "outlinewidth": 0,
              "ticks": ""
             }
            },
            "marker": {
             "colorbar": {
              "outlinewidth": 0,
              "ticks": ""
             }
            },
            "type": "scatter3d"
           }
          ],
          "scattercarpet": [
           {
            "marker": {
             "colorbar": {
              "outlinewidth": 0,
              "ticks": ""
             }
            },
            "type": "scattercarpet"
           }
          ],
          "scattergeo": [
           {
            "marker": {
             "colorbar": {
              "outlinewidth": 0,
              "ticks": ""
             }
            },
            "type": "scattergeo"
           }
          ],
          "scattergl": [
           {
            "marker": {
             "colorbar": {
              "outlinewidth": 0,
              "ticks": ""
             }
            },
            "type": "scattergl"
           }
          ],
          "scattermap": [
           {
            "marker": {
             "colorbar": {
              "outlinewidth": 0,
              "ticks": ""
             }
            },
            "type": "scattermap"
           }
          ],
          "scattermapbox": [
           {
            "marker": {
             "colorbar": {
              "outlinewidth": 0,
              "ticks": ""
             }
            },
            "type": "scattermapbox"
           }
          ],
          "scatterpolar": [
           {
            "marker": {
             "colorbar": {
              "outlinewidth": 0,
              "ticks": ""
             }
            },
            "type": "scatterpolar"
           }
          ],
          "scatterpolargl": [
           {
            "marker": {
             "colorbar": {
              "outlinewidth": 0,
              "ticks": ""
             }
            },
            "type": "scatterpolargl"
           }
          ],
          "scatterternary": [
           {
            "marker": {
             "colorbar": {
              "outlinewidth": 0,
              "ticks": ""
             }
            },
            "type": "scatterternary"
           }
          ],
          "surface": [
           {
            "colorbar": {
             "outlinewidth": 0,
             "ticks": ""
            },
            "colorscale": [
             [
              0,
              "#0d0887"
             ],
             [
              0.1111111111111111,
              "#46039f"
             ],
             [
              0.2222222222222222,
              "#7201a8"
             ],
             [
              0.3333333333333333,
              "#9c179e"
             ],
             [
              0.4444444444444444,
              "#bd3786"
             ],
             [
              0.5555555555555556,
              "#d8576b"
             ],
             [
              0.6666666666666666,
              "#ed7953"
             ],
             [
              0.7777777777777778,
              "#fb9f3a"
             ],
             [
              0.8888888888888888,
              "#fdca26"
             ],
             [
              1,
              "#f0f921"
             ]
            ],
            "type": "surface"
           }
          ],
          "table": [
           {
            "cells": {
             "fill": {
              "color": "#EBF0F8"
             },
             "line": {
              "color": "white"
             }
            },
            "header": {
             "fill": {
              "color": "#C8D4E3"
             },
             "line": {
              "color": "white"
             }
            },
            "type": "table"
           }
          ]
         },
         "layout": {
          "annotationdefaults": {
           "arrowcolor": "#2a3f5f",
           "arrowhead": 0,
           "arrowwidth": 1
          },
          "autotypenumbers": "strict",
          "coloraxis": {
           "colorbar": {
            "outlinewidth": 0,
            "ticks": ""
           }
          },
          "colorscale": {
           "diverging": [
            [
             0,
             "#8e0152"
            ],
            [
             0.1,
             "#c51b7d"
            ],
            [
             0.2,
             "#de77ae"
            ],
            [
             0.3,
             "#f1b6da"
            ],
            [
             0.4,
             "#fde0ef"
            ],
            [
             0.5,
             "#f7f7f7"
            ],
            [
             0.6,
             "#e6f5d0"
            ],
            [
             0.7,
             "#b8e186"
            ],
            [
             0.8,
             "#7fbc41"
            ],
            [
             0.9,
             "#4d9221"
            ],
            [
             1,
             "#276419"
            ]
           ],
           "sequential": [
            [
             0,
             "#0d0887"
            ],
            [
             0.1111111111111111,
             "#46039f"
            ],
            [
             0.2222222222222222,
             "#7201a8"
            ],
            [
             0.3333333333333333,
             "#9c179e"
            ],
            [
             0.4444444444444444,
             "#bd3786"
            ],
            [
             0.5555555555555556,
             "#d8576b"
            ],
            [
             0.6666666666666666,
             "#ed7953"
            ],
            [
             0.7777777777777778,
             "#fb9f3a"
            ],
            [
             0.8888888888888888,
             "#fdca26"
            ],
            [
             1,
             "#f0f921"
            ]
           ],
           "sequentialminus": [
            [
             0,
             "#0d0887"
            ],
            [
             0.1111111111111111,
             "#46039f"
            ],
            [
             0.2222222222222222,
             "#7201a8"
            ],
            [
             0.3333333333333333,
             "#9c179e"
            ],
            [
             0.4444444444444444,
             "#bd3786"
            ],
            [
             0.5555555555555556,
             "#d8576b"
            ],
            [
             0.6666666666666666,
             "#ed7953"
            ],
            [
             0.7777777777777778,
             "#fb9f3a"
            ],
            [
             0.8888888888888888,
             "#fdca26"
            ],
            [
             1,
             "#f0f921"
            ]
           ]
          },
          "colorway": [
           "#636efa",
           "#EF553B",
           "#00cc96",
           "#ab63fa",
           "#FFA15A",
           "#19d3f3",
           "#FF6692",
           "#B6E880",
           "#FF97FF",
           "#FECB52"
          ],
          "font": {
           "color": "#2a3f5f"
          },
          "geo": {
           "bgcolor": "white",
           "lakecolor": "white",
           "landcolor": "#E5ECF6",
           "showlakes": true,
           "showland": true,
           "subunitcolor": "white"
          },
          "hoverlabel": {
           "align": "left"
          },
          "hovermode": "closest",
          "mapbox": {
           "style": "light"
          },
          "paper_bgcolor": "white",
          "plot_bgcolor": "#E5ECF6",
          "polar": {
           "angularaxis": {
            "gridcolor": "white",
            "linecolor": "white",
            "ticks": ""
           },
           "bgcolor": "#E5ECF6",
           "radialaxis": {
            "gridcolor": "white",
            "linecolor": "white",
            "ticks": ""
           }
          },
          "scene": {
           "xaxis": {
            "backgroundcolor": "#E5ECF6",
            "gridcolor": "white",
            "gridwidth": 2,
            "linecolor": "white",
            "showbackground": true,
            "ticks": "",
            "zerolinecolor": "white"
           },
           "yaxis": {
            "backgroundcolor": "#E5ECF6",
            "gridcolor": "white",
            "gridwidth": 2,
            "linecolor": "white",
            "showbackground": true,
            "ticks": "",
            "zerolinecolor": "white"
           },
           "zaxis": {
            "backgroundcolor": "#E5ECF6",
            "gridcolor": "white",
            "gridwidth": 2,
            "linecolor": "white",
            "showbackground": true,
            "ticks": "",
            "zerolinecolor": "white"
           }
          },
          "shapedefaults": {
           "line": {
            "color": "#2a3f5f"
           }
          },
          "ternary": {
           "aaxis": {
            "gridcolor": "white",
            "linecolor": "white",
            "ticks": ""
           },
           "baxis": {
            "gridcolor": "white",
            "linecolor": "white",
            "ticks": ""
           },
           "bgcolor": "#E5ECF6",
           "caxis": {
            "gridcolor": "white",
            "linecolor": "white",
            "ticks": ""
           }
          },
          "title": {
           "x": 0.05
          },
          "xaxis": {
           "automargin": true,
           "gridcolor": "white",
           "linecolor": "white",
           "ticks": "",
           "title": {
            "standoff": 15
           },
           "zerolinecolor": "white",
           "zerolinewidth": 2
          },
          "yaxis": {
           "automargin": true,
           "gridcolor": "white",
           "linecolor": "white",
           "ticks": "",
           "title": {
            "standoff": 15
           },
           "zerolinecolor": "white",
           "zerolinewidth": 2
          }
         }
        },
        "xaxis": {
         "scaleanchor": "y",
         "scaleratio": 1
        },
        "yaxis": {
         "scaleanchor": "x",
         "scaleratio": 1
        }
       }
      }
     },
     "metadata": {},
     "output_type": "display_data"
    }
   ],
   "source": [
    "# add a scatter plot of the vertices to the figure\n",
    "fig.add_trace(go.Scatter(x=[v[0] for v in vertices], y=[v[1] for v in vertices],\n",
    "                         mode=\"markers\",\n",
    "                         marker=dict(color=\"red\", size=5)))\n",
    "\n",
    "fig.show()"
   ]
  },
  {
   "cell_type": "code",
   "execution_count": 31,
   "id": "6997909d",
   "metadata": {},
   "outputs": [
    {
     "data": {
      "application/vnd.plotly.v1+json": {
       "config": {
        "plotlyServerURL": "https://plot.ly"
       },
       "data": [
        {
         "line": {
          "color": "blue",
          "width": 2
         },
         "mode": "lines",
         "type": "scatter",
         "x": [
          0,
          1,
          0.5,
          0
         ],
         "y": [
          0,
          0,
          0.8660254037844386,
          0
         ]
        },
        {
         "marker": {
          "color": "red",
          "size": 5
         },
         "mode": "markers",
         "type": "scatter",
         "x": [
          0.5,
          0.55,
          0.6000000000000001,
          0.6499999999999999,
          0.7,
          0.75,
          0.8,
          0.85,
          0.9,
          0.9500000000000001,
          1,
          0.45,
          0.5,
          0.55,
          0.6,
          0.65,
          0.7,
          0.75,
          0.7999999999999999,
          0.8500000000000001,
          0.9,
          0.4,
          0.44999999999999996,
          0.5,
          0.55,
          0.6000000000000001,
          0.65,
          0.7,
          0.75,
          0.8,
          0.35,
          0.4,
          0.45,
          0.5,
          0.55,
          0.6,
          0.65,
          0.7,
          0.3,
          0.35,
          0.4,
          0.44999999999999996,
          0.5,
          0.55,
          0.6,
          0.25,
          0.30000000000000004,
          0.35,
          0.4,
          0.45,
          0.5,
          0.2,
          0.25,
          0.30000000000000004,
          0.35,
          0.4,
          0.15,
          0.2,
          0.25,
          0.3,
          0.1,
          0.15000000000000002,
          0.2,
          0.05,
          0.1,
          0
         ],
         "y": [
          0.8660254037844386,
          0.7794228634059948,
          0.6928203230275509,
          0.606217782649107,
          0.5196152422706631,
          0.4330127018922193,
          0.34641016151377546,
          0.25980762113533157,
          0.17320508075688773,
          0.08660254037844387,
          0,
          0.7794228634059948,
          0.6928203230275509,
          0.606217782649107,
          0.5196152422706631,
          0.4330127018922193,
          0.34641016151377546,
          0.25980762113533157,
          0.17320508075688773,
          0.08660254037844387,
          0,
          0.6928203230275509,
          0.606217782649107,
          0.5196152422706631,
          0.4330127018922193,
          0.34641016151377546,
          0.25980762113533157,
          0.17320508075688773,
          0.08660254037844387,
          0,
          0.606217782649107,
          0.5196152422706631,
          0.4330127018922193,
          0.34641016151377546,
          0.25980762113533157,
          0.17320508075688773,
          0.08660254037844387,
          0,
          0.5196152422706631,
          0.4330127018922193,
          0.34641016151377546,
          0.25980762113533157,
          0.17320508075688773,
          0.08660254037844387,
          0,
          0.4330127018922193,
          0.34641016151377546,
          0.25980762113533157,
          0.17320508075688773,
          0.08660254037844387,
          0,
          0.34641016151377546,
          0.25980762113533157,
          0.17320508075688773,
          0.08660254037844387,
          0,
          0.25980762113533157,
          0.17320508075688773,
          0.08660254037844387,
          0,
          0.17320508075688773,
          0.08660254037844387,
          0,
          0.08660254037844387,
          0,
          0
         ]
        }
       ],
       "layout": {
        "height": 450,
        "sliders": [
         {
          "currentvalue": {
           "prefix": "Time: ",
           "visible": true,
           "xanchor": "center"
          },
          "steps": [
           {
            "args": [
             [
              "0"
             ],
             {
              "frame": {
               "duration": 0,
               "redraw": true
              },
              "mode": "immediate",
              "transition": {
               "duration": 0
              }
             }
            ],
            "label": "0",
            "method": "animate"
           },
           {
            "args": [
             [
              "1"
             ],
             {
              "frame": {
               "duration": 0,
               "redraw": true
              },
              "mode": "immediate",
              "transition": {
               "duration": 0
              }
             }
            ],
            "label": "1",
            "method": "animate"
           },
           {
            "args": [
             [
              "2"
             ],
             {
              "frame": {
               "duration": 0,
               "redraw": true
              },
              "mode": "immediate",
              "transition": {
               "duration": 0
              }
             }
            ],
            "label": "2",
            "method": "animate"
           },
           {
            "args": [
             [
              "3"
             ],
             {
              "frame": {
               "duration": 0,
               "redraw": true
              },
              "mode": "immediate",
              "transition": {
               "duration": 0
              }
             }
            ],
            "label": "3",
            "method": "animate"
           },
           {
            "args": [
             [
              "4"
             ],
             {
              "frame": {
               "duration": 0,
               "redraw": true
              },
              "mode": "immediate",
              "transition": {
               "duration": 0
              }
             }
            ],
            "label": "4",
            "method": "animate"
           },
           {
            "args": [
             [
              "5"
             ],
             {
              "frame": {
               "duration": 0,
               "redraw": true
              },
              "mode": "immediate",
              "transition": {
               "duration": 0
              }
             }
            ],
            "label": "5",
            "method": "animate"
           },
           {
            "args": [
             [
              "6"
             ],
             {
              "frame": {
               "duration": 0,
               "redraw": true
              },
              "mode": "immediate",
              "transition": {
               "duration": 0
              }
             }
            ],
            "label": "6",
            "method": "animate"
           },
           {
            "args": [
             [
              "7"
             ],
             {
              "frame": {
               "duration": 0,
               "redraw": true
              },
              "mode": "immediate",
              "transition": {
               "duration": 0
              }
             }
            ],
            "label": "7",
            "method": "animate"
           },
           {
            "args": [
             [
              "8"
             ],
             {
              "frame": {
               "duration": 0,
               "redraw": true
              },
              "mode": "immediate",
              "transition": {
               "duration": 0
              }
             }
            ],
            "label": "8",
            "method": "animate"
           },
           {
            "args": [
             [
              "9"
             ],
             {
              "frame": {
               "duration": 0,
               "redraw": true
              },
              "mode": "immediate",
              "transition": {
               "duration": 0
              }
             }
            ],
            "label": "9",
            "method": "animate"
           }
          ]
         }
        ],
        "template": {
         "data": {
          "bar": [
           {
            "error_x": {
             "color": "#2a3f5f"
            },
            "error_y": {
             "color": "#2a3f5f"
            },
            "marker": {
             "line": {
              "color": "#E5ECF6",
              "width": 0.5
             },
             "pattern": {
              "fillmode": "overlay",
              "size": 10,
              "solidity": 0.2
             }
            },
            "type": "bar"
           }
          ],
          "barpolar": [
           {
            "marker": {
             "line": {
              "color": "#E5ECF6",
              "width": 0.5
             },
             "pattern": {
              "fillmode": "overlay",
              "size": 10,
              "solidity": 0.2
             }
            },
            "type": "barpolar"
           }
          ],
          "carpet": [
           {
            "aaxis": {
             "endlinecolor": "#2a3f5f",
             "gridcolor": "white",
             "linecolor": "white",
             "minorgridcolor": "white",
             "startlinecolor": "#2a3f5f"
            },
            "baxis": {
             "endlinecolor": "#2a3f5f",
             "gridcolor": "white",
             "linecolor": "white",
             "minorgridcolor": "white",
             "startlinecolor": "#2a3f5f"
            },
            "type": "carpet"
           }
          ],
          "choropleth": [
           {
            "colorbar": {
             "outlinewidth": 0,
             "ticks": ""
            },
            "type": "choropleth"
           }
          ],
          "contour": [
           {
            "colorbar": {
             "outlinewidth": 0,
             "ticks": ""
            },
            "colorscale": [
             [
              0,
              "#0d0887"
             ],
             [
              0.1111111111111111,
              "#46039f"
             ],
             [
              0.2222222222222222,
              "#7201a8"
             ],
             [
              0.3333333333333333,
              "#9c179e"
             ],
             [
              0.4444444444444444,
              "#bd3786"
             ],
             [
              0.5555555555555556,
              "#d8576b"
             ],
             [
              0.6666666666666666,
              "#ed7953"
             ],
             [
              0.7777777777777778,
              "#fb9f3a"
             ],
             [
              0.8888888888888888,
              "#fdca26"
             ],
             [
              1,
              "#f0f921"
             ]
            ],
            "type": "contour"
           }
          ],
          "contourcarpet": [
           {
            "colorbar": {
             "outlinewidth": 0,
             "ticks": ""
            },
            "type": "contourcarpet"
           }
          ],
          "heatmap": [
           {
            "colorbar": {
             "outlinewidth": 0,
             "ticks": ""
            },
            "colorscale": [
             [
              0,
              "#0d0887"
             ],
             [
              0.1111111111111111,
              "#46039f"
             ],
             [
              0.2222222222222222,
              "#7201a8"
             ],
             [
              0.3333333333333333,
              "#9c179e"
             ],
             [
              0.4444444444444444,
              "#bd3786"
             ],
             [
              0.5555555555555556,
              "#d8576b"
             ],
             [
              0.6666666666666666,
              "#ed7953"
             ],
             [
              0.7777777777777778,
              "#fb9f3a"
             ],
             [
              0.8888888888888888,
              "#fdca26"
             ],
             [
              1,
              "#f0f921"
             ]
            ],
            "type": "heatmap"
           }
          ],
          "histogram": [
           {
            "marker": {
             "pattern": {
              "fillmode": "overlay",
              "size": 10,
              "solidity": 0.2
             }
            },
            "type": "histogram"
           }
          ],
          "histogram2d": [
           {
            "colorbar": {
             "outlinewidth": 0,
             "ticks": ""
            },
            "colorscale": [
             [
              0,
              "#0d0887"
             ],
             [
              0.1111111111111111,
              "#46039f"
             ],
             [
              0.2222222222222222,
              "#7201a8"
             ],
             [
              0.3333333333333333,
              "#9c179e"
             ],
             [
              0.4444444444444444,
              "#bd3786"
             ],
             [
              0.5555555555555556,
              "#d8576b"
             ],
             [
              0.6666666666666666,
              "#ed7953"
             ],
             [
              0.7777777777777778,
              "#fb9f3a"
             ],
             [
              0.8888888888888888,
              "#fdca26"
             ],
             [
              1,
              "#f0f921"
             ]
            ],
            "type": "histogram2d"
           }
          ],
          "histogram2dcontour": [
           {
            "colorbar": {
             "outlinewidth": 0,
             "ticks": ""
            },
            "colorscale": [
             [
              0,
              "#0d0887"
             ],
             [
              0.1111111111111111,
              "#46039f"
             ],
             [
              0.2222222222222222,
              "#7201a8"
             ],
             [
              0.3333333333333333,
              "#9c179e"
             ],
             [
              0.4444444444444444,
              "#bd3786"
             ],
             [
              0.5555555555555556,
              "#d8576b"
             ],
             [
              0.6666666666666666,
              "#ed7953"
             ],
             [
              0.7777777777777778,
              "#fb9f3a"
             ],
             [
              0.8888888888888888,
              "#fdca26"
             ],
             [
              1,
              "#f0f921"
             ]
            ],
            "type": "histogram2dcontour"
           }
          ],
          "mesh3d": [
           {
            "colorbar": {
             "outlinewidth": 0,
             "ticks": ""
            },
            "type": "mesh3d"
           }
          ],
          "parcoords": [
           {
            "line": {
             "colorbar": {
              "outlinewidth": 0,
              "ticks": ""
             }
            },
            "type": "parcoords"
           }
          ],
          "pie": [
           {
            "automargin": true,
            "type": "pie"
           }
          ],
          "scatter": [
           {
            "fillpattern": {
             "fillmode": "overlay",
             "size": 10,
             "solidity": 0.2
            },
            "type": "scatter"
           }
          ],
          "scatter3d": [
           {
            "line": {
             "colorbar": {
              "outlinewidth": 0,
              "ticks": ""
             }
            },
            "marker": {
             "colorbar": {
              "outlinewidth": 0,
              "ticks": ""
             }
            },
            "type": "scatter3d"
           }
          ],
          "scattercarpet": [
           {
            "marker": {
             "colorbar": {
              "outlinewidth": 0,
              "ticks": ""
             }
            },
            "type": "scattercarpet"
           }
          ],
          "scattergeo": [
           {
            "marker": {
             "colorbar": {
              "outlinewidth": 0,
              "ticks": ""
             }
            },
            "type": "scattergeo"
           }
          ],
          "scattergl": [
           {
            "marker": {
             "colorbar": {
              "outlinewidth": 0,
              "ticks": ""
             }
            },
            "type": "scattergl"
           }
          ],
          "scattermap": [
           {
            "marker": {
             "colorbar": {
              "outlinewidth": 0,
              "ticks": ""
             }
            },
            "type": "scattermap"
           }
          ],
          "scattermapbox": [
           {
            "marker": {
             "colorbar": {
              "outlinewidth": 0,
              "ticks": ""
             }
            },
            "type": "scattermapbox"
           }
          ],
          "scatterpolar": [
           {
            "marker": {
             "colorbar": {
              "outlinewidth": 0,
              "ticks": ""
             }
            },
            "type": "scatterpolar"
           }
          ],
          "scatterpolargl": [
           {
            "marker": {
             "colorbar": {
              "outlinewidth": 0,
              "ticks": ""
             }
            },
            "type": "scatterpolargl"
           }
          ],
          "scatterternary": [
           {
            "marker": {
             "colorbar": {
              "outlinewidth": 0,
              "ticks": ""
             }
            },
            "type": "scatterternary"
           }
          ],
          "surface": [
           {
            "colorbar": {
             "outlinewidth": 0,
             "ticks": ""
            },
            "colorscale": [
             [
              0,
              "#0d0887"
             ],
             [
              0.1111111111111111,
              "#46039f"
             ],
             [
              0.2222222222222222,
              "#7201a8"
             ],
             [
              0.3333333333333333,
              "#9c179e"
             ],
             [
              0.4444444444444444,
              "#bd3786"
             ],
             [
              0.5555555555555556,
              "#d8576b"
             ],
             [
              0.6666666666666666,
              "#ed7953"
             ],
             [
              0.7777777777777778,
              "#fb9f3a"
             ],
             [
              0.8888888888888888,
              "#fdca26"
             ],
             [
              1,
              "#f0f921"
             ]
            ],
            "type": "surface"
           }
          ],
          "table": [
           {
            "cells": {
             "fill": {
              "color": "#EBF0F8"
             },
             "line": {
              "color": "white"
             }
            },
            "header": {
             "fill": {
              "color": "#C8D4E3"
             },
             "line": {
              "color": "white"
             }
            },
            "type": "table"
           }
          ]
         },
         "layout": {
          "annotationdefaults": {
           "arrowcolor": "#2a3f5f",
           "arrowhead": 0,
           "arrowwidth": 1
          },
          "autotypenumbers": "strict",
          "coloraxis": {
           "colorbar": {
            "outlinewidth": 0,
            "ticks": ""
           }
          },
          "colorscale": {
           "diverging": [
            [
             0,
             "#8e0152"
            ],
            [
             0.1,
             "#c51b7d"
            ],
            [
             0.2,
             "#de77ae"
            ],
            [
             0.3,
             "#f1b6da"
            ],
            [
             0.4,
             "#fde0ef"
            ],
            [
             0.5,
             "#f7f7f7"
            ],
            [
             0.6,
             "#e6f5d0"
            ],
            [
             0.7,
             "#b8e186"
            ],
            [
             0.8,
             "#7fbc41"
            ],
            [
             0.9,
             "#4d9221"
            ],
            [
             1,
             "#276419"
            ]
           ],
           "sequential": [
            [
             0,
             "#0d0887"
            ],
            [
             0.1111111111111111,
             "#46039f"
            ],
            [
             0.2222222222222222,
             "#7201a8"
            ],
            [
             0.3333333333333333,
             "#9c179e"
            ],
            [
             0.4444444444444444,
             "#bd3786"
            ],
            [
             0.5555555555555556,
             "#d8576b"
            ],
            [
             0.6666666666666666,
             "#ed7953"
            ],
            [
             0.7777777777777778,
             "#fb9f3a"
            ],
            [
             0.8888888888888888,
             "#fdca26"
            ],
            [
             1,
             "#f0f921"
            ]
           ],
           "sequentialminus": [
            [
             0,
             "#0d0887"
            ],
            [
             0.1111111111111111,
             "#46039f"
            ],
            [
             0.2222222222222222,
             "#7201a8"
            ],
            [
             0.3333333333333333,
             "#9c179e"
            ],
            [
             0.4444444444444444,
             "#bd3786"
            ],
            [
             0.5555555555555556,
             "#d8576b"
            ],
            [
             0.6666666666666666,
             "#ed7953"
            ],
            [
             0.7777777777777778,
             "#fb9f3a"
            ],
            [
             0.8888888888888888,
             "#fdca26"
            ],
            [
             1,
             "#f0f921"
            ]
           ]
          },
          "colorway": [
           "#636efa",
           "#EF553B",
           "#00cc96",
           "#ab63fa",
           "#FFA15A",
           "#19d3f3",
           "#FF6692",
           "#B6E880",
           "#FF97FF",
           "#FECB52"
          ],
          "font": {
           "color": "#2a3f5f"
          },
          "geo": {
           "bgcolor": "white",
           "lakecolor": "white",
           "landcolor": "#E5ECF6",
           "showlakes": true,
           "showland": true,
           "subunitcolor": "white"
          },
          "hoverlabel": {
           "align": "left"
          },
          "hovermode": "closest",
          "mapbox": {
           "style": "light"
          },
          "paper_bgcolor": "white",
          "plot_bgcolor": "#E5ECF6",
          "polar": {
           "angularaxis": {
            "gridcolor": "white",
            "linecolor": "white",
            "ticks": ""
           },
           "bgcolor": "#E5ECF6",
           "radialaxis": {
            "gridcolor": "white",
            "linecolor": "white",
            "ticks": ""
           }
          },
          "scene": {
           "xaxis": {
            "backgroundcolor": "#E5ECF6",
            "gridcolor": "white",
            "gridwidth": 2,
            "linecolor": "white",
            "showbackground": true,
            "ticks": "",
            "zerolinecolor": "white"
           },
           "yaxis": {
            "backgroundcolor": "#E5ECF6",
            "gridcolor": "white",
            "gridwidth": 2,
            "linecolor": "white",
            "showbackground": true,
            "ticks": "",
            "zerolinecolor": "white"
           },
           "zaxis": {
            "backgroundcolor": "#E5ECF6",
            "gridcolor": "white",
            "gridwidth": 2,
            "linecolor": "white",
            "showbackground": true,
            "ticks": "",
            "zerolinecolor": "white"
           }
          },
          "shapedefaults": {
           "line": {
            "color": "#2a3f5f"
           }
          },
          "ternary": {
           "aaxis": {
            "gridcolor": "white",
            "linecolor": "white",
            "ticks": ""
           },
           "baxis": {
            "gridcolor": "white",
            "linecolor": "white",
            "ticks": ""
           },
           "bgcolor": "#E5ECF6",
           "caxis": {
            "gridcolor": "white",
            "linecolor": "white",
            "ticks": ""
           }
          },
          "title": {
           "x": 0.05
          },
          "xaxis": {
           "automargin": true,
           "gridcolor": "white",
           "linecolor": "white",
           "ticks": "",
           "title": {
            "standoff": 15
           },
           "zerolinecolor": "white",
           "zerolinewidth": 2
          },
          "yaxis": {
           "automargin": true,
           "gridcolor": "white",
           "linecolor": "white",
           "ticks": "",
           "title": {
            "standoff": 15
           },
           "zerolinecolor": "white",
           "zerolinewidth": 2
          }
         }
        },
        "title": {
         "text": "Kinematic Generation of a Planar Curve",
         "x": 0.5
        },
        "width": 600,
        "xaxis": {
         "autorange": false,
         "range": [
          -1.7499744923987348,
          3.5
         ],
         "scaleanchor": "y",
         "scaleratio": 1,
         "zeroline": false
        },
        "yaxis": {
         "autorange": false,
         "range": [
          -3.5,
          1.7499744923987348
         ],
         "scaleanchor": "x",
         "scaleratio": 1,
         "zeroline": false
        }
       }
      }
     },
     "metadata": {},
     "output_type": "display_data"
    }
   ],
   "source": [
    "# Create slider steps\n",
    "slider_steps = [\n",
    "    dict(\n",
    "        args=[[str(k)],\n",
    "              {\"frame\": {\"duration\": 0, \"redraw\": True},\n",
    "               \"mode\": \"immediate\", \n",
    "               \"transition\": {\"duration\": 0}}],\n",
    "        label=str(k),\n",
    "        method=\"animate\"\n",
    "    ) for k in range(N)\n",
    "]\n",
    "\n",
    "\n",
    "# Update layout with only slider\n",
    "fig.update_layout(\n",
    "    width=600,\n",
    "    height=450,\n",
    "    xaxis=dict(range=[xm, xM], autorange=False, zeroline=False),\n",
    "    yaxis=dict(range=[ym, yM], autorange=False, zeroline=False),\n",
    "    title_text=\"Kinematic Generation of a Planar Curve\", title_x=0.5,\n",
    "    sliders=[dict(\n",
    "        currentvalue={\"prefix\": \"Time: \", \"visible\": True, \"xanchor\": \"center\"},\n",
    "        steps=slider_steps)\n",
    "    ]\n",
    ")\n",
    "\n",
    "fig.show()"
   ]
  }
 ],
 "metadata": {
  "kernelspec": {
   "display_name": "base",
   "language": "python",
   "name": "python3"
  },
  "language_info": {
   "codemirror_mode": {
    "name": "ipython",
    "version": 3
   },
   "file_extension": ".py",
   "mimetype": "text/x-python",
   "name": "python",
   "nbconvert_exporter": "python",
   "pygments_lexer": "ipython3",
   "version": "3.12.2"
  }
 },
 "nbformat": 4,
 "nbformat_minor": 5
}
